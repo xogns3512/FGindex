{
 "cells": [
  {
   "cell_type": "code",
   "execution_count": 31,
   "id": "07d4a8f9-e65f-4357-b32d-1f9cd95559ed",
   "metadata": {
    "execution": {
     "iopub.execute_input": "2022-11-24T05:53:32.420566Z",
     "iopub.status.busy": "2022-11-24T05:53:32.420154Z",
     "iopub.status.idle": "2022-11-24T05:53:32.426060Z",
     "shell.execute_reply": "2022-11-24T05:53:32.425027Z",
     "shell.execute_reply.started": "2022-11-24T05:53:32.420516Z"
    },
    "tags": []
   },
   "outputs": [],
   "source": [
    "# minio client 생성\n",
    "from minio import Minio\n",
    "\n",
    "minioClient = Minio(\n",
    "    \"192.168.0.207:8801\",  # URI\n",
    "    access_key=\"minioadmin\",\n",
    "    secret_key=\"minioadmin\",\n",
    "    secure=False)"
   ]
  },
  {
   "cell_type": "code",
   "execution_count": 5,
   "id": "581782ba-5c33-4c8c-ac17-73746ba139d3",
   "metadata": {
    "execution": {
     "iopub.execute_input": "2022-11-24T05:30:09.063050Z",
     "iopub.status.busy": "2022-11-24T05:30:09.062585Z",
     "iopub.status.idle": "2022-11-24T05:30:09.067701Z",
     "shell.execute_reply": "2022-11-24T05:30:09.066290Z",
     "shell.execute_reply.started": "2022-11-24T05:30:09.062995Z"
    },
    "tags": []
   },
   "outputs": [],
   "source": [
    "# # bucket 내 모든 object 리스트 확인\n",
    "# objects = client.list_objects(\"stock-dataset\", prefix=\"/\", recursive=True)\n",
    "# for obj in objects:\n",
    "#     print(obj.object_name, obj.size)"
   ]
  },
  {
   "cell_type": "code",
   "execution_count": 10,
   "id": "55abe7fd-5476-40ad-9137-48aef6e50ca9",
   "metadata": {
    "execution": {
     "iopub.execute_input": "2022-11-24T05:37:29.025083Z",
     "iopub.status.busy": "2022-11-24T05:37:29.024623Z",
     "iopub.status.idle": "2022-11-24T05:37:29.030259Z",
     "shell.execute_reply": "2022-11-24T05:37:29.028879Z",
     "shell.execute_reply.started": "2022-11-24T05:37:29.025027Z"
    },
    "tags": []
   },
   "outputs": [],
   "source": [
    "# client.make_bucket(\"stock-dataset/data\")"
   ]
  },
  {
   "cell_type": "code",
   "execution_count": 61,
   "id": "d477b7e3-d618-42a9-969b-719bc0985ef3",
   "metadata": {
    "execution": {
     "iopub.execute_input": "2022-11-24T06:34:57.946511Z",
     "iopub.status.busy": "2022-11-24T06:34:57.946057Z",
     "iopub.status.idle": "2022-11-24T06:34:57.950979Z",
     "shell.execute_reply": "2022-11-24T06:34:57.949802Z",
     "shell.execute_reply.started": "2022-11-24T06:34:57.946455Z"
    },
    "tags": []
   },
   "outputs": [],
   "source": [
    "# result = client.fget_object(\"dataset\", \"data\", \"data_FGscore\")"
   ]
  },
  {
   "cell_type": "code",
   "execution_count": 83,
   "id": "ebc793a0-c228-4302-8330-97c322818e4a",
   "metadata": {
    "execution": {
     "iopub.execute_input": "2022-11-24T06:39:41.193840Z",
     "iopub.status.busy": "2022-11-24T06:39:41.193355Z",
     "iopub.status.idle": "2022-11-24T06:39:41.204479Z",
     "shell.execute_reply": "2022-11-24T06:39:41.202899Z",
     "shell.execute_reply.started": "2022-11-24T06:39:41.193783Z"
    },
    "tags": []
   },
   "outputs": [],
   "source": [
    "def upload_local_directory_to_minio(local_path: str, bucket_name: str):\n",
    "    assert os.path.isdir(local_path)\n",
    "\n",
    "    for local_file in glob.glob(local_path + '/**'):\n",
    "        local_file = local_file.replace(os.sep, \"/\")\n",
    "        if not os.path.isfile(local_file):\n",
    "            upload_local_directory_to_minio(\n",
    "                local_file, bucket_name)\n",
    "        else:\n",
    "            remote_path = os.path.join(\n",
    "                local_file[1 + len(local_path):])\n",
    "            remote_path = remote_path.replace(\n",
    "                os.sep, \"/\")\n",
    "            minioClient.fput_object(bucket_name, local_path+'/'+remote_path, local_file)\n",
    "            # print('data_FGscore/' + remote_path)"
   ]
  },
  {
   "cell_type": "code",
   "execution_count": 84,
   "id": "3e3ea355-1406-4174-aa4c-a66e7c929049",
   "metadata": {
    "execution": {
     "iopub.execute_input": "2022-11-24T06:39:41.392651Z",
     "iopub.status.busy": "2022-11-24T06:39:41.392205Z",
     "iopub.status.idle": "2022-11-24T06:39:41.398043Z",
     "shell.execute_reply": "2022-11-24T06:39:41.396689Z",
     "shell.execute_reply.started": "2022-11-24T06:39:41.392598Z"
    },
    "tags": []
   },
   "outputs": [],
   "source": [
    "import os"
   ]
  },
  {
   "cell_type": "code",
   "execution_count": 85,
   "id": "85b4e977-caef-443a-aab8-4ba6c6c41fb9",
   "metadata": {
    "execution": {
     "iopub.execute_input": "2022-11-24T06:39:41.600905Z",
     "iopub.status.busy": "2022-11-24T06:39:41.600445Z",
     "iopub.status.idle": "2022-11-24T06:39:41.605772Z",
     "shell.execute_reply": "2022-11-24T06:39:41.604503Z",
     "shell.execute_reply.started": "2022-11-24T06:39:41.600850Z"
    },
    "tags": []
   },
   "outputs": [],
   "source": [
    "import glob"
   ]
  },
  {
   "cell_type": "code",
   "execution_count": 86,
   "id": "b67d5f0e-3b15-48df-a83c-b854861691d2",
   "metadata": {
    "execution": {
     "iopub.execute_input": "2022-11-24T06:39:41.897400Z",
     "iopub.status.busy": "2022-11-24T06:39:41.896621Z",
     "iopub.status.idle": "2022-11-24T06:39:46.322213Z",
     "shell.execute_reply": "2022-11-24T06:39:46.320896Z",
     "shell.execute_reply.started": "2022-11-24T06:39:41.897344Z"
    },
    "tags": []
   },
   "outputs": [],
   "source": [
    "upload_local_directory_to_minio('data_macro', 'stock-dataset')"
   ]
  },
  {
   "cell_type": "code",
   "execution_count": 44,
   "id": "b7aa987b-fcf7-4c9e-9b04-eedac4467c3f",
   "metadata": {
    "execution": {
     "iopub.execute_input": "2022-11-24T05:55:40.400707Z",
     "iopub.status.busy": "2022-11-24T05:55:40.400239Z",
     "iopub.status.idle": "2022-11-24T05:55:40.407534Z",
     "shell.execute_reply": "2022-11-24T05:55:40.406533Z",
     "shell.execute_reply.started": "2022-11-24T05:55:40.400648Z"
    },
    "tags": []
   },
   "outputs": [
    {
     "data": {
      "text/plain": [
       "True"
      ]
     },
     "execution_count": 49,
     "metadata": {},
     "output_type": "execute_result"
    }
   ],
   "source": [
    "os.path.isfile('data_FGscore/1027.csv')"
   ]
  },
  {
   "cell_type": "code",
   "execution_count": 52,
   "id": "961b79d1-9f61-488d-a436-7eed2cb2f9fa",
   "metadata": {
    "execution": {
     "iopub.execute_input": "2022-11-24T06:30:00.555319Z",
     "iopub.status.busy": "2022-11-24T06:30:00.554867Z",
     "iopub.status.idle": "2022-11-24T06:30:00.578634Z",
     "shell.execute_reply": "2022-11-24T06:30:00.577556Z",
     "shell.execute_reply.started": "2022-11-24T06:30:00.555264Z"
    },
    "tags": []
   },
   "outputs": [
    {
     "name": "stdout",
     "output_type": "stream",
     "text": [
      "data_FGscore/1027.csv\n",
      "data_FGscore/2213.csv\n",
      "data_FGscore/1151.csv\n",
      "data_FGscore/1158.csv\n",
      "data_FGscore/2217.csv\n",
      "data_FGscore/1156.csv\n",
      "data_FGscore/1152.csv\n",
      "data_FGscore/2037.csv\n",
      "data_FGscore/1015.csv\n",
      "data_FGscore/2062.csv\n",
      "data_FGscore/1011.csv\n",
      "data_FGscore/1002.csv\n",
      "data_FGscore/1026.csv\n",
      "data_FGscore/2067.csv\n",
      "data_FGscore/1159.csv\n",
      "data_FGscore/2151.csv\n",
      "data_FGscore/1001.csv\n",
      "data_FGscore/2026.csv\n",
      "data_FGscore/2072.csv\n",
      "data_FGscore/2203.csv\n",
      "data_FGscore/1244.csv\n",
      "data_FGscore/2058.csv\n",
      "data_FGscore/2157.csv\n",
      "data_FGscore/1017.csv\n",
      "data_FGscore/1160.csv\n",
      "data_FGscore/1022.csv\n",
      "data_FGscore/2012.csv\n",
      "data_FGscore/1025.csv\n",
      "data_FGscore/1035.csv\n",
      "data_FGscore/2077.csv\n",
      "data_FGscore/2042.csv\n",
      "data_FGscore/1014.csv\n",
      "data_FGscore/2043.csv\n",
      "data_FGscore/2155.csv\n",
      "data_FGscore/2212.csv\n",
      "data_FGscore/1012.csv\n",
      "data_FGscore/1006.csv\n",
      "data_FGscore/2041.csv\n",
      "data_FGscore/2001.csv\n",
      "data_FGscore/2184.csv\n",
      "data_FGscore/2158.csv\n",
      "data_FGscore/1016.csv\n",
      "data_FGscore/1155.csv\n",
      "data_FGscore/2074.csv\n",
      "data_FGscore/2002.csv\n",
      "data_FGscore/2182.csv\n",
      "data_FGscore/2216.csv\n",
      "data_FGscore/1004.csv\n",
      "data_FGscore/2024.csv\n",
      "data_FGscore/2159.csv\n",
      "data_FGscore/1153.csv\n",
      "data_FGscore/2063.csv\n",
      "data_FGscore/2075.csv\n",
      "data_FGscore/1157.csv\n",
      "data_FGscore/2029.csv\n",
      "data_FGscore/2066.csv\n",
      "data_FGscore/1182.csv\n",
      "data_FGscore/2031.csv\n",
      "data_FGscore/2152.csv\n",
      "data_FGscore/2027.csv\n",
      "data_FGscore/2056.csv\n",
      "data_FGscore/1150.csv\n",
      "data_FGscore/1010.csv\n",
      "data_FGscore/1232.csv\n",
      "data_FGscore/1020.csv\n",
      "data_FGscore/2218.csv\n",
      "data_FGscore/2015.csv\n",
      "data_FGscore/1894.csv\n",
      "data_FGscore/2214.csv\n",
      "data_FGscore/1024.csv\n",
      "data_FGscore/2181.csv\n",
      "data_FGscore/2160.csv\n",
      "data_FGscore/1008.csv\n",
      "data_FGscore/1007.csv\n",
      "data_FGscore/1018.csv\n",
      "data_FGscore/2070.csv\n",
      "data_FGscore/2183.csv\n",
      "data_FGscore/1005.csv\n",
      "data_FGscore/1034.csv\n",
      "data_FGscore/1019.csv\n",
      "data_FGscore/1224.csv\n",
      "data_FGscore/1154.csv\n",
      "data_FGscore/1013.csv\n",
      "data_FGscore/1021.csv\n",
      "data_FGscore/2068.csv\n",
      "data_FGscore/1028.csv\n",
      "data_FGscore/2215.csv\n",
      "data_FGscore/1227.csv\n",
      "data_FGscore/1003.csv\n",
      "data_FGscore/2065.csv\n",
      "data_FGscore/1167.csv\n",
      "data_FGscore/2156.csv\n",
      "data_FGscore/2154.csv\n",
      "data_FGscore/2004.csv\n",
      "data_FGscore/1009.csv\n",
      "data_FGscore/2003.csv\n",
      "data_FGscore/2153.csv\n"
     ]
    }
   ],
   "source": [
    "\n",
    "for local_file in glob.glob(local_path + '/**'):\n",
    "    local_file = local_file.replace(os.sep, \"/\")\n",
    "    print(local_file)\n",
    "    # print(os.path.isfile(local_file))"
   ]
  },
  {
   "cell_type": "code",
   "execution_count": null,
   "id": "7f55b5c6-120b-4fad-aed6-6c465eb80ef8",
   "metadata": {},
   "outputs": [],
   "source": []
  }
 ],
 "metadata": {
  "kernelspec": {
   "display_name": "Python 3",
   "language": "python",
   "name": "python3"
  },
  "language_info": {
   "codemirror_mode": {
    "name": "ipython",
    "version": 3
   },
   "file_extension": ".py",
   "mimetype": "text/x-python",
   "name": "python",
   "nbconvert_exporter": "python",
   "pygments_lexer": "ipython3",
   "version": "3.8.5"
  }
 },
 "nbformat": 4,
 "nbformat_minor": 5
}
