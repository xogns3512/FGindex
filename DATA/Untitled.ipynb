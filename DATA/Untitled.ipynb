{
 "cells": [
  {
   "cell_type": "code",
   "execution_count": 31,
   "id": "07d4a8f9-e65f-4357-b32d-1f9cd95559ed",
   "metadata": {
    "execution": {
     "iopub.execute_input": "2022-11-24T05:53:32.420566Z",
     "iopub.status.busy": "2022-11-24T05:53:32.420154Z",
     "iopub.status.idle": "2022-11-24T05:53:32.426060Z",
     "shell.execute_reply": "2022-11-24T05:53:32.425027Z",
     "shell.execute_reply.started": "2022-11-24T05:53:32.420516Z"
    },
    "tags": []
   },
   "outputs": [],
   "source": [
    "# minio client 생성\n",
    "from minio import Minio\n",
    "\n",
    "minioClient = Minio(\n",
    "    \"192.168.0.207:8801\",  # URI\n",
    "    access_key=\"minioadmin\",\n",
    "    secret_key=\"minioadmin\",\n",
    "    secure=False)"
   ]
  },
  {
   "cell_type": "code",
   "execution_count": 5,
   "id": "581782ba-5c33-4c8c-ac17-73746ba139d3",
   "metadata": {
    "execution": {
     "iopub.execute_input": "2022-11-24T05:30:09.063050Z",
     "iopub.status.busy": "2022-11-24T05:30:09.062585Z",
     "iopub.status.idle": "2022-11-24T05:30:09.067701Z",
     "shell.execute_reply": "2022-11-24T05:30:09.066290Z",
     "shell.execute_reply.started": "2022-11-24T05:30:09.062995Z"
    },
    "tags": []
   },
   "outputs": [],
   "source": [
    "# # bucket 내 모든 object 리스트 확인\n",
    "# objects = client.list_objects(\"stock-dataset\", prefix=\"/\", recursive=True)\n",
    "# for obj in objects:\n",
    "#     print(obj.object_name, obj.size)"
   ]
  },
  {
   "cell_type": "code",
   "execution_count": 10,
   "id": "55abe7fd-5476-40ad-9137-48aef6e50ca9",
   "metadata": {
    "execution": {
     "iopub.execute_input": "2022-11-24T05:37:29.025083Z",
     "iopub.status.busy": "2022-11-24T05:37:29.024623Z",
     "iopub.status.idle": "2022-11-24T05:37:29.030259Z",
     "shell.execute_reply": "2022-11-24T05:37:29.028879Z",
     "shell.execute_reply.started": "2022-11-24T05:37:29.025027Z"
    },
    "tags": []
   },
   "outputs": [],
   "source": [
    "# client.make_bucket(\"stock-dataset/data\")"
   ]
  },
  {
   "cell_type": "code",
   "execution_count": 61,
   "id": "d477b7e3-d618-42a9-969b-719bc0985ef3",
   "metadata": {
    "execution": {
     "iopub.execute_input": "2022-11-24T06:34:57.946511Z",
     "iopub.status.busy": "2022-11-24T06:34:57.946057Z",
     "iopub.status.idle": "2022-11-24T06:34:57.950979Z",
     "shell.execute_reply": "2022-11-24T06:34:57.949802Z",
     "shell.execute_reply.started": "2022-11-24T06:34:57.946455Z"
    },
    "tags": []
   },
   "outputs": [],
   "source": [
    "# result = client.fget_object(\"dataset\", \"data\", \"data_FGscore\")"
   ]
  },
  {
   "cell_type": "code",
   "execution_count": 91,
   "id": "ebc793a0-c228-4302-8330-97c322818e4a",
   "metadata": {
    "execution": {
     "iopub.execute_input": "2022-11-24T06:41:14.472299Z",
     "iopub.status.busy": "2022-11-24T06:41:14.471986Z",
     "iopub.status.idle": "2022-11-24T06:41:14.478831Z",
     "shell.execute_reply": "2022-11-24T06:41:14.477944Z",
     "shell.execute_reply.started": "2022-11-24T06:41:14.472263Z"
    },
    "tags": []
   },
   "outputs": [],
   "source": [
    "def upload_local_directory_to_minio(local_path: str, bucket_name: str):\n",
    "    assert os.path.isdir(local_path)\n",
    "\n",
    "    for local_file in glob.glob(local_path + '/**'):\n",
    "        local_file = local_file.replace(os.sep, \"/\")\n",
    "        if not os.path.isfile(local_file):\n",
    "            upload_local_directory_to_minio(\n",
    "                local_file, bucket_name)\n",
    "        else:\n",
    "            remote_path = os.path.join(\n",
    "                local_file[1 + len(local_path):])\n",
    "            remote_path = remote_path.replace(\n",
    "                os.sep, \"/\")\n",
    "            minioClient.fput_object(bucket_name, local_path+'/'+remote_path, local_file)\n",
    "            # print('data_FGscore/' + remote_path)"
   ]
  },
  {
   "cell_type": "code",
   "execution_count": 92,
   "id": "3e3ea355-1406-4174-aa4c-a66e7c929049",
   "metadata": {
    "execution": {
     "iopub.execute_input": "2022-11-24T06:41:15.312981Z",
     "iopub.status.busy": "2022-11-24T06:41:15.312534Z",
     "iopub.status.idle": "2022-11-24T06:41:15.317850Z",
     "shell.execute_reply": "2022-11-24T06:41:15.316514Z",
     "shell.execute_reply.started": "2022-11-24T06:41:15.312926Z"
    },
    "tags": []
   },
   "outputs": [],
   "source": [
    "import os"
   ]
  },
  {
   "cell_type": "code",
   "execution_count": 93,
   "id": "85b4e977-caef-443a-aab8-4ba6c6c41fb9",
   "metadata": {
    "execution": {
     "iopub.execute_input": "2022-11-24T06:41:15.521339Z",
     "iopub.status.busy": "2022-11-24T06:41:15.520878Z",
     "iopub.status.idle": "2022-11-24T06:41:15.526492Z",
     "shell.execute_reply": "2022-11-24T06:41:15.524991Z",
     "shell.execute_reply.started": "2022-11-24T06:41:15.521282Z"
    },
    "tags": []
   },
   "outputs": [],
   "source": [
    "import glob"
   ]
  },
  {
   "cell_type": "code",
   "execution_count": 96,
   "id": "b67d5f0e-3b15-48df-a83c-b854861691d2",
   "metadata": {
    "execution": {
     "iopub.execute_input": "2022-11-24T06:41:43.562695Z",
     "iopub.status.busy": "2022-11-24T06:41:43.562246Z",
     "iopub.status.idle": "2022-11-24T06:41:47.144278Z",
     "shell.execute_reply": "2022-11-24T06:41:47.143020Z",
     "shell.execute_reply.started": "2022-11-24T06:41:43.562640Z"
    },
    "tags": []
   },
   "outputs": [],
   "source": [
    "upload_local_directory_to_minio('portfolio_metric', 'stock-dataset')"
   ]
  },
  {
   "cell_type": "code",
   "execution_count": null,
   "id": "7f55b5c6-120b-4fad-aed6-6c465eb80ef8",
   "metadata": {},
   "outputs": [],
   "source": []
  }
 ],
 "metadata": {
  "kernelspec": {
   "display_name": "Python 3",
   "language": "python",
   "name": "python3"
  },
  "language_info": {
   "codemirror_mode": {
    "name": "ipython",
    "version": 3
   },
   "file_extension": ".py",
   "mimetype": "text/x-python",
   "name": "python",
   "nbconvert_exporter": "python",
   "pygments_lexer": "ipython3",
   "version": "3.8.5"
  },
  "toc-autonumbering": false,
  "toc-showcode": false,
  "toc-showmarkdowntxt": false
 },
 "nbformat": 4,
 "nbformat_minor": 5
}
