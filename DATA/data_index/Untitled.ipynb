{
 "cells": [
  {
   "cell_type": "code",
   "execution_count": null,
   "id": "e40ad2f0-6965-4155-82c3-d6d53109565c",
   "metadata": {},
   "outputs": [],
   "source": []
  },
  {
   "cell_type": "code",
   "execution_count": 3,
   "id": "12a6280e-7716-4a5a-a9d7-c751711e75fc",
   "metadata": {
    "execution": {
     "iopub.execute_input": "2022-11-17T06:05:10.588268Z",
     "iopub.status.busy": "2022-11-17T06:05:10.587800Z",
     "iopub.status.idle": "2022-11-17T06:05:10.853212Z",
     "shell.execute_reply": "2022-11-17T06:05:10.852214Z",
     "shell.execute_reply.started": "2022-11-17T06:05:10.588210Z"
    },
    "tags": []
   },
   "outputs": [],
   "source": [
    "import pandas as pd"
   ]
  },
  {
   "cell_type": "code",
   "execution_count": 4,
   "id": "32ccbfd4-2900-4a51-8389-a770f903dc72",
   "metadata": {
    "execution": {
     "iopub.execute_input": "2022-11-17T06:05:12.078402Z",
     "iopub.status.busy": "2022-11-17T06:05:12.077909Z",
     "iopub.status.idle": "2022-11-17T06:05:12.085144Z",
     "shell.execute_reply": "2022-11-17T06:05:12.083203Z",
     "shell.execute_reply.started": "2022-11-17T06:05:12.078346Z"
    },
    "tags": []
   },
   "outputs": [],
   "source": [
    "# pd.read_csv('./FGindex/DATA/data_index/Stock_list.csv')"
   ]
  },
  {
   "cell_type": "code",
   "execution_count": 5,
   "id": "284f41c7-10cf-412d-8b8f-b5ce49153f80",
   "metadata": {
    "execution": {
     "iopub.execute_input": "2022-11-17T06:05:12.342061Z",
     "iopub.status.busy": "2022-11-17T06:05:12.341580Z",
     "iopub.status.idle": "2022-11-17T06:05:12.375503Z",
     "shell.execute_reply": "2022-11-17T06:05:12.374624Z",
     "shell.execute_reply.started": "2022-11-17T06:05:12.342006Z"
    },
    "tags": []
   },
   "outputs": [
    {
     "data": {
      "text/html": [
       "<div>\n",
       "<style scoped>\n",
       "    .dataframe tbody tr th:only-of-type {\n",
       "        vertical-align: middle;\n",
       "    }\n",
       "\n",
       "    .dataframe tbody tr th {\n",
       "        vertical-align: top;\n",
       "    }\n",
       "\n",
       "    .dataframe thead th {\n",
       "        text-align: right;\n",
       "    }\n",
       "</style>\n",
       "<table border=\"1\" class=\"dataframe\">\n",
       "  <thead>\n",
       "    <tr style=\"text-align: right;\">\n",
       "      <th></th>\n",
       "      <th>Unnamed: 0</th>\n",
       "      <th>idx</th>\n",
       "      <th>name</th>\n",
       "    </tr>\n",
       "  </thead>\n",
       "  <tbody>\n",
       "    <tr>\n",
       "      <th>0</th>\n",
       "      <td>0</td>\n",
       "      <td>1001</td>\n",
       "      <td>코스피</td>\n",
       "    </tr>\n",
       "    <tr>\n",
       "      <th>1</th>\n",
       "      <td>1</td>\n",
       "      <td>1002</td>\n",
       "      <td>코스피 대형주</td>\n",
       "    </tr>\n",
       "    <tr>\n",
       "      <th>2</th>\n",
       "      <td>2</td>\n",
       "      <td>1003</td>\n",
       "      <td>코스피 중형주</td>\n",
       "    </tr>\n",
       "    <tr>\n",
       "      <th>3</th>\n",
       "      <td>3</td>\n",
       "      <td>1004</td>\n",
       "      <td>코스피 소형주</td>\n",
       "    </tr>\n",
       "    <tr>\n",
       "      <th>4</th>\n",
       "      <td>4</td>\n",
       "      <td>1005</td>\n",
       "      <td>음식료품</td>\n",
       "    </tr>\n",
       "    <tr>\n",
       "      <th>...</th>\n",
       "      <td>...</td>\n",
       "      <td>...</td>\n",
       "      <td>...</td>\n",
       "    </tr>\n",
       "    <tr>\n",
       "      <th>92</th>\n",
       "      <td>92</td>\n",
       "      <td>2214</td>\n",
       "      <td>코스닥 150 필수소비재</td>\n",
       "    </tr>\n",
       "    <tr>\n",
       "      <th>93</th>\n",
       "      <td>93</td>\n",
       "      <td>2215</td>\n",
       "      <td>코스닥 150 자유소비재</td>\n",
       "    </tr>\n",
       "    <tr>\n",
       "      <th>94</th>\n",
       "      <td>94</td>\n",
       "      <td>2216</td>\n",
       "      <td>코스닥 150 정보기술</td>\n",
       "    </tr>\n",
       "    <tr>\n",
       "      <th>95</th>\n",
       "      <td>95</td>\n",
       "      <td>2217</td>\n",
       "      <td>코스닥 150 헬스케어</td>\n",
       "    </tr>\n",
       "    <tr>\n",
       "      <th>96</th>\n",
       "      <td>96</td>\n",
       "      <td>2218</td>\n",
       "      <td>코스닥 150 커뮤니케이션서비스</td>\n",
       "    </tr>\n",
       "  </tbody>\n",
       "</table>\n",
       "<p>97 rows × 3 columns</p>\n",
       "</div>"
      ],
      "text/plain": [
       "    Unnamed: 0   idx               name\n",
       "0            0  1001                코스피\n",
       "1            1  1002            코스피 대형주\n",
       "2            2  1003            코스피 중형주\n",
       "3            3  1004            코스피 소형주\n",
       "4            4  1005               음식료품\n",
       "..         ...   ...                ...\n",
       "92          92  2214      코스닥 150 필수소비재\n",
       "93          93  2215      코스닥 150 자유소비재\n",
       "94          94  2216       코스닥 150 정보기술\n",
       "95          95  2217       코스닥 150 헬스케어\n",
       "96          96  2218  코스닥 150 커뮤니케이션서비스\n",
       "\n",
       "[97 rows x 3 columns]"
      ]
     },
     "execution_count": 5,
     "metadata": {},
     "output_type": "execute_result"
    }
   ],
   "source": [
    "tmp = pd.read_csv(\"Stock_list.csv\")\n",
    "tmp"
   ]
  },
  {
   "cell_type": "code",
   "execution_count": 6,
   "id": "5272d53d-04f2-4809-b20b-c2e8cfd01271",
   "metadata": {
    "execution": {
     "iopub.execute_input": "2022-11-17T06:05:15.101999Z",
     "iopub.status.busy": "2022-11-17T06:05:15.101334Z",
     "iopub.status.idle": "2022-11-17T06:05:15.108589Z",
     "shell.execute_reply": "2022-11-17T06:05:15.107227Z",
     "shell.execute_reply.started": "2022-11-17T06:05:15.101941Z"
    },
    "tags": []
   },
   "outputs": [],
   "source": [
    "tt = '1001 : 코스피.png'"
   ]
  },
  {
   "cell_type": "code",
   "execution_count": 7,
   "id": "cb7256fe-cb3e-4fcc-a85e-bced5e0413e5",
   "metadata": {
    "execution": {
     "iopub.execute_input": "2022-11-17T06:05:15.434493Z",
     "iopub.status.busy": "2022-11-17T06:05:15.433827Z",
     "iopub.status.idle": "2022-11-17T06:05:15.444409Z",
     "shell.execute_reply": "2022-11-17T06:05:15.442990Z",
     "shell.execute_reply.started": "2022-11-17T06:05:15.434436Z"
    },
    "tags": []
   },
   "outputs": [
    {
     "data": {
      "text/plain": [
       "['1001', ':', '코스피.png']"
      ]
     },
     "execution_count": 7,
     "metadata": {},
     "output_type": "execute_result"
    }
   ],
   "source": [
    "tt.split()"
   ]
  },
  {
   "cell_type": "code",
   "execution_count": 8,
   "id": "e43ef3c9-78ac-4747-be24-79e51f0a1ff6",
   "metadata": {
    "execution": {
     "iopub.execute_input": "2022-11-17T06:05:16.430953Z",
     "iopub.status.busy": "2022-11-17T06:05:16.430469Z",
     "iopub.status.idle": "2022-11-17T06:05:16.455180Z",
     "shell.execute_reply": "2022-11-17T06:05:16.454197Z",
     "shell.execute_reply.started": "2022-11-17T06:05:16.430897Z"
    },
    "tags": []
   },
   "outputs": [],
   "source": [
    "tt = pd.read_csv('../data_FGscore/{}.csv'.format('1001'))"
   ]
  },
  {
   "cell_type": "code",
   "execution_count": 9,
   "id": "4b45f021-7e27-46f9-b51e-f66641fe6b28",
   "metadata": {
    "execution": {
     "iopub.execute_input": "2022-11-17T06:05:16.933925Z",
     "iopub.status.busy": "2022-11-17T06:05:16.933437Z",
     "iopub.status.idle": "2022-11-17T06:05:16.956062Z",
     "shell.execute_reply": "2022-11-17T06:05:16.955132Z",
     "shell.execute_reply.started": "2022-11-17T06:05:16.933868Z"
    },
    "tags": []
   },
   "outputs": [
    {
     "data": {
      "text/html": [
       "<div>\n",
       "<style scoped>\n",
       "    .dataframe tbody tr th:only-of-type {\n",
       "        vertical-align: middle;\n",
       "    }\n",
       "\n",
       "    .dataframe tbody tr th {\n",
       "        vertical-align: top;\n",
       "    }\n",
       "\n",
       "    .dataframe thead th {\n",
       "        text-align: right;\n",
       "    }\n",
       "</style>\n",
       "<table border=\"1\" class=\"dataframe\">\n",
       "  <thead>\n",
       "    <tr style=\"text-align: right;\">\n",
       "      <th></th>\n",
       "      <th>Unnamed: 0</th>\n",
       "      <th>date</th>\n",
       "      <th>close</th>\n",
       "      <th>FG_score</th>\n",
       "    </tr>\n",
       "  </thead>\n",
       "  <tbody>\n",
       "    <tr>\n",
       "      <th>0</th>\n",
       "      <td>365</td>\n",
       "      <td>1981-04-06</td>\n",
       "      <td>110.30</td>\n",
       "      <td>0.568216</td>\n",
       "    </tr>\n",
       "    <tr>\n",
       "      <th>1</th>\n",
       "      <td>366</td>\n",
       "      <td>1981-04-07</td>\n",
       "      <td>109.60</td>\n",
       "      <td>0.545091</td>\n",
       "    </tr>\n",
       "    <tr>\n",
       "      <th>2</th>\n",
       "      <td>367</td>\n",
       "      <td>1981-04-08</td>\n",
       "      <td>111.00</td>\n",
       "      <td>0.566989</td>\n",
       "    </tr>\n",
       "    <tr>\n",
       "      <th>3</th>\n",
       "      <td>368</td>\n",
       "      <td>1981-04-09</td>\n",
       "      <td>110.80</td>\n",
       "      <td>0.562368</td>\n",
       "    </tr>\n",
       "    <tr>\n",
       "      <th>4</th>\n",
       "      <td>369</td>\n",
       "      <td>1981-04-10</td>\n",
       "      <td>112.00</td>\n",
       "      <td>0.580350</td>\n",
       "    </tr>\n",
       "    <tr>\n",
       "      <th>...</th>\n",
       "      <td>...</td>\n",
       "      <td>...</td>\n",
       "      <td>...</td>\n",
       "      <td>...</td>\n",
       "    </tr>\n",
       "    <tr>\n",
       "      <th>11065</th>\n",
       "      <td>11430</td>\n",
       "      <td>2022-10-04</td>\n",
       "      <td>2209.38</td>\n",
       "      <td>0.396158</td>\n",
       "    </tr>\n",
       "    <tr>\n",
       "      <th>11066</th>\n",
       "      <td>11431</td>\n",
       "      <td>2022-10-05</td>\n",
       "      <td>2215.22</td>\n",
       "      <td>0.410557</td>\n",
       "    </tr>\n",
       "    <tr>\n",
       "      <th>11067</th>\n",
       "      <td>11432</td>\n",
       "      <td>2022-10-06</td>\n",
       "      <td>2237.86</td>\n",
       "      <td>0.441439</td>\n",
       "    </tr>\n",
       "    <tr>\n",
       "      <th>11068</th>\n",
       "      <td>11433</td>\n",
       "      <td>2022-10-07</td>\n",
       "      <td>2232.84</td>\n",
       "      <td>0.436775</td>\n",
       "    </tr>\n",
       "    <tr>\n",
       "      <th>11069</th>\n",
       "      <td>11434</td>\n",
       "      <td>2022-10-11</td>\n",
       "      <td>2192.07</td>\n",
       "      <td>0.397455</td>\n",
       "    </tr>\n",
       "  </tbody>\n",
       "</table>\n",
       "<p>11070 rows × 4 columns</p>\n",
       "</div>"
      ],
      "text/plain": [
       "       Unnamed: 0        date    close  FG_score\n",
       "0             365  1981-04-06   110.30  0.568216\n",
       "1             366  1981-04-07   109.60  0.545091\n",
       "2             367  1981-04-08   111.00  0.566989\n",
       "3             368  1981-04-09   110.80  0.562368\n",
       "4             369  1981-04-10   112.00  0.580350\n",
       "...           ...         ...      ...       ...\n",
       "11065       11430  2022-10-04  2209.38  0.396158\n",
       "11066       11431  2022-10-05  2215.22  0.410557\n",
       "11067       11432  2022-10-06  2237.86  0.441439\n",
       "11068       11433  2022-10-07  2232.84  0.436775\n",
       "11069       11434  2022-10-11  2192.07  0.397455\n",
       "\n",
       "[11070 rows x 4 columns]"
      ]
     },
     "execution_count": 9,
     "metadata": {},
     "output_type": "execute_result"
    }
   ],
   "source": [
    "tt"
   ]
  },
  {
   "cell_type": "code",
   "execution_count": 10,
   "id": "29d27d0b-3582-480d-996d-c3556d3d10f1",
   "metadata": {
    "execution": {
     "iopub.execute_input": "2022-11-17T06:05:18.333344Z",
     "iopub.status.busy": "2022-11-17T06:05:18.332871Z",
     "iopub.status.idle": "2022-11-17T06:05:18.344536Z",
     "shell.execute_reply": "2022-11-17T06:05:18.343109Z",
     "shell.execute_reply.started": "2022-11-17T06:05:18.333287Z"
    },
    "tags": []
   },
   "outputs": [
    {
     "data": {
      "text/plain": [
       "'2022-10-11'"
      ]
     },
     "execution_count": 10,
     "metadata": {},
     "output_type": "execute_result"
    }
   ],
   "source": [
    "tt.iloc[len(tt)-1].date"
   ]
  },
  {
   "cell_type": "code",
   "execution_count": 52,
   "id": "c56ee9ce-a8c3-47e0-bd23-1737b8ad2f5f",
   "metadata": {
    "execution": {
     "iopub.execute_input": "2022-11-17T02:02:53.150517Z",
     "iopub.status.busy": "2022-11-17T02:02:53.150026Z",
     "iopub.status.idle": "2022-11-17T02:02:53.159163Z",
     "shell.execute_reply": "2022-11-17T02:02:53.158113Z",
     "shell.execute_reply.started": "2022-11-17T02:02:53.150461Z"
    },
    "tags": []
   },
   "outputs": [
    {
     "data": {
      "text/plain": [
       "0.3974554396545799"
      ]
     },
     "execution_count": 52,
     "metadata": {},
     "output_type": "execute_result"
    }
   ],
   "source": [
    "tt.iloc[len(tt)-1].FG_score"
   ]
  },
  {
   "cell_type": "code",
   "execution_count": null,
   "id": "35cd1fea-e205-4a9a-a005-cb282f8bb6fb",
   "metadata": {},
   "outputs": [],
   "source": []
  },
  {
   "cell_type": "code",
   "execution_count": 11,
   "id": "423c6070-bb57-47ef-8d72-9747374ca325",
   "metadata": {
    "execution": {
     "iopub.execute_input": "2022-11-17T01:39:08.687756Z",
     "iopub.status.busy": "2022-11-17T01:39:08.686838Z",
     "iopub.status.idle": "2022-11-17T01:39:08.697934Z",
     "shell.execute_reply": "2022-11-17T01:39:08.696868Z",
     "shell.execute_reply.started": "2022-11-17T01:39:08.687698Z"
    }
   },
   "outputs": [
    {
     "data": {
      "text/plain": [
       "0     1001\n",
       "1     1002\n",
       "2     1003\n",
       "3     1004\n",
       "4     1005\n",
       "      ... \n",
       "92    2214\n",
       "93    2215\n",
       "94    2216\n",
       "95    2217\n",
       "96    2218\n",
       "Name: idx, Length: 97, dtype: int64"
      ]
     },
     "execution_count": 11,
     "metadata": {},
     "output_type": "execute_result"
    }
   ],
   "source": [
    "tmp.idx"
   ]
  },
  {
   "cell_type": "code",
   "execution_count": 18,
   "id": "b3e3a057-c1e5-4d11-942d-900322ad5831",
   "metadata": {
    "execution": {
     "iopub.execute_input": "2022-11-17T01:40:49.179354Z",
     "iopub.status.busy": "2022-11-17T01:40:49.178877Z",
     "iopub.status.idle": "2022-11-17T01:40:49.191889Z",
     "shell.execute_reply": "2022-11-17T01:40:49.190399Z",
     "shell.execute_reply.started": "2022-11-17T01:40:49.179299Z"
    },
    "tags": []
   },
   "outputs": [
    {
     "data": {
      "text/plain": [
       "['1001 : 코스피',\n",
       " '1002 : 코스피 대형주',\n",
       " '1003 : 코스피 중형주',\n",
       " '1004 : 코스피 소형주',\n",
       " '1005 : 음식료품',\n",
       " '1006 : 섬유의복',\n",
       " '1007 : 종이목재',\n",
       " '1008 : 화학',\n",
       " '1009 : 의약품',\n",
       " '1010 : 비금속광물',\n",
       " '1011 : 철강금속',\n",
       " '1012 : 기계',\n",
       " '1013 : 전기전자',\n",
       " '1014 : 의료정밀',\n",
       " '1015 : 운수장비',\n",
       " '1016 : 유통업',\n",
       " '1017 : 전기가스업',\n",
       " '1018 : 건설업',\n",
       " '1019 : 운수창고업',\n",
       " '1020 : 통신업',\n",
       " '1021 : 금융업',\n",
       " '1022 : nan',\n",
       " '1024 : 증권',\n",
       " '1025 : 보험',\n",
       " '1026 : 서비스업',\n",
       " '1027 : 제조업',\n",
       " '1028 : 코스피 200',\n",
       " '1034 : 코스피 100',\n",
       " '1035 : 코스피 50',\n",
       " '1150 : 코스피 200 커뮤니케이션서비스',\n",
       " '1151 : 코스피 200 건설',\n",
       " '1152 : 코스피 200 중공업',\n",
       " '1153 : 코스피 200 철강/소재',\n",
       " '1154 : 코스피 200 에너지/화학',\n",
       " '1155 : 코스피 200 정보기술',\n",
       " '1156 : 코스피 200 금융',\n",
       " '1157 : 코스피 200 생활소비재',\n",
       " '1158 : 코스피 200 경기소비재',\n",
       " '1159 : 코스피 200 산업재',\n",
       " '1160 : 코스피 200 헬스케어',\n",
       " '1167 : 코스피 200 중소형주',\n",
       " '1182 : 코스피 200 초대형제외 지수',\n",
       " '1224 : 코스피 200 비중상한 30%',\n",
       " '1227 : 코스피 200 비중상한 25%',\n",
       " '1232 : 코스피 200 비중상한 20%',\n",
       " '1244 : 코스피200제외 코스피지수',\n",
       " '1894 : 코스피 200 TOP 10',\n",
       " '2001 : 코스닥',\n",
       " '2002 : 코스닥 대형주',\n",
       " '2003 : 코스닥 중형주',\n",
       " '2004 : 코스닥 소형주',\n",
       " '2012 : 기타서비스',\n",
       " '2015 : 코스닥 IT',\n",
       " '2024 : 제조업',\n",
       " '2026 : 건설',\n",
       " '2027 : 유통',\n",
       " '2029 : 운송',\n",
       " '2031 : 금융',\n",
       " '2037 : 오락·문화',\n",
       " '2041 : 통신방송서비스',\n",
       " '2042 : IT S/W & SVC',\n",
       " '2043 : IT H/W',\n",
       " '2056 : 음식료·담배',\n",
       " '2058 : 섬유·의류',\n",
       " '2062 : 종이·목재',\n",
       " '2063 : 출판·매체복제',\n",
       " '2065 : 화학',\n",
       " '2066 : 제약',\n",
       " '2067 : 비금속',\n",
       " '2068 : 금속',\n",
       " '2070 : 기계·장비',\n",
       " '2072 : 일반전기전자',\n",
       " '2074 : 의료·정밀기기',\n",
       " '2075 : 운송장비·부품',\n",
       " '2077 : 기타제조',\n",
       " '2151 : 통신서비스',\n",
       " '2152 : 방송서비스',\n",
       " '2153 : 인터넷',\n",
       " '2154 : 디지털컨텐츠',\n",
       " '2155 : 소프트웨어',\n",
       " '2156 : 컴퓨터서비스',\n",
       " '2157 : 통신장비',\n",
       " '2158 : 정보기기',\n",
       " '2159 : 반도체',\n",
       " '2160 : IT부품',\n",
       " '2181 : 코스닥 우량기업부',\n",
       " '2182 : 코스닥 벤처기업부',\n",
       " '2183 : 코스닥 중견기업부',\n",
       " '2184 : 코스닥 기술성장기업부',\n",
       " '2203 : 코스닥 150',\n",
       " '2212 : 코스닥 150 소재',\n",
       " '2213 : 코스닥 150 산업재',\n",
       " '2214 : 코스닥 150 필수소비재',\n",
       " '2215 : 코스닥 150 자유소비재',\n",
       " '2216 : 코스닥 150 정보기술',\n",
       " '2217 : 코스닥 150 헬스케어',\n",
       " '2218 : 코스닥 150 커뮤니케이션서비스']"
      ]
     },
     "execution_count": 18,
     "metadata": {},
     "output_type": "execute_result"
    }
   ],
   "source": [
    "[ (str(i[1]) + str(' : ') +  str(i[2])) for i in tmp.values]"
   ]
  },
  {
   "cell_type": "code",
   "execution_count": null,
   "id": "8fd27b1f-2215-4149-8b94-3871fcc10307",
   "metadata": {},
   "outputs": [],
   "source": []
  }
 ],
 "metadata": {
  "kernelspec": {
   "display_name": "taehoon_py37",
   "language": "python",
   "name": "taehoon_py37"
  },
  "language_info": {
   "codemirror_mode": {
    "name": "ipython",
    "version": 3
   },
   "file_extension": ".py",
   "mimetype": "text/x-python",
   "name": "python",
   "nbconvert_exporter": "python",
   "pygments_lexer": "ipython3",
   "version": "3.7.15"
  }
 },
 "nbformat": 4,
 "nbformat_minor": 5
}
