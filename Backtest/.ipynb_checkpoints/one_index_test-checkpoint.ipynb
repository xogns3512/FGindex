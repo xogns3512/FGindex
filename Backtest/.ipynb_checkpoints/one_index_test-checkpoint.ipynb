{
 "cells": [
  {
   "cell_type": "code",
   "execution_count": 1,
   "metadata": {
    "ExecuteTime": {
     "end_time": "2022-10-19T23:31:25.540993Z",
     "start_time": "2022-10-19T23:31:24.656443Z"
    }
   },
   "outputs": [],
   "source": [
    "%run Utils/FGindex_function.ipynb\n",
    "%run Utils/portfolio_metrics.ipynb\n",
    "%run Utils/Backtesting_function.ipynb"
   ]
  },
  {
   "cell_type": "code",
   "execution_count": 2,
   "metadata": {
    "ExecuteTime": {
     "end_time": "2022-10-19T23:31:26.137344Z",
     "start_time": "2022-10-19T23:31:26.130259Z"
    }
   },
   "outputs": [],
   "source": [
    "import pandas as pd\n",
    "import numpy as np\n",
    "from matplotlib import pyplot as plt\n",
    "from operator import itemgetter\n",
    "from datetime import date, datetime\n",
    "import time"
   ]
  },
  {
   "cell_type": "code",
   "execution_count": 3,
   "metadata": {
    "ExecuteTime": {
     "end_time": "2022-10-19T23:31:45.254550Z",
     "start_time": "2022-10-19T23:31:45.227359Z"
    }
   },
   "outputs": [],
   "source": [
    "stock = pd.read_csv(\"DATA/data_FGscore/1010.csv\")"
   ]
  },
  {
   "cell_type": "code",
   "execution_count": 4,
   "metadata": {
    "ExecuteTime": {
     "end_time": "2022-10-19T23:31:45.940684Z",
     "start_time": "2022-10-19T23:31:45.920192Z"
    }
   },
   "outputs": [],
   "source": [
    "stock.columns = [\"index\",\"datetime\",\"close\",\"FG_score\"]\n",
    "stock = stock.sort_values(\"datetime\").reset_index(drop=True)"
   ]
  },
  {
   "cell_type": "code",
   "execution_count": 5,
   "metadata": {
    "ExecuteTime": {
     "end_time": "2022-10-19T23:31:46.698327Z",
     "start_time": "2022-10-19T23:31:46.690477Z"
    }
   },
   "outputs": [],
   "source": [
    "# make candid list\n",
    "\n",
    "threshold_list = []\n",
    "\n",
    "for b in np.arange (0.1,0.6,0.1):\n",
    "    for s in np.arange(0.5,1,0.1):\n",
    "        threshold_list.append([b,s])"
   ]
  },
  {
   "cell_type": "code",
   "execution_count": 6,
   "metadata": {
    "ExecuteTime": {
     "end_time": "2022-10-19T23:32:15.846772Z",
     "start_time": "2022-10-19T23:31:47.082019Z"
    }
   },
   "outputs": [
    {
     "name": "stdout",
     "output_type": "stream",
     "text": [
      "market_bestScore : 2430.61\n",
      "\n",
      "[0.1, 0.5]\n",
      "as-is : 0 / to-be : 54.99617799829672\n",
      "[0.1, 0.6]\n",
      "as-is : 54.99617799829672 / to-be : 64.54420747451663\n",
      "[0.1, 0.7]\n",
      "as-is : 64.54420747451663 / to-be : 81.94502615884309\n",
      "[0.1, 0.8999999999999999]\n",
      "as-is : 81.94502615884309 / to-be : 2559.6359555345857\n",
      "[0.2, 0.8999999999999999]\n",
      "as-is : 2559.6359555345857 / to-be : 6019.5674239350765\n"
     ]
    }
   ],
   "source": [
    "best_close = 0\n",
    "best_parameter = [0,0] \n",
    "\n",
    "print(\"market_bestScore : \" + str(stock.close[len(stock)-1]))\n",
    "print()\n",
    "\n",
    "for i in threshold_list:\n",
    "    tmp = back_testing(stock, buying_score = i[0], selling_score = i[1], print_type = False)\n",
    "    \n",
    "    if best_close < tmp[len(tmp)-1]:\n",
    "        print(i)\n",
    "        print(\"as-is : \" + str(best_close) + \" / to-be : \" + str(tmp[len(tmp)-1]))\n",
    "        best_close = tmp[len(tmp)-1]\n",
    "        best_parameter = i\n",
    "        \n"
   ]
  },
  {
   "cell_type": "code",
   "execution_count": 7,
   "metadata": {
    "ExecuteTime": {
     "end_time": "2022-10-19T23:32:20.525734Z",
     "start_time": "2022-10-19T23:32:19.715018Z"
    }
   },
   "outputs": [
    {
     "name": "stdout",
     "output_type": "stream",
     "text": [
      "sell stock : 1998-01-15\n",
      "buying stock : 1998-05-14\n",
      "sell stock : 1998-12-11\n",
      "buying stock : 2000-02-21\n",
      "sell stock : 2018-05-02\n",
      "buying stock : 2020-03-16\n"
     ]
    }
   ],
   "source": [
    "tmp = back_testing(stock, buying_score = best_parameter[0], selling_score = best_parameter[1], print_type = True)"
   ]
  },
  {
   "cell_type": "code",
   "execution_count": 8,
   "metadata": {
    "ExecuteTime": {
     "end_time": "2022-10-19T23:32:24.673768Z",
     "start_time": "2022-10-19T23:32:24.546193Z"
    }
   },
   "outputs": [],
   "source": [
    "stock['simul'] = tmp\n",
    "datetime_list = [datetime.strptime(i,\"%Y-%m-%d\").date() for i in stock.datetime]\n",
    "stock[\"datetime\"] = datetime_list"
   ]
  },
  {
   "cell_type": "code",
   "execution_count": 9,
   "metadata": {
    "ExecuteTime": {
     "end_time": "2022-10-19T23:32:33.852023Z",
     "start_time": "2022-10-19T23:32:33.825185Z"
    }
   },
   "outputs": [],
   "source": [
    "def plot_all(stock, index_name):\n",
    "    \n",
    "    fig = plt.figure(figsize = [15,10])\n",
    "\n",
    "    # price\n",
    "    ax1 = fig.add_subplot(3,1,1)\n",
    "    ax1.plot(stock.datetime,stock.simul,label='portfolio')\n",
    "    ax1.plot(stock.datetime,stock.close,label='market')\n",
    "    ax1.set_title('price',fontweight=\"bold\")\n",
    "    plt.legend(loc=\"upper left\")\n",
    "\n",
    "    ax2 = fig.add_subplot(3,1,2)\n",
    "    ax2.plot(stock.datetime,list(np.array(stock.simul)-np.array(stock.close)),label = 'portfolio')\n",
    "    ax2.axhline(y=0,color='tab:orange',linestyle='--',label = 'market')\n",
    "    ax2.set_title('alpha',fontweight=\"bold\")\n",
    "\n",
    "    x = range(2)\n",
    "    port = [\"market\",\"portfolio\"]\n",
    "    beta_values = beta_func(stock)\n",
    "    sharp_values = sharp_func(stock)\n",
    "    sortino_values = sortino_func(stock)\n",
    "    MDD_values = MDD_func(stock)\n",
    "\n",
    "    ax3 = fig.add_subplot(3,4,9)\n",
    "    ax3.bar(x,beta_values,color=['tab:orange','tab:blue'],width = 0.5); \n",
    "    ax3.set_xticks(x); \n",
    "    ax3.set_xticklabels(port);\n",
    "    ax3.set_title(\"beta\",fontweight=\"bold\")\n",
    "    ax3.axhline(y=1,color='red',linestyle='--')\n",
    "\n",
    "    ax4 = fig.add_subplot(3,4,10)\n",
    "    ax4.bar(x,sharp_values,color=['tab:orange','tab:blue'],width = 0.5); \n",
    "    ax4.set_xticks(x); \n",
    "    ax4.set_xticklabels(port);\n",
    "    ax4.set_title(\"sharp\",fontweight=\"bold\")\n",
    "\n",
    "    ax5 = fig.add_subplot(3,4,11)\n",
    "    ax5.bar(x,sortino_values,color=['tab:orange','tab:blue'],width = 0.5); \n",
    "    ax5.set_xticks(x); \n",
    "    ax5.set_xticklabels(port);\n",
    "    ax5.set_title(\"sortino\",fontweight=\"bold\")\n",
    "\n",
    "    ax6 = fig.add_subplot(3,4,12)\n",
    "    ax6.bar(x,MDD_values,color=['tab:orange','tab:blue'],width = 0.5); \n",
    "    ax6.set_xticks(x); \n",
    "    ax6.set_xticklabels(port);\n",
    "    ax6.set_title(\"MDD\",fontweight=\"bold\")\n",
    "\n",
    "    fig.suptitle('{}'.format(index_name), fontweight =\"bold\") \n",
    "\n",
    "    plt.show()\n"
   ]
  },
  {
   "cell_type": "code",
   "execution_count": 10,
   "metadata": {
    "ExecuteTime": {
     "end_time": "2022-10-19T23:32:39.094564Z",
     "start_time": "2022-10-19T23:32:34.157334Z"
    }
   },
   "outputs": [
    {
     "name": "stderr",
     "output_type": "stream",
     "text": [
      "/opt/conda/lib/python3.6/site-packages/pandas/plotting/_matplotlib/converter.py:103: FutureWarning:\n",
      "\n",
      "Using an implicitly registered datetime converter for a matplotlib plotting method. The converter was registered by pandas on import. Future versions of pandas will require you to explicitly register matplotlib converters.\n",
      "\n",
      "To register the converters:\n",
      "\t>>> from pandas.plotting import register_matplotlib_converters\n",
      "\t>>> register_matplotlib_converters()\n",
      "\n"
     ]
    },
    {
     "data": {
      "image/png": "[encoded data removed]",
      "text/plain": [
       "<Figure size 1080x720 with 6 Axes>"
      ]
     },
     "metadata": {
      "needs_background": "light"
     },
     "output_type": "display_data"
    }
   ],
   "source": [
    "plot_all(stock, '1010')"
   ]
  },
  {
   "cell_type": "code",
   "execution_count": 47,
   "metadata": {
    "ExecuteTime": {
     "end_time": "2022-10-19T23:22:02.467013Z",
     "start_time": "2022-10-19T23:22:02.459535Z"
    }
   },
   "outputs": [],
   "source": [
    "# fig = plt.figure(figsize = [15,10])\n",
    "\n",
    "# ax1 = fig.add_subplot(3,1,1)\n",
    "# ax1.plot(stock.datetime,stock.simul,label='portfolio')\n",
    "# ax1.plot(stock.datetime,stock.close,label='market')\n",
    "# ax1.set_title('price',fontweight=\"bold\")\n",
    "# plt.legend(loc=\"upper left\")\n",
    "\n",
    "# ax2 = fig.add_subplot(3,1,2)\n",
    "# ax2.plot(stock.datetime,list(np.array(stock.simul)-np.array(stock.close)),label = 'portfolio')\n",
    "# ax2.axhline(y=0,color='tab:orange',linestyle='--',label = 'market')\n",
    "# ax2.set_title('alpha',fontweight=\"bold\")\n",
    "\n",
    "# x = range(2)\n",
    "# port = [\"market\",\"portfolio\"]\n",
    "\n",
    "# ax3 = fig.add_subplot(3,4,9)\n",
    "# ax3.bar(x,beta_values,color=['tab:orange','tab:blue'],width = 0.5); \n",
    "# ax3.set_xticks(x); \n",
    "# ax3.set_xticklabels(port);\n",
    "# ax3.set_title(\"beta\",fontweight=\"bold\")\n",
    "# ax3.axhline(y=1,color='red',linestyle='--')\n",
    "\n",
    "# ax4 = fig.add_subplot(3,4,10)\n",
    "# ax4.bar(x,sharp_values,color=['tab:orange','tab:blue'],width = 0.5); \n",
    "# ax4.set_xticks(x); \n",
    "# ax4.set_xticklabels(port);\n",
    "# ax4.set_title(\"sharp\",fontweight=\"bold\")\n",
    "\n",
    "# ax5 = fig.add_subplot(3,4,11)\n",
    "# ax5.bar(x,sortino_values,color=['tab:orange','tab:blue'],width = 0.5); \n",
    "# ax5.set_xticks(x); \n",
    "# ax5.set_xticklabels(port);\n",
    "# ax5.set_title(\"sortino\",fontweight=\"bold\")\n",
    "\n",
    "# ax6 = fig.add_subplot(3,4,12)\n",
    "# ax6.bar(x,MDD_values,color=['tab:orange','tab:blue'],width = 0.5); \n",
    "# ax6.set_xticks(x); \n",
    "# ax6.set_xticklabels(port);\n",
    "# ax6.set_title(\"MDD\",fontweight=\"bold\")\n",
    "\n",
    "# fig.suptitle('{}'.format(), fontweight =\"bold\") \n",
    "\n",
    "# plt.show()"
   ]
  },
  {
   "cell_type": "code",
   "execution_count": null,
   "metadata": {},
   "outputs": [],
   "source": []
  }
 ],
 "metadata": {
  "kernelspec": {
   "display_name": "Python 3",
   "language": "python",
   "name": "python3"
  },
  "language_info": {
   "codemirror_mode": {
    "name": "ipython",
    "version": 3
   },
   "file_extension": ".py",
   "mimetype": "text/x-python",
   "name": "python",
   "nbconvert_exporter": "python",
   "pygments_lexer": "ipython3",
   "version": "3.6.9"
  },
  "toc": {
   "base_numbering": 1,
   "nav_menu": {},
   "number_sections": true,
   "sideBar": true,
   "skip_h1_title": false,
   "title_cell": "Table of Contents",
   "title_sidebar": "Contents",
   "toc_cell": false,
   "toc_position": {},
   "toc_section_display": true,
   "toc_window_display": false
  },
  "varInspector": {
   "cols": {
    "lenName": 16,
    "lenType": 16,
    "lenVar": 40
   },
   "kernels_config": {
    "python": {
     "delete_cmd_postfix": "",
     "delete_cmd_prefix": "del ",
     "library": "var_list.py",
     "varRefreshCmd": "print(var_dic_list())"
    },
    "r": {
     "delete_cmd_postfix": ") ",
     "delete_cmd_prefix": "rm(",
     "library": "var_list.r",
     "varRefreshCmd": "cat(var_dic_list()) "
    }
   },
   "types_to_exclude": [
    "module",
    "function",
    "builtin_function_or_method",
    "instance",
    "_Feature"
   ],
   "window_display": false
  }
 },
 "nbformat": 4,
 "nbformat_minor": 2
}
