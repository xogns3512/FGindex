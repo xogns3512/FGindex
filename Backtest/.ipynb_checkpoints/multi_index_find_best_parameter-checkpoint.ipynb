{
 "cells": [
  {
   "cell_type": "code",
   "execution_count": 56,
   "metadata": {
    "ExecuteTime": {
     "end_time": "2022-11-10T06:08:34.094976Z",
     "start_time": "2022-11-10T06:08:33.120602Z"
    },
    "execution": {
     "iopub.execute_input": "2022-11-24T00:03:49.083628Z",
     "iopub.status.busy": "2022-11-24T00:03:49.083174Z",
     "iopub.status.idle": "2022-11-24T00:03:49.152206Z",
     "shell.execute_reply": "2022-11-24T00:03:49.151317Z",
     "shell.execute_reply.started": "2022-11-24T00:03:49.083573Z"
    },
    "tags": []
   },
   "outputs": [],
   "source": [
    "%run ../Utils/FGindex_function.ipynb\n",
    "%run ../Utils/portfolio_metrics.ipynb\n",
    "%run ../Utils/Backtesting_function.ipynb"
   ]
  },
  {
   "cell_type": "code",
   "execution_count": 57,
   "metadata": {
    "ExecuteTime": {
     "end_time": "2022-11-10T05:36:42.866052Z",
     "start_time": "2022-11-10T05:36:42.722506Z"
    },
    "execution": {
     "iopub.execute_input": "2022-11-24T00:03:49.295950Z",
     "iopub.status.busy": "2022-11-24T00:03:49.295340Z",
     "iopub.status.idle": "2022-11-24T00:03:49.301621Z",
     "shell.execute_reply": "2022-11-24T00:03:49.300623Z",
     "shell.execute_reply.started": "2022-11-24T00:03:49.295894Z"
    },
    "tags": []
   },
   "outputs": [],
   "source": [
    "from pykrx import stock\n",
    "from pykrx import bond"
   ]
  },
  {
   "cell_type": "code",
   "execution_count": 58,
   "metadata": {
    "ExecuteTime": {
     "end_time": "2022-11-10T05:36:43.136757Z",
     "start_time": "2022-11-10T05:36:43.132465Z"
    },
    "execution": {
     "iopub.execute_input": "2022-11-24T00:03:49.513305Z",
     "iopub.status.busy": "2022-11-24T00:03:49.512674Z",
     "iopub.status.idle": "2022-11-24T00:03:49.521100Z",
     "shell.execute_reply": "2022-11-24T00:03:49.519794Z",
     "shell.execute_reply.started": "2022-11-24T00:03:49.513247Z"
    },
    "tags": []
   },
   "outputs": [],
   "source": [
    "import pandas as pd\n",
    "import numpy as np\n",
    "from matplotlib import pyplot as plt\n",
    "from operator import itemgetter\n",
    "from datetime import date, datetime, timedelta\n",
    "import time"
   ]
  },
  {
   "cell_type": "markdown",
   "metadata": {
    "tags": []
   },
   "source": [
    "# back testing"
   ]
  },
  {
   "cell_type": "code",
   "execution_count": 72,
   "metadata": {
    "execution": {
     "iopub.execute_input": "2022-11-24T07:06:23.222372Z",
     "iopub.status.busy": "2022-11-24T07:06:23.221757Z",
     "iopub.status.idle": "2022-11-24T07:06:23.242883Z",
     "shell.execute_reply": "2022-11-24T07:06:23.241841Z",
     "shell.execute_reply.started": "2022-11-24T07:06:23.222316Z"
    },
    "tags": []
   },
   "outputs": [],
   "source": [
    "def backtesting():\n",
    "    try:\n",
    "        final_result = []\n",
    "        for ticker in stock.get_index_ticker_list() + stock.get_index_ticker_list(market = \"KOSDAQ\"):\n",
    "            # read data\n",
    "            print(\"ticker : \" + str(ticker) )\n",
    "            stock_df = pd.read_csv(\"../DATA/data_FGscore/{}.csv\".format(ticker))\n",
    "            \n",
    "            if len(stock_df) > 0:\n",
    "\n",
    "                stock_df.columns = [\"index\",\"datetime\",\"close\",'volume','multiple_volume','per','Volatility_list','Volume_list','S1_score','S2_score',\"FG_score\"]\n",
    "                stock_df = stock_df.sort_values(\"datetime\").reset_index(drop=True)\n",
    "\n",
    "                # make candid list\n",
    "                threshold_list = []\n",
    "                for b in np.arange (0.1,0.6,0.1):\n",
    "                    for s in np.arange(0.5,1,0.1):\n",
    "                        threshold_list.append([b,s])\n",
    "\n",
    "                best_close = 0\n",
    "                best_parameter = [0,0] \n",
    "                print(\"market_Score : \" + str(stock_df.close[len(stock_df)-1]))\n",
    "\n",
    "                # auto simul\n",
    "                for i in threshold_list:\n",
    "\n",
    "                    tmp,tmp2 = back_testing(stock_df, buying_score = i[0], selling_score = i[1], print_type = False)\n",
    "\n",
    "                    if best_close < tmp[len(tmp)-1]:\n",
    "                        best_close = tmp[len(tmp)-1]\n",
    "                        best_parameter = i\n",
    "                print(\"best_Score : \" + str(best_close))\n",
    "                print(\"threshold : \" + str(best_parameter))\n",
    "                print()\n",
    "\n",
    "                first_Score = stock_df.close[0]\n",
    "                \n",
    "                market_Score = stock_df.close[len(stock_df)-1]\n",
    "                final_result.append([ticker, best_parameter[0], best_parameter[1],first_Score, best_close, market_Score])\n",
    "\n",
    "    except Exception as e:    \n",
    "        print('예외가 발생했습니다.', e)\n",
    "                \n",
    "    return final_result\n"
   ]
  },
  {
   "cell_type": "code",
   "execution_count": 60,
   "metadata": {
    "execution": {
     "iopub.execute_input": "2022-11-24T00:03:51.585436Z",
     "iopub.status.busy": "2022-11-24T00:03:51.584990Z",
     "iopub.status.idle": "2022-11-24T00:17:16.892045Z",
     "shell.execute_reply": "2022-11-24T00:17:16.891125Z",
     "shell.execute_reply.started": "2022-11-24T00:03:51.585382Z"
    },
    "tags": []
   },
   "outputs": [
    {
     "name": "stdout",
     "output_type": "stream",
     "text": [
      "ticker : 1001\n",
      "market_Score : 2418.01\n",
      "best_Score : 2462.12\n",
      "threshold : [0.30000000000000004, 0.7999999999999999]\n",
      "\n",
      "ticker : 1002\n",
      "market_Score : 2401.94\n",
      "best_Score : 2401.94\n",
      "threshold : [0.1, 0.7999999999999999]\n",
      "\n",
      "ticker : 1003\n",
      "market_Score : 2688.05\n",
      "best_Score : 2970.59\n",
      "threshold : [0.1, 0.7999999999999999]\n",
      "\n",
      "ticker : 1004\n",
      "market_Score : 2201.01\n",
      "best_Score : 2201.01\n",
      "threshold : [0.1, 0.8999999999999999]\n",
      "\n",
      "ticker : 1005\n",
      "market_Score : 3670.34\n",
      "best_Score : 4188.02\n",
      "threshold : [0.2, 0.8999999999999999]\n",
      "\n",
      "ticker : 1006\n",
      "market_Score : 416.48\n",
      "best_Score : 1598.66\n",
      "threshold : [0.1, 0.8999999999999999]\n",
      "\n",
      "ticker : 1007\n",
      "market_Score : 354.95\n",
      "best_Score : 731.93\n",
      "threshold : [0.1, 0.8999999999999999]\n",
      "\n",
      "ticker : 1008\n",
      "market_Score : 5472.01\n",
      "best_Score : 5352.09\n",
      "threshold : [0.4, 0.8999999999999999]\n",
      "\n",
      "ticker : 1009\n",
      "market_Score : 14509.27\n",
      "best_Score : 8818.67\n",
      "threshold : [0.4, 0.8999999999999999]\n",
      "\n",
      "ticker : 1010\n",
      "market_Score : 3003.65\n",
      "best_Score : 7438.74\n",
      "threshold : [0.2, 0.8999999999999999]\n",
      "\n",
      "ticker : 1011\n",
      "market_Score : 4764.45\n",
      "best_Score : 3776.07\n",
      "threshold : [0.2, 0.8999999999999999]\n",
      "\n",
      "ticker : 1012\n",
      "market_Score : 981.12\n",
      "best_Score : 1570.28\n",
      "threshold : [0.1, 0.8999999999999999]\n",
      "\n",
      "ticker : 1013\n",
      "market_Score : 24243.56\n",
      "best_Score : 16099.73\n",
      "threshold : [0.30000000000000004, 0.8999999999999999]\n",
      "\n",
      "ticker : 1014\n",
      "market_Score : 2125.77\n",
      "best_Score : 1619.84\n",
      "threshold : [0.2, 0.7999999999999999]\n",
      "\n",
      "ticker : 1015\n",
      "market_Score : 1833.31\n",
      "best_Score : 4027.4\n",
      "threshold : [0.1, 0.8999999999999999]\n",
      "\n",
      "ticker : 1016\n",
      "market_Score : 342.16\n",
      "best_Score : 1068.83\n",
      "threshold : [0.1, 0.8999999999999999]\n",
      "\n",
      "ticker : 1017\n",
      "market_Score : 788.58\n",
      "best_Score : 1601.42\n",
      "threshold : [0.30000000000000004, 0.7999999999999999]\n",
      "\n",
      "ticker : 1018\n",
      "market_Score : 83.01\n",
      "best_Score : 78.03\n",
      "threshold : [0.1, 0.6]\n",
      "\n",
      "ticker : 1019\n",
      "market_Score : 1672.62\n",
      "best_Score : 3067.24\n",
      "threshold : [0.1, 0.8999999999999999]\n",
      "\n",
      "ticker : 1020\n",
      "market_Score : 400.36\n",
      "best_Score : 614.36\n",
      "threshold : [0.1, 0.7999999999999999]\n",
      "\n",
      "ticker : 1021\n",
      "market_Score : 350.89\n",
      "best_Score : 172.41\n",
      "threshold : [0.4, 0.8999999999999999]\n",
      "\n",
      "ticker : 1022\n",
      "market_Score : 129.83\n",
      "best_Score : 147.31\n",
      "threshold : [0.1, 0.7]\n",
      "\n",
      "ticker : 1024\n",
      "market_Score : 1644.42\n",
      "best_Score : 210.29\n",
      "threshold : [0.1, 0.8999999999999999]\n",
      "\n",
      "ticker : 1025\n",
      "market_Score : 13737.15\n",
      "best_Score : 888.22\n",
      "threshold : [0.5, 0.8999999999999999]\n",
      "\n",
      "ticker : 1026\n",
      "market_Score : 1133.03\n",
      "best_Score : 1408.19\n",
      "threshold : [0.1, 0.8999999999999999]\n",
      "\n",
      "ticker : 1027\n",
      "market_Score : 6382.11\n",
      "best_Score : 8480.73\n",
      "threshold : [0.2, 0.8999999999999999]\n",
      "\n",
      "ticker : 1028\n",
      "market_Score : 314.11\n",
      "best_Score : 276.0\n",
      "threshold : [0.2, 0.8999999999999999]\n",
      "\n",
      "ticker : 1034\n",
      "market_Score : 2363.31\n",
      "best_Score : 2363.31\n",
      "threshold : [0.1, 0.7999999999999999]\n",
      "\n",
      "ticker : 1035\n",
      "market_Score : 2151.72\n",
      "best_Score : 2880.32\n",
      "threshold : [0.1, 0.7999999999999999]\n",
      "\n",
      "ticker : 1150\n",
      "market_Score : 1824.43\n",
      "best_Score : 1919.5\n",
      "threshold : [0.1, 0.7]\n",
      "\n",
      "ticker : 1151\n",
      "market_Score : 282.64\n",
      "best_Score : 587.43\n",
      "threshold : [0.1, 0.7]\n",
      "\n",
      "ticker : 1152\n",
      "market_Score : 286.45\n",
      "best_Score : 525.54\n",
      "threshold : [0.1, 0.7]\n",
      "\n",
      "ticker : 1153\n",
      "market_Score : 862.27\n",
      "best_Score : 1120.45\n",
      "threshold : [0.30000000000000004, 0.7999999999999999]\n",
      "\n",
      "ticker : 1154\n",
      "market_Score : 1641.36\n",
      "best_Score : 1641.36\n",
      "threshold : [0.1, 0.8999999999999999]\n",
      "\n",
      "ticker : 1155\n",
      "market_Score : 2902.86\n",
      "best_Score : 3753.0\n",
      "threshold : [0.30000000000000004, 0.7999999999999999]\n",
      "\n",
      "ticker : 1156\n",
      "market_Score : 599.41\n",
      "best_Score : 747.62\n",
      "threshold : [0.1, 0.7]\n",
      "\n",
      "ticker : 1157\n",
      "market_Score : 870.36\n",
      "best_Score : 986.84\n",
      "threshold : [0.1, 0.7]\n",
      "\n",
      "ticker : 1158\n",
      "market_Score : 1402.08\n",
      "best_Score : 1402.08\n",
      "threshold : [0.1, 0.8999999999999999]\n",
      "\n",
      "ticker : 1159\n",
      "market_Score : 628.9\n",
      "best_Score : 628.9\n",
      "threshold : [0.1, 0.7999999999999999]\n",
      "\n",
      "ticker : 1160\n",
      "market_Score : 1753.07\n",
      "best_Score : 2326.53\n",
      "threshold : [0.1, 0.7]\n",
      "\n",
      "ticker : 1167\n",
      "market_Score : 1140.85\n",
      "best_Score : 1203.13\n",
      "threshold : [0.1, 0.6]\n",
      "\n",
      "ticker : 1182\n",
      "market_Score : 231.69\n",
      "best_Score : 231.69\n",
      "threshold : [0.1, 0.7999999999999999]\n",
      "\n",
      "ticker : 1224\n",
      "market_Score : 313.54\n",
      "best_Score : 390.13\n",
      "threshold : [0.1, 0.5]\n",
      "\n",
      "ticker : 1227\n",
      "market_Score : 310.67\n",
      "best_Score : 388.35\n",
      "threshold : [0.1, 0.5]\n",
      "\n",
      "ticker : 1232\n",
      "market_Score : 302.8\n",
      "best_Score : 380.1\n",
      "threshold : [0.1, 0.5]\n",
      "\n",
      "ticker : 1244\n",
      "market_Score : 2988.15\n",
      "best_Score : 4236.38\n",
      "threshold : [0.30000000000000004, 0.5]\n",
      "\n",
      "ticker : 1894\n",
      "ticker : 2001\n",
      "market_Score : 725.59\n",
      "best_Score : 955.37\n",
      "threshold : [0.1, 0.6]\n",
      "\n",
      "ticker : 2002\n",
      "market_Score : 1458.44\n",
      "best_Score : 2994.2\n",
      "threshold : [0.2, 0.7]\n",
      "\n",
      "ticker : 2003\n",
      "market_Score : 662.72\n",
      "best_Score : 856.13\n",
      "threshold : [0.1, 0.7999999999999999]\n",
      "\n",
      "ticker : 2004\n",
      "market_Score : 2664.51\n",
      "best_Score : 2664.51\n",
      "threshold : [0.1, 0.8999999999999999]\n",
      "\n",
      "ticker : 2012\n",
      "market_Score : 2238.84\n",
      "best_Score : 825.59\n",
      "threshold : [0.1, 0.6]\n",
      "\n",
      "ticker : 2015\n",
      "market_Score : 922.44\n",
      "best_Score : 2123.34\n",
      "threshold : [0.1, 0.7999999999999999]\n",
      "\n",
      "ticker : 2024\n",
      "market_Score : 2444.22\n",
      "best_Score : 3482.79\n",
      "threshold : [0.1, 0.7999999999999999]\n",
      "\n",
      "ticker : 2026\n",
      "market_Score : 79.7\n",
      "best_Score : 408.24\n",
      "threshold : [0.1, 0.7999999999999999]\n",
      "\n",
      "ticker : 2027\n",
      "market_Score : 423.47\n",
      "best_Score : 1590.53\n",
      "threshold : [0.1, 0.8999999999999999]\n",
      "\n",
      "ticker : 2029\n",
      "market_Score : 7777.72\n",
      "best_Score : 6362.38\n",
      "threshold : [0.2, 0.8999999999999999]\n",
      "\n",
      "ticker : 2031\n",
      "market_Score : 736.34\n",
      "best_Score : 1604.98\n",
      "threshold : [0.1, 0.8999999999999999]\n",
      "\n",
      "ticker : 2037\n",
      "market_Score : 607.1\n",
      "best_Score : 1229.29\n",
      "threshold : [0.1, 0.7999999999999999]\n",
      "\n",
      "ticker : 2041\n",
      "market_Score : 1070.85\n",
      "best_Score : 2418.94\n",
      "threshold : [0.1, 0.5]\n",
      "\n",
      "ticker : 2042\n",
      "market_Score : 1614.65\n",
      "best_Score : 2114.18\n",
      "threshold : [0.1, 0.7]\n",
      "\n",
      "ticker : 2043\n",
      "market_Score : 536.9\n",
      "best_Score : 2174.33\n",
      "threshold : [0.1, 0.7999999999999999]\n",
      "\n",
      "ticker : 2056\n",
      "market_Score : 7518.6\n",
      "best_Score : 13501.94\n",
      "threshold : [0.2, 0.8999999999999999]\n",
      "\n",
      "ticker : 2058\n",
      "market_Score : 104.65\n",
      "best_Score : 1672.09\n",
      "threshold : [0.1, 0.7]\n",
      "\n",
      "ticker : 2062\n",
      "market_Score : 14483.91\n",
      "best_Score : 2936.43\n",
      "threshold : [0.30000000000000004, 0.8999999999999999]\n",
      "\n",
      "ticker : 2063\n",
      "market_Score : 3818.44\n",
      "best_Score : 3108.83\n",
      "threshold : [0.4, 0.8999999999999999]\n",
      "\n",
      "ticker : 2065\n",
      "market_Score : 2738.56\n",
      "best_Score : 4851.53\n",
      "threshold : [0.1, 0.7]\n",
      "\n",
      "ticker : 2066\n",
      "market_Score : 7286.1\n",
      "best_Score : 12988.99\n",
      "threshold : [0.1, 0.8999999999999999]\n",
      "\n",
      "ticker : 2067\n",
      "market_Score : 52290.63\n",
      "best_Score : 45185.77\n",
      "threshold : [0.4, 0.8999999999999999]\n",
      "\n",
      "ticker : 2068\n",
      "market_Score : 2237.24\n",
      "best_Score : 3565.4\n",
      "threshold : [0.1, 0.5]\n",
      "\n",
      "ticker : 2070\n",
      "market_Score : 532.36\n",
      "best_Score : 836.93\n",
      "threshold : [0.1, 0.7]\n",
      "\n",
      "ticker : 2072\n",
      "market_Score : 1247.16\n",
      "best_Score : 19470.62\n",
      "threshold : [0.1, 0.7999999999999999]\n",
      "\n",
      "ticker : 2074\n",
      "market_Score : 1588.47\n",
      "best_Score : 3841.58\n",
      "threshold : [0.1, 0.7]\n",
      "\n",
      "ticker : 2075\n",
      "market_Score : 5867.1\n",
      "best_Score : 5171.04\n",
      "threshold : [0.30000000000000004, 0.8999999999999999]\n",
      "\n",
      "ticker : 2077\n",
      "market_Score : 1401.3\n",
      "best_Score : 10117.43\n",
      "threshold : [0.1, 0.8999999999999999]\n",
      "\n",
      "ticker : 2151\n",
      "market_Score : 798.76\n",
      "best_Score : 3478.64\n",
      "threshold : [0.1, 0.8999999999999999]\n",
      "\n",
      "ticker : 2152\n",
      "market_Score : 3122.39\n",
      "best_Score : 5348.11\n",
      "threshold : [0.1, 0.8999999999999999]\n",
      "\n",
      "ticker : 2153\n",
      "market_Score : 11716.07\n",
      "best_Score : 6491.03\n",
      "threshold : [0.30000000000000004, 0.8999999999999999]\n",
      "\n",
      "ticker : 2154\n",
      "market_Score : 1081.34\n",
      "best_Score : 4742.7\n",
      "threshold : [0.1, 0.8999999999999999]\n",
      "\n",
      "ticker : 2155\n",
      "market_Score : 201.7\n",
      "best_Score : 6190.4\n",
      "threshold : [0.1, 0.5]\n",
      "\n",
      "ticker : 2156\n",
      "market_Score : 213.0\n",
      "best_Score : 1689.36\n",
      "threshold : [0.1, 0.7999999999999999]\n",
      "\n",
      "ticker : 2157\n",
      "market_Score : 136.35\n",
      "best_Score : 1198.85\n",
      "threshold : [0.1, 0.6]\n",
      "\n",
      "ticker : 2158\n",
      "market_Score : 10.72\n",
      "best_Score : 766.97\n",
      "threshold : [0.1, 0.7]\n",
      "\n",
      "ticker : 2159\n",
      "market_Score : 1357.3\n",
      "best_Score : 1901.17\n",
      "threshold : [0.1, 0.6]\n",
      "\n",
      "ticker : 2160\n",
      "market_Score : 1088.93\n",
      "best_Score : 2043.04\n",
      "threshold : [0.1, 0.7999999999999999]\n",
      "\n",
      "ticker : 2181\n",
      "market_Score : 1476.65\n",
      "best_Score : 1501.28\n",
      "threshold : [0.1, 0.7]\n",
      "\n",
      "ticker : 2182\n",
      "market_Score : 1446.25\n",
      "best_Score : 1446.25\n",
      "threshold : [0.1, 0.7999999999999999]\n",
      "\n",
      "ticker : 2183\n",
      "market_Score : 1612.88\n",
      "best_Score : 1612.88\n",
      "threshold : [0.1, 0.8999999999999999]\n",
      "\n",
      "ticker : 2184\n",
      "market_Score : 3970.45\n",
      "best_Score : 5927.5\n",
      "threshold : [0.1, 0.8999999999999999]\n",
      "\n",
      "ticker : 2189\n",
      "예외가 발생했습니다. [Errno 2] No such file or directory: '../DATA/data_FGscore/2189.csv'\n"
     ]
    }
   ],
   "source": [
    "final_result = backtesting()"
   ]
  },
  {
   "cell_type": "markdown",
   "metadata": {},
   "source": [
    "# output check"
   ]
  },
  {
   "cell_type": "code",
   "execution_count": null,
   "metadata": {},
   "outputs": [],
   "source": [
    "final_result_df"
   ]
  },
  {
   "cell_type": "code",
   "execution_count": 64,
   "metadata": {
    "ExecuteTime": {
     "end_time": "2022-11-10T05:57:29.032085Z",
     "start_time": "2022-11-10T05:57:29.024316Z"
    },
    "execution": {
     "iopub.execute_input": "2022-11-24T00:31:20.507729Z",
     "iopub.status.busy": "2022-11-24T00:31:20.507281Z",
     "iopub.status.idle": "2022-11-24T00:31:20.516034Z",
     "shell.execute_reply": "2022-11-24T00:31:20.514402Z",
     "shell.execute_reply.started": "2022-11-24T00:31:20.507674Z"
    },
    "tags": []
   },
   "outputs": [],
   "source": [
    "final_result_df = pd.DataFrame(final_result)"
   ]
  },
  {
   "cell_type": "code",
   "execution_count": 65,
   "metadata": {
    "ExecuteTime": {
     "end_time": "2022-11-10T05:57:30.140687Z",
     "start_time": "2022-11-10T05:57:30.134280Z"
    },
    "execution": {
     "iopub.execute_input": "2022-11-24T00:31:21.446728Z",
     "iopub.status.busy": "2022-11-24T00:31:21.445725Z",
     "iopub.status.idle": "2022-11-24T00:31:21.452904Z",
     "shell.execute_reply": "2022-11-24T00:31:21.451771Z",
     "shell.execute_reply.started": "2022-11-24T00:31:21.446664Z"
    },
    "tags": []
   },
   "outputs": [],
   "source": [
    "final_result_df.columns = [\"ticker\", \"buying_point\",\"selling_point\",\"best_score\",\"market_score\"] "
   ]
  },
  {
   "cell_type": "code",
   "execution_count": 66,
   "metadata": {
    "ExecuteTime": {
     "end_time": "2022-11-10T05:57:31.016357Z",
     "start_time": "2022-11-10T05:57:30.986411Z"
    },
    "execution": {
     "iopub.execute_input": "2022-11-24T00:31:21.902533Z",
     "iopub.status.busy": "2022-11-24T00:31:21.901926Z",
     "iopub.status.idle": "2022-11-24T00:31:21.929249Z",
     "shell.execute_reply": "2022-11-24T00:31:21.928285Z",
     "shell.execute_reply.started": "2022-11-24T00:31:21.902476Z"
    },
    "tags": []
   },
   "outputs": [
    {
     "data": {
      "text/html": [
       "<div>\n",
       "<style scoped>\n",
       "    .dataframe tbody tr th:only-of-type {\n",
       "        vertical-align: middle;\n",
       "    }\n",
       "\n",
       "    .dataframe tbody tr th {\n",
       "        vertical-align: top;\n",
       "    }\n",
       "\n",
       "    .dataframe thead th {\n",
       "        text-align: right;\n",
       "    }\n",
       "</style>\n",
       "<table border=\"1\" class=\"dataframe\">\n",
       "  <thead>\n",
       "    <tr style=\"text-align: right;\">\n",
       "      <th></th>\n",
       "      <th>ticker</th>\n",
       "      <th>buying_point</th>\n",
       "      <th>selling_point</th>\n",
       "      <th>best_score</th>\n",
       "      <th>market_score</th>\n",
       "    </tr>\n",
       "  </thead>\n",
       "  <tbody>\n",
       "    <tr>\n",
       "      <th>0</th>\n",
       "      <td>1001</td>\n",
       "      <td>0.3</td>\n",
       "      <td>0.8</td>\n",
       "      <td>2462.12</td>\n",
       "      <td>2418.01</td>\n",
       "    </tr>\n",
       "    <tr>\n",
       "      <th>1</th>\n",
       "      <td>1002</td>\n",
       "      <td>0.1</td>\n",
       "      <td>0.8</td>\n",
       "      <td>2401.94</td>\n",
       "      <td>2401.94</td>\n",
       "    </tr>\n",
       "    <tr>\n",
       "      <th>2</th>\n",
       "      <td>1003</td>\n",
       "      <td>0.1</td>\n",
       "      <td>0.8</td>\n",
       "      <td>2970.59</td>\n",
       "      <td>2688.05</td>\n",
       "    </tr>\n",
       "    <tr>\n",
       "      <th>3</th>\n",
       "      <td>1004</td>\n",
       "      <td>0.1</td>\n",
       "      <td>0.9</td>\n",
       "      <td>2201.01</td>\n",
       "      <td>2201.01</td>\n",
       "    </tr>\n",
       "    <tr>\n",
       "      <th>4</th>\n",
       "      <td>1005</td>\n",
       "      <td>0.2</td>\n",
       "      <td>0.9</td>\n",
       "      <td>4188.02</td>\n",
       "      <td>3670.34</td>\n",
       "    </tr>\n",
       "    <tr>\n",
       "      <th>...</th>\n",
       "      <td>...</td>\n",
       "      <td>...</td>\n",
       "      <td>...</td>\n",
       "      <td>...</td>\n",
       "      <td>...</td>\n",
       "    </tr>\n",
       "    <tr>\n",
       "      <th>83</th>\n",
       "      <td>2160</td>\n",
       "      <td>0.1</td>\n",
       "      <td>0.8</td>\n",
       "      <td>2043.04</td>\n",
       "      <td>1088.93</td>\n",
       "    </tr>\n",
       "    <tr>\n",
       "      <th>84</th>\n",
       "      <td>2181</td>\n",
       "      <td>0.1</td>\n",
       "      <td>0.7</td>\n",
       "      <td>1501.28</td>\n",
       "      <td>1476.65</td>\n",
       "    </tr>\n",
       "    <tr>\n",
       "      <th>85</th>\n",
       "      <td>2182</td>\n",
       "      <td>0.1</td>\n",
       "      <td>0.8</td>\n",
       "      <td>1446.25</td>\n",
       "      <td>1446.25</td>\n",
       "    </tr>\n",
       "    <tr>\n",
       "      <th>86</th>\n",
       "      <td>2183</td>\n",
       "      <td>0.1</td>\n",
       "      <td>0.9</td>\n",
       "      <td>1612.88</td>\n",
       "      <td>1612.88</td>\n",
       "    </tr>\n",
       "    <tr>\n",
       "      <th>87</th>\n",
       "      <td>2184</td>\n",
       "      <td>0.1</td>\n",
       "      <td>0.9</td>\n",
       "      <td>5927.50</td>\n",
       "      <td>3970.45</td>\n",
       "    </tr>\n",
       "  </tbody>\n",
       "</table>\n",
       "<p>88 rows × 5 columns</p>\n",
       "</div>"
      ],
      "text/plain": [
       "   ticker  buying_point  selling_point  best_score  market_score\n",
       "0    1001           0.3            0.8     2462.12       2418.01\n",
       "1    1002           0.1            0.8     2401.94       2401.94\n",
       "2    1003           0.1            0.8     2970.59       2688.05\n",
       "3    1004           0.1            0.9     2201.01       2201.01\n",
       "4    1005           0.2            0.9     4188.02       3670.34\n",
       "..    ...           ...            ...         ...           ...\n",
       "83   2160           0.1            0.8     2043.04       1088.93\n",
       "84   2181           0.1            0.7     1501.28       1476.65\n",
       "85   2182           0.1            0.8     1446.25       1446.25\n",
       "86   2183           0.1            0.9     1612.88       1612.88\n",
       "87   2184           0.1            0.9     5927.50       3970.45\n",
       "\n",
       "[88 rows x 5 columns]"
      ]
     },
     "execution_count": 66,
     "metadata": {},
     "output_type": "execute_result"
    }
   ],
   "source": [
    "final_result_df"
   ]
  },
  {
   "cell_type": "code",
   "execution_count": 67,
   "metadata": {
    "ExecuteTime": {
     "end_time": "2022-11-10T05:58:19.645223Z",
     "start_time": "2022-11-10T05:58:19.634017Z"
    },
    "execution": {
     "iopub.execute_input": "2022-11-24T00:31:32.284928Z",
     "iopub.status.busy": "2022-11-24T00:31:32.283967Z",
     "iopub.status.idle": "2022-11-24T00:31:32.293821Z",
     "shell.execute_reply": "2022-11-24T00:31:32.292177Z",
     "shell.execute_reply.started": "2022-11-24T00:31:32.284870Z"
    },
    "tags": []
   },
   "outputs": [],
   "source": [
    "final_result_df['per'] = ((final_result_df['best_score']/final_result_df['market_score']))"
   ]
  },
  {
   "cell_type": "code",
   "execution_count": 68,
   "metadata": {
    "ExecuteTime": {
     "end_time": "2022-10-18T00:50:58.600692Z",
     "start_time": "2022-10-18T00:50:58.520180Z"
    },
    "execution": {
     "iopub.execute_input": "2022-11-24T00:31:32.506122Z",
     "iopub.status.busy": "2022-11-24T00:31:32.505485Z",
     "iopub.status.idle": "2022-11-24T00:31:32.515777Z",
     "shell.execute_reply": "2022-11-24T00:31:32.514480Z",
     "shell.execute_reply.started": "2022-11-24T00:31:32.506064Z"
    },
    "tags": []
   },
   "outputs": [],
   "source": [
    "final_result_df.to_csv(\"index_final_result.csv\")"
   ]
  },
  {
   "cell_type": "code",
   "execution_count": 69,
   "metadata": {
    "execution": {
     "iopub.execute_input": "2022-11-24T00:31:32.730907Z",
     "iopub.status.busy": "2022-11-24T00:31:32.730315Z",
     "iopub.status.idle": "2022-11-24T00:31:32.738168Z",
     "shell.execute_reply": "2022-11-24T00:31:32.736548Z",
     "shell.execute_reply.started": "2022-11-24T00:31:32.730851Z"
    },
    "tags": []
   },
   "outputs": [],
   "source": [
    "best_parameter = final_result_df"
   ]
  },
  {
   "cell_type": "code",
   "execution_count": 70,
   "metadata": {
    "execution": {
     "iopub.execute_input": "2022-11-24T00:31:33.000327Z",
     "iopub.status.busy": "2022-11-24T00:31:32.999707Z",
     "iopub.status.idle": "2022-11-24T00:31:33.028950Z",
     "shell.execute_reply": "2022-11-24T00:31:33.028069Z",
     "shell.execute_reply.started": "2022-11-24T00:31:33.000271Z"
    },
    "tags": []
   },
   "outputs": [
    {
     "data": {
      "text/html": [
       "<div>\n",
       "<style scoped>\n",
       "    .dataframe tbody tr th:only-of-type {\n",
       "        vertical-align: middle;\n",
       "    }\n",
       "\n",
       "    .dataframe tbody tr th {\n",
       "        vertical-align: top;\n",
       "    }\n",
       "\n",
       "    .dataframe thead th {\n",
       "        text-align: right;\n",
       "    }\n",
       "</style>\n",
       "<table border=\"1\" class=\"dataframe\">\n",
       "  <thead>\n",
       "    <tr style=\"text-align: right;\">\n",
       "      <th></th>\n",
       "      <th>ticker</th>\n",
       "      <th>buying_point</th>\n",
       "      <th>selling_point</th>\n",
       "      <th>best_score</th>\n",
       "      <th>market_score</th>\n",
       "      <th>per</th>\n",
       "    </tr>\n",
       "  </thead>\n",
       "  <tbody>\n",
       "    <tr>\n",
       "      <th>0</th>\n",
       "      <td>1001</td>\n",
       "      <td>0.3</td>\n",
       "      <td>0.8</td>\n",
       "      <td>2462.12</td>\n",
       "      <td>2418.01</td>\n",
       "      <td>1.018242</td>\n",
       "    </tr>\n",
       "    <tr>\n",
       "      <th>1</th>\n",
       "      <td>1002</td>\n",
       "      <td>0.1</td>\n",
       "      <td>0.8</td>\n",
       "      <td>2401.94</td>\n",
       "      <td>2401.94</td>\n",
       "      <td>1.000000</td>\n",
       "    </tr>\n",
       "    <tr>\n",
       "      <th>2</th>\n",
       "      <td>1003</td>\n",
       "      <td>0.1</td>\n",
       "      <td>0.8</td>\n",
       "      <td>2970.59</td>\n",
       "      <td>2688.05</td>\n",
       "      <td>1.105110</td>\n",
       "    </tr>\n",
       "    <tr>\n",
       "      <th>3</th>\n",
       "      <td>1004</td>\n",
       "      <td>0.1</td>\n",
       "      <td>0.9</td>\n",
       "      <td>2201.01</td>\n",
       "      <td>2201.01</td>\n",
       "      <td>1.000000</td>\n",
       "    </tr>\n",
       "    <tr>\n",
       "      <th>4</th>\n",
       "      <td>1005</td>\n",
       "      <td>0.2</td>\n",
       "      <td>0.9</td>\n",
       "      <td>4188.02</td>\n",
       "      <td>3670.34</td>\n",
       "      <td>1.141044</td>\n",
       "    </tr>\n",
       "    <tr>\n",
       "      <th>...</th>\n",
       "      <td>...</td>\n",
       "      <td>...</td>\n",
       "      <td>...</td>\n",
       "      <td>...</td>\n",
       "      <td>...</td>\n",
       "      <td>...</td>\n",
       "    </tr>\n",
       "    <tr>\n",
       "      <th>83</th>\n",
       "      <td>2160</td>\n",
       "      <td>0.1</td>\n",
       "      <td>0.8</td>\n",
       "      <td>2043.04</td>\n",
       "      <td>1088.93</td>\n",
       "      <td>1.876190</td>\n",
       "    </tr>\n",
       "    <tr>\n",
       "      <th>84</th>\n",
       "      <td>2181</td>\n",
       "      <td>0.1</td>\n",
       "      <td>0.7</td>\n",
       "      <td>1501.28</td>\n",
       "      <td>1476.65</td>\n",
       "      <td>1.016680</td>\n",
       "    </tr>\n",
       "    <tr>\n",
       "      <th>85</th>\n",
       "      <td>2182</td>\n",
       "      <td>0.1</td>\n",
       "      <td>0.8</td>\n",
       "      <td>1446.25</td>\n",
       "      <td>1446.25</td>\n",
       "      <td>1.000000</td>\n",
       "    </tr>\n",
       "    <tr>\n",
       "      <th>86</th>\n",
       "      <td>2183</td>\n",
       "      <td>0.1</td>\n",
       "      <td>0.9</td>\n",
       "      <td>1612.88</td>\n",
       "      <td>1612.88</td>\n",
       "      <td>1.000000</td>\n",
       "    </tr>\n",
       "    <tr>\n",
       "      <th>87</th>\n",
       "      <td>2184</td>\n",
       "      <td>0.1</td>\n",
       "      <td>0.9</td>\n",
       "      <td>5927.50</td>\n",
       "      <td>3970.45</td>\n",
       "      <td>1.492904</td>\n",
       "    </tr>\n",
       "  </tbody>\n",
       "</table>\n",
       "<p>88 rows × 6 columns</p>\n",
       "</div>"
      ],
      "text/plain": [
       "   ticker  buying_point  selling_point  best_score  market_score       per\n",
       "0    1001           0.3            0.8     2462.12       2418.01  1.018242\n",
       "1    1002           0.1            0.8     2401.94       2401.94  1.000000\n",
       "2    1003           0.1            0.8     2970.59       2688.05  1.105110\n",
       "3    1004           0.1            0.9     2201.01       2201.01  1.000000\n",
       "4    1005           0.2            0.9     4188.02       3670.34  1.141044\n",
       "..    ...           ...            ...         ...           ...       ...\n",
       "83   2160           0.1            0.8     2043.04       1088.93  1.876190\n",
       "84   2181           0.1            0.7     1501.28       1476.65  1.016680\n",
       "85   2182           0.1            0.8     1446.25       1446.25  1.000000\n",
       "86   2183           0.1            0.9     1612.88       1612.88  1.000000\n",
       "87   2184           0.1            0.9     5927.50       3970.45  1.492904\n",
       "\n",
       "[88 rows x 6 columns]"
      ]
     },
     "execution_count": 70,
     "metadata": {},
     "output_type": "execute_result"
    }
   ],
   "source": [
    "best_parameter"
   ]
  },
  {
   "cell_type": "code",
   "execution_count": 71,
   "metadata": {
    "execution": {
     "iopub.execute_input": "2022-11-24T00:31:36.601833Z",
     "iopub.status.busy": "2022-11-24T00:31:36.601350Z",
     "iopub.status.idle": "2022-11-24T00:31:36.611751Z",
     "shell.execute_reply": "2022-11-24T00:31:36.610009Z",
     "shell.execute_reply.started": "2022-11-24T00:31:36.601776Z"
    },
    "tags": []
   },
   "outputs": [
    {
     "name": "stdout",
     "output_type": "stream",
     "text": [
      "기하 평균 = 1.541918928218885\n"
     ]
    }
   ],
   "source": [
    "ar = best_parameter.per\n",
    "mul = 1\n",
    "for item in ar:\n",
    "    mul = mul*item\n",
    "GM = mul ** (1/len(ar))\n",
    "print(\"기하 평균 =\", GM)"
   ]
  },
  {
   "cell_type": "markdown",
   "metadata": {},
   "source": [
    "# fear greed list"
   ]
  },
  {
   "cell_type": "code",
   "execution_count": 165,
   "metadata": {
    "execution": {
     "iopub.execute_input": "2022-11-23T03:11:53.828870Z",
     "iopub.status.busy": "2022-11-23T03:11:53.828404Z",
     "iopub.status.idle": "2022-11-23T03:11:53.845862Z",
     "shell.execute_reply": "2022-11-23T03:11:53.844743Z",
     "shell.execute_reply.started": "2022-11-23T03:11:53.828814Z"
    },
    "tags": []
   },
   "outputs": [],
   "source": [
    "def FG_stock_list():\n",
    "\n",
    "    stock_df = pd.read_csv('../DATA/data_index/Stock_list.csv')\n",
    "    best_parameter = pd.read_csv('../Backtest/index_final_result.csv')\n",
    "    stock_list = [(str(i[1]) + str(' : ') +  str(i[2])) for i in stock_df.values if i[1] in list(best_parameter.ticker)]\n",
    "\n",
    "    middle = []\n",
    "    greed = []\n",
    "    fear = []\n",
    "    for i in stock_df.idx:\n",
    "        try:\n",
    "            FGscore_df = pd.read_csv('../DATA/data_FGscore/{}.csv'.format(str(i)))\n",
    "            select_FGscore = FGscore_df[FGscore_df.date == (datetime.today() - timedelta(days=1)).strftime(\"%Y-%m-%d\")].FG_score.iloc[0]\n",
    "\n",
    "            b = best_parameter[best_parameter.ticker == int(i)]\n",
    "            selling_point = np.round(b.selling_point.iloc[0],1)\n",
    "            buying_point = np.round(b.buying_point.iloc[0],1)\n",
    "\n",
    "            if select_FGscore > buying_point and select_FGscore < selling_point:\n",
    "                middle.append(i)\n",
    "            elif select_FGscore <=buying_point:\n",
    "                fear.append(i)\n",
    "            elif select_FGscore >=selling_point:\n",
    "                greed.append(i)\n",
    "        except Exception as e:\n",
    "            pass\n",
    "    return fear, greed\n"
   ]
  },
  {
   "cell_type": "code",
   "execution_count": 166,
   "metadata": {
    "execution": {
     "iopub.execute_input": "2022-11-23T03:11:54.020903Z",
     "iopub.status.busy": "2022-11-23T03:11:54.020476Z",
     "iopub.status.idle": "2022-11-23T03:11:55.297469Z",
     "shell.execute_reply": "2022-11-23T03:11:55.296654Z",
     "shell.execute_reply.started": "2022-11-23T03:11:54.020850Z"
    },
    "tags": []
   },
   "outputs": [
    {
     "data": {
      "text/plain": [
       "([], [1224, 1227, 1232, 1244, 2041, 2068])"
      ]
     },
     "execution_count": 166,
     "metadata": {},
     "output_type": "execute_result"
    }
   ],
   "source": [
    "FG_stock_list()"
   ]
  },
  {
   "cell_type": "code",
   "execution_count": 167,
   "metadata": {
    "execution": {
     "iopub.execute_input": "2022-11-23T03:12:19.203191Z",
     "iopub.status.busy": "2022-11-23T03:12:19.202100Z",
     "iopub.status.idle": "2022-11-23T03:12:20.508855Z",
     "shell.execute_reply": "2022-11-23T03:12:20.507780Z",
     "shell.execute_reply.started": "2022-11-23T03:12:19.203130Z"
    }
   },
   "outputs": [],
   "source": [
    "fear, greed = FG_stock_list()"
   ]
  },
  {
   "cell_type": "code",
   "execution_count": 168,
   "metadata": {
    "execution": {
     "iopub.execute_input": "2022-11-23T03:12:23.570399Z",
     "iopub.status.busy": "2022-11-23T03:12:23.569760Z",
     "iopub.status.idle": "2022-11-23T03:12:23.578820Z",
     "shell.execute_reply": "2022-11-23T03:12:23.577656Z",
     "shell.execute_reply.started": "2022-11-23T03:12:23.570343Z"
    }
   },
   "outputs": [
    {
     "data": {
      "text/plain": [
       "[]"
      ]
     },
     "execution_count": 168,
     "metadata": {},
     "output_type": "execute_result"
    }
   ],
   "source": [
    "fear"
   ]
  },
  {
   "cell_type": "code",
   "execution_count": 169,
   "metadata": {
    "execution": {
     "iopub.execute_input": "2022-11-23T03:12:26.976223Z",
     "iopub.status.busy": "2022-11-23T03:12:26.975754Z",
     "iopub.status.idle": "2022-11-23T03:12:26.986166Z",
     "shell.execute_reply": "2022-11-23T03:12:26.984738Z",
     "shell.execute_reply.started": "2022-11-23T03:12:26.976164Z"
    }
   },
   "outputs": [
    {
     "data": {
      "text/plain": [
       "[1224, 1227, 1232, 1244, 2041, 2068]"
      ]
     },
     "execution_count": 169,
     "metadata": {},
     "output_type": "execute_result"
    }
   ],
   "source": [
    "greed"
   ]
  },
  {
   "cell_type": "code",
   "execution_count": null,
   "metadata": {},
   "outputs": [],
   "source": []
  },
  {
   "cell_type": "code",
   "execution_count": 27,
   "metadata": {
    "ExecuteTime": {
     "end_time": "2022-11-10T05:58:26.536753Z",
     "start_time": "2022-11-10T05:58:26.520707Z"
    },
    "execution": {
     "iopub.execute_input": "2022-11-22T01:14:15.165344Z",
     "iopub.status.busy": "2022-11-22T01:14:15.164883Z",
     "iopub.status.idle": "2022-11-22T01:14:15.178738Z",
     "shell.execute_reply": "2022-11-22T01:14:15.177081Z",
     "shell.execute_reply.started": "2022-11-22T01:14:15.165292Z"
    },
    "tags": []
   },
   "outputs": [
    {
     "name": "stdout",
     "output_type": "stream",
     "text": [
      "61\n",
      "10\n",
      "17\n"
     ]
    }
   ],
   "source": [
    "print(len(final_result_df[final_result_df['per'] > 0]))\n",
    "print(len(final_result_df[final_result_df['per'] == 0]))\n",
    "print(len(final_result_df[final_result_df['per'] < 0]))"
   ]
  },
  {
   "cell_type": "code",
   "execution_count": 29,
   "metadata": {
    "execution": {
     "iopub.execute_input": "2022-11-22T01:14:42.065777Z",
     "iopub.status.busy": "2022-11-22T01:14:42.065276Z",
     "iopub.status.idle": "2022-11-22T01:14:42.075634Z",
     "shell.execute_reply": "2022-11-22T01:14:42.074049Z",
     "shell.execute_reply.started": "2022-11-22T01:14:42.065721Z"
    }
   },
   "outputs": [
    {
     "data": {
      "text/plain": [
       "88"
      ]
     },
     "execution_count": 29,
     "metadata": {},
     "output_type": "execute_result"
    }
   ],
   "source": [
    "len(final_result_df)"
   ]
  },
  {
   "cell_type": "code",
   "execution_count": 30,
   "metadata": {
    "ExecuteTime": {
     "end_time": "2022-11-10T05:58:27.793009Z",
     "start_time": "2022-11-10T05:58:27.785254Z"
    },
    "execution": {
     "iopub.execute_input": "2022-11-22T01:14:44.195511Z",
     "iopub.status.busy": "2022-11-22T01:14:44.195039Z",
     "iopub.status.idle": "2022-11-22T01:14:44.204837Z",
     "shell.execute_reply": "2022-11-22T01:14:44.203647Z",
     "shell.execute_reply.started": "2022-11-22T01:14:44.195455Z"
    },
    "tags": []
   },
   "outputs": [
    {
     "data": {
      "text/plain": [
       "0.6931818181818182"
      ]
     },
     "execution_count": 30,
     "metadata": {},
     "output_type": "execute_result"
    }
   ],
   "source": [
    "61/88"
   ]
  },
  {
   "cell_type": "code",
   "execution_count": 31,
   "metadata": {
    "ExecuteTime": {
     "end_time": "2022-11-10T05:58:29.535575Z",
     "start_time": "2022-11-10T05:58:29.528170Z"
    },
    "execution": {
     "iopub.execute_input": "2022-11-22T01:14:47.034205Z",
     "iopub.status.busy": "2022-11-22T01:14:47.033526Z",
     "iopub.status.idle": "2022-11-22T01:14:47.045498Z",
     "shell.execute_reply": "2022-11-22T01:14:47.044001Z",
     "shell.execute_reply.started": "2022-11-22T01:14:47.034146Z"
    },
    "tags": []
   },
   "outputs": [
    {
     "name": "stdout",
     "output_type": "stream",
     "text": [
      "312024.66000000003\n",
      "271838.57\n",
      "1.1478307143831725\n"
     ]
    }
   ],
   "source": [
    "print(np.sum(final_result_df['best_score']))\n",
    "print(np.sum(final_result_df['market_score']))\n",
    "print(np.sum(final_result_df['best_score']) / np.sum(final_result_df['market_score']))"
   ]
  },
  {
   "cell_type": "code",
   "execution_count": 32,
   "metadata": {
    "ExecuteTime": {
     "end_time": "2022-11-10T05:58:31.237446Z",
     "start_time": "2022-11-10T05:58:31.223248Z"
    },
    "execution": {
     "iopub.execute_input": "2022-11-22T01:14:55.925954Z",
     "iopub.status.busy": "2022-11-22T01:14:55.925452Z",
     "iopub.status.idle": "2022-11-22T01:14:55.937230Z",
     "shell.execute_reply": "2022-11-22T01:14:55.935783Z",
     "shell.execute_reply.started": "2022-11-22T01:14:55.925899Z"
    },
    "tags": []
   },
   "outputs": [],
   "source": [
    "up_df = final_result_df[final_result_df['per'] > 0]\n",
    "same_df = final_result_df[final_result_df['per'] == 0]\n",
    "down_df = final_result_df[final_result_df['per'] < 0]"
   ]
  },
  {
   "cell_type": "code",
   "execution_count": 33,
   "metadata": {
    "ExecuteTime": {
     "end_time": "2022-11-10T05:58:32.570794Z",
     "start_time": "2022-11-10T05:58:32.565612Z"
    },
    "execution": {
     "iopub.execute_input": "2022-11-22T01:14:56.092508Z",
     "iopub.status.busy": "2022-11-22T01:14:56.092078Z",
     "iopub.status.idle": "2022-11-22T01:14:56.101654Z",
     "shell.execute_reply": "2022-11-22T01:14:56.099767Z",
     "shell.execute_reply.started": "2022-11-22T01:14:56.092456Z"
    },
    "tags": []
   },
   "outputs": [
    {
     "name": "stdout",
     "output_type": "stream",
     "text": [
      "61\n",
      "17\n",
      "0.6931818181818182\n"
     ]
    }
   ],
   "source": [
    "print(len(up_df))\n",
    "print(len(down_df))\n",
    "print(len(up_df) / len(final_result_df))"
   ]
  },
  {
   "cell_type": "code",
   "execution_count": 36,
   "metadata": {
    "ExecuteTime": {
     "end_time": "2022-11-10T05:58:37.802038Z",
     "start_time": "2022-11-10T05:58:37.626181Z"
    },
    "execution": {
     "iopub.execute_input": "2022-11-22T01:15:16.856750Z",
     "iopub.status.busy": "2022-11-22T01:15:16.856089Z",
     "iopub.status.idle": "2022-11-22T01:15:17.001602Z",
     "shell.execute_reply": "2022-11-22T01:15:17.000751Z",
     "shell.execute_reply.started": "2022-11-22T01:15:16.856692Z"
    },
    "tags": []
   },
   "outputs": [
    {
     "data": {
      "image/png": "[encoded data removed]",
      "text/plain": [
       "<Figure size 640x480 with 1 Axes>"
      ]
     },
     "metadata": {},
     "output_type": "display_data"
    }
   ],
   "source": [
    "plt.hist(up_df.buying_point, bins = 10)\n",
    "plt.hist(up_df.selling_point, bins = 10)\n",
    "plt.show()"
   ]
  },
  {
   "cell_type": "code",
   "execution_count": null,
   "metadata": {},
   "outputs": [],
   "source": []
  }
 ],
 "metadata": {
  "kernelspec": {
   "display_name": "taehoon_py37",
   "language": "python",
   "name": "taehoon_py37"
  },
  "language_info": {
   "codemirror_mode": {
    "name": "ipython",
    "version": 3
   },
   "file_extension": ".py",
   "mimetype": "text/x-python",
   "name": "python",
   "nbconvert_exporter": "python",
   "pygments_lexer": "ipython3",
   "version": "3.7.15"
  },
  "toc": {
   "base_numbering": 1,
   "nav_menu": {},
   "number_sections": true,
   "sideBar": true,
   "skip_h1_title": false,
   "title_cell": "Table of Contents",
   "title_sidebar": "Contents",
   "toc_cell": false,
   "toc_position": {},
   "toc_section_display": true,
   "toc_window_display": false
  },
  "varInspector": {
   "cols": {
    "lenName": 16,
    "lenType": 16,
    "lenVar": 40
   },
   "kernels_config": {
    "python": {
     "delete_cmd_postfix": "",
     "delete_cmd_prefix": "del ",
     "library": "var_list.py",
     "varRefreshCmd": "print(var_dic_list())"
    },
    "r": {
     "delete_cmd_postfix": ") ",
     "delete_cmd_prefix": "rm(",
     "library": "var_list.r",
     "varRefreshCmd": "cat(var_dic_list()) "
    }
   },
   "types_to_exclude": [
    "module",
    "function",
    "builtin_function_or_method",
    "instance",
    "_Feature"
   ],
   "window_display": false
  }
 },
 "nbformat": 4,
 "nbformat_minor": 4
}
