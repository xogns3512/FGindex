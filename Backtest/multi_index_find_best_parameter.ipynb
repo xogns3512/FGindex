{
 "cells": [
  {
   "cell_type": "code",
   "execution_count": 1,
   "metadata": {
    "ExecuteTime": {
     "end_time": "2022-11-10T06:08:34.094976Z",
     "start_time": "2022-11-10T06:08:33.120602Z"
    },
    "execution": {
     "iopub.execute_input": "2022-11-24T00:03:49.083628Z",
     "iopub.status.busy": "2022-11-24T00:03:49.083174Z",
     "iopub.status.idle": "2022-11-24T00:03:49.152206Z",
     "shell.execute_reply": "2022-11-24T00:03:49.151317Z",
     "shell.execute_reply.started": "2022-11-24T00:03:49.083573Z"
    },
    "tags": []
   },
   "outputs": [],
   "source": [
    "# %run ../Utils/FGindex_function.ipynb\n",
    "# %run ../Utils/portfolio_metrics.ipynb\n",
    "# %run ../Utils/Backtesting_function.ipynb"
   ]
  },
  {
   "cell_type": "code",
   "execution_count": 2,
   "metadata": {
    "ExecuteTime": {
     "end_time": "2022-11-10T05:36:42.866052Z",
     "start_time": "2022-11-10T05:36:42.722506Z"
    },
    "execution": {
     "iopub.execute_input": "2022-11-24T00:03:49.295950Z",
     "iopub.status.busy": "2022-11-24T00:03:49.295340Z",
     "iopub.status.idle": "2022-11-24T00:03:49.301621Z",
     "shell.execute_reply": "2022-11-24T00:03:49.300623Z",
     "shell.execute_reply.started": "2022-11-24T00:03:49.295894Z"
    },
    "tags": []
   },
   "outputs": [],
   "source": [
    "from pykrx import stock\n",
    "from pykrx import bond"
   ]
  },
  {
   "cell_type": "code",
   "execution_count": 3,
   "metadata": {
    "ExecuteTime": {
     "end_time": "2022-11-10T05:36:43.136757Z",
     "start_time": "2022-11-10T05:36:43.132465Z"
    },
    "execution": {
     "iopub.execute_input": "2022-11-24T00:03:49.513305Z",
     "iopub.status.busy": "2022-11-24T00:03:49.512674Z",
     "iopub.status.idle": "2022-11-24T00:03:49.521100Z",
     "shell.execute_reply": "2022-11-24T00:03:49.519794Z",
     "shell.execute_reply.started": "2022-11-24T00:03:49.513247Z"
    },
    "tags": []
   },
   "outputs": [],
   "source": [
    "import pandas as pd\n",
    "import numpy as np\n",
    "from matplotlib import pyplot as plt\n",
    "from operator import itemgetter\n",
    "from datetime import date, datetime, timedelta\n",
    "import time"
   ]
  },
  {
   "cell_type": "code",
   "execution_count": 4,
   "metadata": {},
   "outputs": [],
   "source": [
    "minio_uri = \"http://211.55.12.167:8801\"\n",
    "bucket_name = \"stock-dataset\""
   ]
  },
  {
   "cell_type": "markdown",
   "metadata": {
    "tags": []
   },
   "source": [
    "# back testing"
   ]
  },
  {
   "cell_type": "code",
   "execution_count": 5,
   "metadata": {},
   "outputs": [],
   "source": [
    "def backtesting():\n",
    "        \n",
    "    final_result = []\n",
    "    for ticker in stock.get_index_ticker_list() + stock.get_index_ticker_list(market = \"KOSDAQ\"):\n",
    "        \n",
    "        try:\n",
    "            # read data\n",
    "            print(\"ticker : \" + str(ticker) )\n",
    "\n",
    "            fname = \"data_FGscore/{}.csv\".format(ticker)\n",
    "            url = f\"{minio_uri}/{bucket_name}/{fname}\"\n",
    "            stock_df = pd.read_csv(url)\n",
    "\n",
    "            if len(stock_df) > 0:\n",
    "\n",
    "                stock_df.columns = [\"index\",\"datetime\",\"close\",'volume','multiple_volume','per','Volatility_list','Volume_list','S1_score','S2_score',\"FG_score\"]\n",
    "                stock_df = stock_df.sort_values(\"datetime\").reset_index(drop=True)\n",
    "\n",
    "                # make candid list\n",
    "                threshold_list = []\n",
    "                for b in np.arange (0.1,0.6,0.1):\n",
    "                    for s in np.arange(0.5,1,0.1):\n",
    "                        threshold_list.append([b,s])\n",
    "\n",
    "                best_close = 0\n",
    "                best_parameter = [0,0] \n",
    "                print(\"market_Score : \" + str(stock_df.close[len(stock_df)-1]))\n",
    "\n",
    "                # auto simul\n",
    "                for i in threshold_list:\n",
    "\n",
    "                    tmp,tmp2 = back_testing(stock_df, buying_score = i[0], selling_score = i[1], print_type = False)\n",
    "\n",
    "                    if best_close < tmp[len(tmp)-1]:\n",
    "                        best_close = tmp[len(tmp)-1]\n",
    "                        best_parameter = i\n",
    "                print(\"best_Score : \" + str(best_close))\n",
    "                print(\"threshold : \" + str(best_parameter))\n",
    "                print()\n",
    "\n",
    "                first_Score = stock_df.close[0]\n",
    "\n",
    "                market_Score = stock_df.close[len(stock_df)-1]\n",
    "                final_result.append([ticker, best_parameter[0], best_parameter[1],first_Score, best_close, market_Score])\n",
    "\n",
    "        except Exception as e:    \n",
    "            print('예외가 발생했습니다.', e)\n",
    "                \n",
    "    return final_result\n",
    "\n"
   ]
  },
  {
   "cell_type": "code",
   "execution_count": 6,
   "metadata": {
    "execution": {
     "iopub.execute_input": "2022-11-24T07:06:30.790260Z",
     "iopub.status.busy": "2022-11-24T07:06:30.789808Z",
     "iopub.status.idle": "2022-11-24T07:19:59.448253Z",
     "shell.execute_reply": "2022-11-24T07:19:59.447332Z",
     "shell.execute_reply.started": "2022-11-24T07:06:30.790205Z"
    },
    "tags": []
   },
   "outputs": [
    {
     "name": "stdout",
     "output_type": "stream",
     "text": [
      "ticker : 1001\n",
      "market_Score : 2441.33\n",
      "best_Score : 2485.87\n",
      "threshold : [0.30000000000000004, 0.7999999999999999]\n",
      "\n",
      "ticker : 1002\n",
      "market_Score : 2426.39\n",
      "best_Score : 2426.39\n",
      "threshold : [0.1, 0.7999999999999999]\n",
      "\n",
      "ticker : 1003\n",
      "market_Score : 2704.73\n",
      "best_Score : 2989.02\n",
      "threshold : [0.1, 0.7999999999999999]\n",
      "\n",
      "ticker : 1004\n",
      "market_Score : 2222.0\n",
      "best_Score : 2222.0\n",
      "threshold : [0.1, 0.8999999999999999]\n",
      "\n",
      "ticker : 1005\n",
      "market_Score : 3686.27\n",
      "best_Score : 4206.2\n",
      "threshold : [0.2, 0.8999999999999999]\n",
      "\n",
      "ticker : 1006\n",
      "market_Score : 417.09\n",
      "best_Score : 1601.0\n",
      "threshold : [0.1, 0.8999999999999999]\n",
      "\n",
      "ticker : 1007\n",
      "market_Score : 364.82\n",
      "best_Score : 752.29\n",
      "threshold : [0.1, 0.8999999999999999]\n",
      "\n",
      "ticker : 1008\n",
      "market_Score : 5566.48\n",
      "best_Score : 5444.49\n",
      "threshold : [0.4, 0.8999999999999999]\n",
      "\n",
      "ticker : 1009\n",
      "market_Score : 14642.16\n",
      "best_Score : 8899.44\n",
      "threshold : [0.4, 0.8999999999999999]\n",
      "\n",
      "ticker : 1010\n",
      "market_Score : 3050.32\n",
      "best_Score : 7554.32\n",
      "threshold : [0.2, 0.8999999999999999]\n",
      "\n",
      "ticker : 1011\n",
      "market_Score : 4686.21\n",
      "best_Score : 3714.06\n",
      "threshold : [0.2, 0.8999999999999999]\n",
      "\n",
      "ticker : 1012\n",
      "market_Score : 990.65\n",
      "best_Score : 1585.53\n",
      "threshold : [0.1, 0.8999999999999999]\n",
      "\n",
      "ticker : 1013\n",
      "market_Score : 24505.15\n",
      "best_Score : 16273.45\n",
      "threshold : [0.30000000000000004, 0.8999999999999999]\n",
      "\n",
      "ticker : 1014\n",
      "market_Score : 2122.43\n",
      "best_Score : 1619.84\n",
      "threshold : [0.2, 0.7999999999999999]\n",
      "\n",
      "ticker : 1015\n",
      "market_Score : 1832.64\n",
      "best_Score : 4027.4\n",
      "threshold : [0.1, 0.8999999999999999]\n",
      "\n",
      "ticker : 1016\n",
      "market_Score : 342.53\n",
      "best_Score : 1069.98\n",
      "threshold : [0.1, 0.8999999999999999]\n",
      "\n",
      "ticker : 1017\n",
      "market_Score : 796.08\n",
      "best_Score : 1616.65\n",
      "threshold : [0.30000000000000004, 0.7999999999999999]\n",
      "\n",
      "ticker : 1018\n",
      "market_Score : 83.19\n",
      "best_Score : 78.03\n",
      "threshold : [0.1, 0.6]\n",
      "\n",
      "ticker : 1019\n",
      "market_Score : 1659.88\n",
      "best_Score : 3043.88\n",
      "threshold : [0.1, 0.8999999999999999]\n",
      "\n",
      "ticker : 1020\n",
      "market_Score : 397.44\n",
      "best_Score : 609.88\n",
      "threshold : [0.1, 0.7999999999999999]\n",
      "\n",
      "ticker : 1021\n",
      "market_Score : 356.39\n",
      "best_Score : 175.12\n",
      "threshold : [0.4, 0.8999999999999999]\n",
      "\n",
      "ticker : 1022\n",
      "market_Score : 129.83\n",
      "best_Score : 147.31\n",
      "threshold : [0.1, 0.7]\n",
      "\n",
      "ticker : 1024\n",
      "market_Score : 1689.89\n",
      "best_Score : 216.1\n",
      "threshold : [0.1, 0.8999999999999999]\n",
      "\n",
      "ticker : 1025\n",
      "market_Score : 14033.44\n",
      "best_Score : 907.38\n",
      "threshold : [0.5, 0.8999999999999999]\n",
      "\n",
      "ticker : 1026\n",
      "market_Score : 1153.42\n",
      "best_Score : 1433.53\n",
      "threshold : [0.1, 0.8999999999999999]\n",
      "\n",
      "ticker : 1027\n",
      "market_Score : 6439.14\n",
      "best_Score : 8556.51\n",
      "threshold : [0.2, 0.8999999999999999]\n",
      "\n",
      "ticker : 1028\n",
      "market_Score : 317.3\n",
      "best_Score : 278.8\n",
      "threshold : [0.2, 0.8999999999999999]\n",
      "\n",
      "ticker : 1034\n",
      "market_Score : 2388.42\n",
      "best_Score : 2388.42\n",
      "threshold : [0.1, 0.7999999999999999]\n",
      "\n",
      "ticker : 1035\n",
      "market_Score : 2177.65\n",
      "best_Score : 2880.32\n",
      "threshold : [0.1, 0.7999999999999999]\n",
      "\n",
      "ticker : 1150\n",
      "market_Score : 1850.22\n",
      "best_Score : 1919.5\n",
      "threshold : [0.1, 0.7]\n",
      "\n",
      "ticker : 1151\n",
      "market_Score : 284.87\n",
      "best_Score : 587.43\n",
      "threshold : [0.1, 0.7]\n",
      "\n",
      "ticker : 1152\n",
      "market_Score : 287.29\n",
      "best_Score : 525.54\n",
      "threshold : [0.1, 0.7]\n",
      "\n",
      "ticker : 1153\n",
      "market_Score : 841.24\n",
      "best_Score : 1093.12\n",
      "threshold : [0.30000000000000004, 0.7999999999999999]\n",
      "\n",
      "ticker : 1154\n",
      "market_Score : 1669.83\n",
      "best_Score : 1669.83\n",
      "threshold : [0.1, 0.8999999999999999]\n",
      "\n",
      "ticker : 1155\n",
      "market_Score : 2943.76\n",
      "best_Score : 3805.88\n",
      "threshold : [0.30000000000000004, 0.7999999999999999]\n",
      "\n",
      "ticker : 1156\n",
      "market_Score : 612.56\n",
      "best_Score : 747.62\n",
      "threshold : [0.1, 0.7]\n",
      "\n",
      "ticker : 1157\n",
      "market_Score : 873.67\n",
      "best_Score : 986.84\n",
      "threshold : [0.1, 0.7]\n",
      "\n",
      "ticker : 1158\n",
      "market_Score : 1402.01\n",
      "best_Score : 1402.01\n",
      "threshold : [0.1, 0.8999999999999999]\n",
      "\n",
      "ticker : 1159\n",
      "market_Score : 629.41\n",
      "best_Score : 629.41\n",
      "threshold : [0.1, 0.7999999999999999]\n",
      "\n",
      "ticker : 1160\n",
      "market_Score : 1770.97\n",
      "best_Score : 2326.53\n",
      "threshold : [0.1, 0.7]\n",
      "\n",
      "ticker : 1167\n",
      "market_Score : 1147.28\n",
      "best_Score : 1203.13\n",
      "threshold : [0.1, 0.6]\n",
      "\n",
      "ticker : 1182\n",
      "market_Score : 234.38\n",
      "best_Score : 234.38\n",
      "threshold : [0.1, 0.7999999999999999]\n",
      "\n",
      "ticker : 1224\n",
      "market_Score : 316.72\n",
      "best_Score : 390.13\n",
      "threshold : [0.1, 0.5]\n",
      "\n",
      "ticker : 1227\n",
      "market_Score : 313.88\n",
      "best_Score : 388.35\n",
      "threshold : [0.1, 0.5]\n",
      "\n",
      "ticker : 1232\n",
      "market_Score : 306.0\n",
      "best_Score : 380.1\n",
      "threshold : [0.1, 0.5]\n",
      "\n",
      "ticker : 1244\n",
      "market_Score : 3015.7\n",
      "best_Score : 4236.38\n",
      "threshold : [0.30000000000000004, 0.5]\n",
      "\n",
      "ticker : 1894\n",
      "ticker : 2001\n",
      "market_Score : 738.22\n",
      "best_Score : 955.37\n",
      "threshold : [0.1, 0.6]\n",
      "\n",
      "ticker : 2002\n",
      "market_Score : 1483.33\n",
      "best_Score : 2994.2\n",
      "threshold : [0.2, 0.7]\n",
      "\n",
      "ticker : 2003\n",
      "market_Score : 675.44\n",
      "best_Score : 856.13\n",
      "threshold : [0.1, 0.7999999999999999]\n",
      "\n",
      "ticker : 2004\n",
      "market_Score : 2707.52\n",
      "best_Score : 2707.52\n",
      "threshold : [0.1, 0.8999999999999999]\n",
      "\n",
      "ticker : 2012\n",
      "market_Score : 2262.09\n",
      "best_Score : 825.59\n",
      "threshold : [0.1, 0.6]\n",
      "\n",
      "ticker : 2015\n",
      "market_Score : 942.84\n",
      "best_Score : 2123.34\n",
      "threshold : [0.1, 0.7999999999999999]\n",
      "\n",
      "ticker : 2024\n",
      "market_Score : 2479.9\n",
      "best_Score : 3533.63\n",
      "threshold : [0.1, 0.7999999999999999]\n",
      "\n",
      "ticker : 2026\n",
      "market_Score : 80.32\n",
      "best_Score : 408.24\n",
      "threshold : [0.1, 0.7999999999999999]\n",
      "\n",
      "ticker : 2027\n",
      "market_Score : 429.47\n",
      "best_Score : 1590.53\n",
      "threshold : [0.1, 0.8999999999999999]\n",
      "\n",
      "ticker : 2029\n",
      "market_Score : 7863.42\n",
      "best_Score : 6432.48\n",
      "threshold : [0.2, 0.8999999999999999]\n",
      "\n",
      "ticker : 2031\n",
      "market_Score : 747.89\n",
      "best_Score : 1630.15\n",
      "threshold : [0.1, 0.8999999999999999]\n",
      "\n",
      "ticker : 2037\n",
      "market_Score : 627.72\n",
      "best_Score : 1229.29\n",
      "threshold : [0.1, 0.7999999999999999]\n",
      "\n",
      "ticker : 2041\n",
      "market_Score : 1082.94\n",
      "best_Score : 2418.94\n",
      "threshold : [0.1, 0.5]\n",
      "\n",
      "ticker : 2042\n",
      "market_Score : 1648.91\n",
      "best_Score : 2114.18\n",
      "threshold : [0.1, 0.7]\n",
      "\n",
      "ticker : 2043\n",
      "market_Score : 549.43\n",
      "best_Score : 2174.33\n",
      "threshold : [0.1, 0.7999999999999999]\n",
      "\n",
      "ticker : 2056\n",
      "market_Score : 7554.75\n",
      "best_Score : 13566.86\n",
      "threshold : [0.2, 0.8999999999999999]\n",
      "\n",
      "ticker : 2058\n",
      "market_Score : 105.12\n",
      "best_Score : 1672.09\n",
      "threshold : [0.1, 0.7]\n",
      "\n",
      "ticker : 2062\n",
      "market_Score : 14848.14\n",
      "best_Score : 3010.27\n",
      "threshold : [0.30000000000000004, 0.8999999999999999]\n",
      "\n",
      "ticker : 2063\n",
      "market_Score : 3847.67\n",
      "best_Score : 3132.63\n",
      "threshold : [0.4, 0.8999999999999999]\n",
      "\n",
      "ticker : 2065\n",
      "market_Score : 2791.71\n",
      "best_Score : 4851.53\n",
      "threshold : [0.1, 0.7]\n",
      "\n",
      "ticker : 2066\n",
      "market_Score : 7354.65\n",
      "best_Score : 12988.99\n",
      "threshold : [0.1, 0.8999999999999999]\n",
      "\n",
      "ticker : 2067\n",
      "market_Score : 53320.06\n",
      "best_Score : 46075.33\n",
      "threshold : [0.4, 0.8999999999999999]\n",
      "\n",
      "ticker : 2068\n",
      "market_Score : 2276.9\n",
      "best_Score : 3565.4\n",
      "threshold : [0.1, 0.5]\n",
      "\n",
      "ticker : 2070\n",
      "market_Score : 542.22\n",
      "best_Score : 836.93\n",
      "threshold : [0.1, 0.7]\n",
      "\n",
      "ticker : 2072\n",
      "market_Score : 1279.68\n",
      "best_Score : 19978.32\n",
      "threshold : [0.1, 0.7999999999999999]\n",
      "\n",
      "ticker : 2074\n",
      "market_Score : 1606.2\n",
      "best_Score : 3841.58\n",
      "threshold : [0.1, 0.7]\n",
      "\n",
      "ticker : 2075\n",
      "market_Score : 5919.61\n",
      "best_Score : 5217.32\n",
      "threshold : [0.30000000000000004, 0.8999999999999999]\n",
      "\n",
      "ticker : 2077\n",
      "market_Score : 1359.64\n",
      "best_Score : 9816.64\n",
      "threshold : [0.1, 0.8999999999999999]\n",
      "\n",
      "ticker : 2151\n",
      "market_Score : 809.66\n",
      "best_Score : 3526.11\n",
      "threshold : [0.1, 0.8999999999999999]\n",
      "\n",
      "ticker : 2152\n",
      "market_Score : 3154.07\n",
      "best_Score : 5402.38\n",
      "threshold : [0.1, 0.8999999999999999]\n",
      "\n",
      "ticker : 2153\n",
      "market_Score : 11788.43\n",
      "best_Score : 6531.12\n",
      "threshold : [0.30000000000000004, 0.8999999999999999]\n",
      "\n",
      "ticker : 2154\n",
      "market_Score : 1107.09\n",
      "best_Score : 4742.7\n",
      "threshold : [0.1, 0.8999999999999999]\n",
      "\n",
      "ticker : 2155\n",
      "market_Score : 205.85\n",
      "best_Score : 6190.4\n",
      "threshold : [0.1, 0.5]\n",
      "\n",
      "ticker : 2156\n",
      "market_Score : 216.32\n",
      "best_Score : 1689.36\n",
      "threshold : [0.1, 0.7999999999999999]\n",
      "\n",
      "ticker : 2157\n",
      "market_Score : 139.34\n",
      "best_Score : 1198.85\n",
      "threshold : [0.1, 0.6]\n",
      "\n",
      "ticker : 2158\n",
      "market_Score : 10.84\n",
      "best_Score : 766.97\n",
      "threshold : [0.1, 0.7]\n",
      "\n",
      "ticker : 2159\n",
      "market_Score : 1385.04\n",
      "best_Score : 1901.17\n",
      "threshold : [0.1, 0.6]\n",
      "\n",
      "ticker : 2160\n",
      "market_Score : 1119.72\n",
      "best_Score : 2043.04\n",
      "threshold : [0.1, 0.7999999999999999]\n",
      "\n",
      "ticker : 2181\n",
      "market_Score : 1500.65\n",
      "best_Score : 1501.28\n",
      "threshold : [0.1, 0.7]\n",
      "\n",
      "ticker : 2182\n",
      "market_Score : 1477.02\n",
      "best_Score : 1477.02\n",
      "threshold : [0.1, 0.7999999999999999]\n",
      "\n",
      "ticker : 2183\n",
      "market_Score : 1643.19\n",
      "best_Score : 1643.19\n",
      "threshold : [0.1, 0.8999999999999999]\n",
      "\n",
      "ticker : 2184\n",
      "market_Score : 4040.58\n",
      "best_Score : 5927.5\n",
      "threshold : [0.1, 0.8999999999999999]\n",
      "\n",
      "ticker : 2189\n",
      "예외가 발생했습니다. HTTP Error 404: Not Found\n",
      "ticker : 2203\n",
      "market_Score : 1057.67\n",
      "best_Score : 1465.49\n",
      "threshold : [0.1, 0.7999999999999999]\n",
      "\n",
      "ticker : 2212\n",
      "market_Score : 2149.32\n",
      "best_Score : 2149.32\n",
      "threshold : [0.1, 0.8999999999999999]\n",
      "\n",
      "ticker : 2213\n",
      "market_Score : 338.3\n",
      "best_Score : 350.44\n",
      "threshold : [0.1, 0.7]\n",
      "\n",
      "ticker : 2214\n",
      "market_Score : 656.41\n",
      "best_Score : 1031.13\n",
      "threshold : [0.1, 0.7]\n",
      "\n",
      "ticker : 2215\n",
      "market_Score : 863.4\n",
      "best_Score : 1766.55\n",
      "threshold : [0.1, 0.7999999999999999]\n",
      "\n",
      "ticker : 2216\n",
      "market_Score : 650.04\n",
      "best_Score : 721.74\n",
      "threshold : [0.1, 0.6]\n",
      "\n",
      "ticker : 2217\n",
      "market_Score : 2394.2\n",
      "best_Score : 6671.63\n",
      "threshold : [0.1, 0.8999999999999999]\n",
      "\n",
      "ticker : 2218\n",
      "market_Score : 2625.95\n",
      "best_Score : 4293.29\n",
      "threshold : [0.1, 0.7999999999999999]\n",
      "\n"
     ]
    }
   ],
   "source": [
    "final_result = backtesting()"
   ]
  },
  {
   "cell_type": "markdown",
   "metadata": {},
   "source": [
    "# output check"
   ]
  },
  {
   "cell_type": "code",
   "execution_count": 10,
   "metadata": {},
   "outputs": [],
   "source": [
    "from minio import Minio\n",
    "\n",
    "client = Minio(\n",
    "    \"192.168.0.207:8801\",  # URI\n",
    "    access_key=\"minioadmin\",\n",
    "    secret_key=\"minioadmin\",\n",
    "    secure=False)"
   ]
  },
  {
   "cell_type": "code",
   "execution_count": 11,
   "metadata": {
    "ExecuteTime": {
     "end_time": "2022-11-10T05:57:29.032085Z",
     "start_time": "2022-11-10T05:57:29.024316Z"
    },
    "execution": {
     "iopub.execute_input": "2022-11-24T00:31:20.507729Z",
     "iopub.status.busy": "2022-11-24T00:31:20.507281Z",
     "iopub.status.idle": "2022-11-24T00:31:20.516034Z",
     "shell.execute_reply": "2022-11-24T00:31:20.514402Z",
     "shell.execute_reply.started": "2022-11-24T00:31:20.507674Z"
    },
    "tags": []
   },
   "outputs": [],
   "source": [
    "final_result_df = pd.DataFrame(final_result)"
   ]
  },
  {
   "cell_type": "code",
   "execution_count": 12,
   "metadata": {
    "ExecuteTime": {
     "end_time": "2022-11-10T05:57:30.140687Z",
     "start_time": "2022-11-10T05:57:30.134280Z"
    },
    "execution": {
     "iopub.execute_input": "2022-11-24T00:31:21.446728Z",
     "iopub.status.busy": "2022-11-24T00:31:21.445725Z",
     "iopub.status.idle": "2022-11-24T00:31:21.452904Z",
     "shell.execute_reply": "2022-11-24T00:31:21.451771Z",
     "shell.execute_reply.started": "2022-11-24T00:31:21.446664Z"
    },
    "tags": []
   },
   "outputs": [],
   "source": [
    "final_result_df.columns = [\"ticker\", \"buying_point\",\"selling_point\",\"first_score\",\"best_score\",\"market_score\"] \n",
    "final_result_df['per'] = ((final_result_df['best_score']/final_result_df['market_score']))\n",
    "final_result_df.to_csv(\"./DATA/index_best_parameter.csv\")\n",
    "FG_score = client.fput_object(\"stock-dataset\", \"index_best_parameter.csv\", \"../DATA/index_best_parameter.csv\")"
   ]
  },
  {
   "cell_type": "code",
   "execution_count": 13,
   "metadata": {
    "execution": {
     "iopub.execute_input": "2022-11-24T00:31:36.601833Z",
     "iopub.status.busy": "2022-11-24T00:31:36.601350Z",
     "iopub.status.idle": "2022-11-24T00:31:36.611751Z",
     "shell.execute_reply": "2022-11-24T00:31:36.610009Z",
     "shell.execute_reply.started": "2022-11-24T00:31:36.601776Z"
    },
    "tags": []
   },
   "outputs": [
    {
     "name": "stdout",
     "output_type": "stream",
     "text": [
      "기하 평균 = 1.5278086897534378\n"
     ]
    }
   ],
   "source": [
    "ar = final_result_df.per\n",
    "mul = 1\n",
    "for item in ar:\n",
    "    mul = mul*item\n",
    "GM = mul ** (1/len(ar))\n",
    "print(\"기하 평균 =\", GM)"
   ]
  },
  {
   "cell_type": "markdown",
   "metadata": {},
   "source": [
    "# fear greed list"
   ]
  },
  {
   "cell_type": "code",
   "execution_count": 18,
   "metadata": {},
   "outputs": [],
   "source": [
    "\n",
    "minioClient = Minio(\n",
    "    \"211.55.12.167:8801\",  # URI\n",
    "    access_key=\"minioadmin\",\n",
    "    secret_key=\"minioadmin\",\n",
    "    secure=False)\n",
    "\n",
    "minio_uri = \"http://211.55.12.167:8801\"\n",
    "bucket_name = \"stock-dataset\"\n"
   ]
  },
  {
   "cell_type": "code",
   "execution_count": 22,
   "metadata": {},
   "outputs": [],
   "source": [
    "def FG_stock_list():\n",
    "\n",
    "    fname = \"data_index/Stock_list.csv\"\n",
    "    url = f\"{minio_uri}/{bucket_name}/{fname}\"\n",
    "    stock_df = pd.read_csv(url)\n",
    "    \n",
    "    fname = \"index_best_parameter.csv\"\n",
    "    url = f\"{minio_uri}/{bucket_name}/{fname}\"\n",
    "    best_parameter = pd.read_csv(url)\n",
    "    \n",
    "    stock_list = [(str(i[1]) + str(' : ') +  str(i[2])) for i in stock_df.values if i[1] in list(best_parameter.ticker)]\n",
    "\n",
    "    middle = []\n",
    "    greed = []\n",
    "    fear = []\n",
    "    for i in stock_df.idx:\n",
    "        try:\n",
    "            fname = \"data_FGscore/{}.csv\".format(str(i))\n",
    "            url = f\"{minio_uri}/{bucket_name}/{fname}\"\n",
    "            FGscore_df = pd.read_csv(url)\n",
    "            select_FGscore = FGscore_df[FGscore_df.date == (datetime.today() - timedelta(days=1)).strftime(\"%Y-%m-%d\")].FG_score.iloc[0]\n",
    "\n",
    "            b = best_parameter[best_parameter.ticker == int(i)]\n",
    "            selling_point = np.round(b.selling_point.iloc[0],1)\n",
    "            buying_point = np.round(b.buying_point.iloc[0],1)\n",
    "\n",
    "            if select_FGscore > buying_point and select_FGscore < selling_point:\n",
    "                middle.append(i)\n",
    "            elif select_FGscore <=buying_point:\n",
    "                fear.append(i)\n",
    "            elif select_FGscore >=selling_point:\n",
    "                greed.append(i)\n",
    "        except Exception as e:\n",
    "            pass\n",
    "    pd.DataFrame(fear).to_csv(\"./DATA/today_fear.csv\")\n",
    "    pd.DataFrame(greed).to_csv(\"./DATA/today_greed.csv\")\n",
    "    \n",
    "    result = minioClient.fput_object(\"stock-dataset\", \"today_fear.csv\", \"../DATA/today_fear.csv\")\n",
    "    result = minioClient.fput_object(\"stock-dataset\", \"today_greed.csv\", \"../DATA/today_greed.csv\")\n",
    "    \n",
    "    return fear, greed\n"
   ]
  },
  {
   "cell_type": "code",
   "execution_count": 23,
   "metadata": {},
   "outputs": [
    {
     "data": {
      "text/plain": [
       "([], [1224, 1227, 1232, 1244, 2041, 2068, 2155])"
      ]
     },
     "execution_count": 23,
     "metadata": {},
     "output_type": "execute_result"
    }
   ],
   "source": [
    "FG_stock_list()"
   ]
  },
  {
   "cell_type": "code",
   "execution_count": 24,
   "metadata": {
    "ExecuteTime": {
     "end_time": "2022-11-10T05:58:26.536753Z",
     "start_time": "2022-11-10T05:58:26.520707Z"
    },
    "execution": {
     "iopub.execute_input": "2022-11-22T01:14:15.165344Z",
     "iopub.status.busy": "2022-11-22T01:14:15.164883Z",
     "iopub.status.idle": "2022-11-22T01:14:15.178738Z",
     "shell.execute_reply": "2022-11-22T01:14:15.177081Z",
     "shell.execute_reply.started": "2022-11-22T01:14:15.165292Z"
    },
    "tags": []
   },
   "outputs": [
    {
     "name": "stdout",
     "output_type": "stream",
     "text": [
      "68\n",
      "11\n",
      "17\n"
     ]
    }
   ],
   "source": [
    "print(len(final_result_df[final_result_df['per'] > 1]))\n",
    "print(len(final_result_df[final_result_df['per'] == 1]))\n",
    "print(len(final_result_df[final_result_df['per'] < 1]))"
   ]
  },
  {
   "cell_type": "code",
   "execution_count": 28,
   "metadata": {
    "ExecuteTime": {
     "end_time": "2022-11-10T05:58:29.535575Z",
     "start_time": "2022-11-10T05:58:29.528170Z"
    },
    "execution": {
     "iopub.execute_input": "2022-11-22T01:14:47.034205Z",
     "iopub.status.busy": "2022-11-22T01:14:47.033526Z",
     "iopub.status.idle": "2022-11-22T01:14:47.045498Z",
     "shell.execute_reply": "2022-11-22T01:14:47.044001Z",
     "shell.execute_reply.started": "2022-11-22T01:14:47.034146Z"
    },
    "tags": []
   },
   "outputs": [
    {
     "name": "stdout",
     "output_type": "stream",
     "text": [
      "335267.88\n",
      "288581.94\n"
     ]
    }
   ],
   "source": [
    "print(np.sum(final_result_df['best_score']))\n",
    "print(np.sum(final_result_df['market_score']))"
   ]
  },
  {
   "cell_type": "code",
   "execution_count": 31,
   "metadata": {
    "ExecuteTime": {
     "end_time": "2022-11-10T05:58:31.237446Z",
     "start_time": "2022-11-10T05:58:31.223248Z"
    },
    "execution": {
     "iopub.execute_input": "2022-11-22T01:14:55.925954Z",
     "iopub.status.busy": "2022-11-22T01:14:55.925452Z",
     "iopub.status.idle": "2022-11-22T01:14:55.937230Z",
     "shell.execute_reply": "2022-11-22T01:14:55.935783Z",
     "shell.execute_reply.started": "2022-11-22T01:14:55.925899Z"
    },
    "tags": []
   },
   "outputs": [],
   "source": [
    "up_df = final_result_df[final_result_df['per'] > 1]\n",
    "same_df = final_result_df[final_result_df['per'] == 1]\n",
    "down_df = final_result_df[final_result_df['per'] < 1]"
   ]
  },
  {
   "cell_type": "code",
   "execution_count": 32,
   "metadata": {
    "ExecuteTime": {
     "end_time": "2022-11-10T05:58:32.570794Z",
     "start_time": "2022-11-10T05:58:32.565612Z"
    },
    "execution": {
     "iopub.execute_input": "2022-11-22T01:14:56.092508Z",
     "iopub.status.busy": "2022-11-22T01:14:56.092078Z",
     "iopub.status.idle": "2022-11-22T01:14:56.101654Z",
     "shell.execute_reply": "2022-11-22T01:14:56.099767Z",
     "shell.execute_reply.started": "2022-11-22T01:14:56.092456Z"
    },
    "tags": []
   },
   "outputs": [
    {
     "name": "stdout",
     "output_type": "stream",
     "text": [
      "68\n",
      "17\n",
      "0.7083333333333334\n"
     ]
    }
   ],
   "source": [
    "print(len(up_df))\n",
    "print(len(down_df))\n",
    "print(len(up_df) / len(final_result_df))"
   ]
  },
  {
   "cell_type": "code",
   "execution_count": 34,
   "metadata": {
    "ExecuteTime": {
     "end_time": "2022-11-10T05:58:37.802038Z",
     "start_time": "2022-11-10T05:58:37.626181Z"
    },
    "execution": {
     "iopub.execute_input": "2022-11-22T01:15:16.856750Z",
     "iopub.status.busy": "2022-11-22T01:15:16.856089Z",
     "iopub.status.idle": "2022-11-22T01:15:17.001602Z",
     "shell.execute_reply": "2022-11-22T01:15:17.000751Z",
     "shell.execute_reply.started": "2022-11-22T01:15:16.856692Z"
    },
    "tags": []
   },
   "outputs": [
    {
     "data": {
      "image/png": "[encoded data removed]",
      "text/plain": [
       "<Figure size 432x288 with 1 Axes>"
      ]
     },
     "metadata": {
      "needs_background": "light"
     },
     "output_type": "display_data"
    }
   ],
   "source": [
    "plt.hist(final_result_df.buying_point, bins = 10)\n",
    "plt.hist(final_result_df.selling_point, bins = 10)\n",
    "plt.show()"
   ]
  },
  {
   "cell_type": "code",
   "execution_count": null,
   "metadata": {},
   "outputs": [],
   "source": []
  }
 ],
 "metadata": {
  "kernelspec": {
   "display_name": "Python 3",
   "language": "python",
   "name": "python3"
  },
  "language_info": {
   "codemirror_mode": {
    "name": "ipython",
    "version": 3
   },
   "file_extension": ".py",
   "mimetype": "text/x-python",
   "name": "python",
   "nbconvert_exporter": "python",
   "pygments_lexer": "ipython3",
   "version": "3.6.9"
  },
  "toc": {
   "base_numbering": 1,
   "nav_menu": {},
   "number_sections": true,
   "sideBar": true,
   "skip_h1_title": false,
   "title_cell": "Table of Contents",
   "title_sidebar": "Contents",
   "toc_cell": false,
   "toc_position": {},
   "toc_section_display": true,
   "toc_window_display": false
  },
  "varInspector": {
   "cols": {
    "lenName": 16,
    "lenType": 16,
    "lenVar": 40
   },
   "kernels_config": {
    "python": {
     "delete_cmd_postfix": "",
     "delete_cmd_prefix": "del ",
     "library": "var_list.py",
     "varRefreshCmd": "print(var_dic_list())"
    },
    "r": {
     "delete_cmd_postfix": ") ",
     "delete_cmd_prefix": "rm(",
     "library": "var_list.r",
     "varRefreshCmd": "cat(var_dic_list()) "
    }
   },
   "types_to_exclude": [
    "module",
    "function",
    "builtin_function_or_method",
    "instance",
    "_Feature"
   ],
   "window_display": false
  }
 },
 "nbformat": 4,
 "nbformat_minor": 4
}
