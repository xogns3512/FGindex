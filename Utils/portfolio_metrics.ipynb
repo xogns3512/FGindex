{
 "cells": [
  {
   "cell_type": "code",
   "execution_count": 2,
   "metadata": {
    "ExecuteTime": {
     "end_time": "2022-10-24T08:20:01.633822Z",
     "start_time": "2022-10-24T08:20:01.438753Z"
    },
    "execution": {
     "iopub.execute_input": "2022-11-17T02:07:31.926584Z",
     "iopub.status.busy": "2022-11-17T02:07:31.926119Z",
     "iopub.status.idle": "2022-11-17T02:07:32.415122Z",
     "shell.execute_reply": "2022-11-17T02:07:32.413975Z",
     "shell.execute_reply.started": "2022-11-17T02:07:31.926529Z"
    }
   },
   "outputs": [],
   "source": [
    "import pandas as pd\n",
    "import numpy as np\n",
    "from matplotlib import pyplot as plt\n",
    "from operator import itemgetter\n",
    "from datetime import date, datetime\n",
    "import time"
   ]
  },
  {
   "cell_type": "markdown",
   "metadata": {},
   "source": [
    "# preprocessing"
   ]
  },
  {
   "cell_type": "code",
   "execution_count": 3,
   "metadata": {
    "ExecuteTime": {
     "end_time": "2022-10-24T08:20:02.024879Z",
     "start_time": "2022-10-24T08:20:02.012692Z"
    },
    "execution": {
     "iopub.execute_input": "2022-11-17T02:07:32.417071Z",
     "iopub.status.busy": "2022-11-17T02:07:32.416774Z",
     "iopub.status.idle": "2022-11-17T02:07:32.424613Z",
     "shell.execute_reply": "2022-11-17T02:07:32.423235Z",
     "shell.execute_reply.started": "2022-11-17T02:07:32.417033Z"
    }
   },
   "outputs": [],
   "source": [
    "def preprocessing(stock, simul):\n",
    "\n",
    "    stock['simul'] = simul\n",
    "    \n",
    "    per_list = [0,]\n",
    "    for i in range(1,len(stock)):\n",
    "        plus_per = ((stock.simul[i]/stock.simul[i-1])-1) * 100\n",
    "        per_list.append(plus_per)\n",
    "    stock[\"simul_per\"] = per_list\n",
    "    \n",
    "    datetime_list = [datetime.strptime(i,\"%Y-%m-%d\").date() for i in stock.date]\n",
    "    stock[\"datetime\"] = datetime_list\n",
    "    \n",
    "    return stock\n"
   ]
  },
  {
   "cell_type": "markdown",
   "metadata": {},
   "source": [
    "# metrics"
   ]
  },
  {
   "cell_type": "markdown",
   "metadata": {},
   "source": [
    "## beta"
   ]
  },
  {
   "cell_type": "code",
   "execution_count": 4,
   "metadata": {
    "ExecuteTime": {
     "end_time": "2022-10-24T08:20:03.320869Z",
     "start_time": "2022-10-24T08:20:03.312676Z"
    },
    "execution": {
     "iopub.execute_input": "2022-11-17T02:07:32.807637Z",
     "iopub.status.busy": "2022-11-17T02:07:32.807153Z",
     "iopub.status.idle": "2022-11-17T02:07:32.814771Z",
     "shell.execute_reply": "2022-11-17T02:07:32.813439Z",
     "shell.execute_reply.started": "2022-11-17T02:07:32.807580Z"
    }
   },
   "outputs": [],
   "source": [
    "def beta_func(stock):\n",
    "\n",
    "    # portfolio cov\n",
    "    port_cov = stock.close.cov(stock.simul)\n",
    "\n",
    "    # 시장 수익률 분산\n",
    "    market_cov = np.var(stock.close)\n",
    "\n",
    "    # beta market\n",
    "    beta_market = market_cov / market_cov\n",
    "    \n",
    "    # beta port\n",
    "    beta_port = port_cov / market_cov\n",
    "    \n",
    "    return beta_market, beta_port\n"
   ]
  },
  {
   "cell_type": "markdown",
   "metadata": {},
   "source": [
    "## sharp"
   ]
  },
  {
   "cell_type": "code",
   "execution_count": 5,
   "metadata": {
    "ExecuteTime": {
     "end_time": "2022-10-24T08:20:04.726237Z",
     "start_time": "2022-10-24T08:20:04.716836Z"
    },
    "execution": {
     "iopub.execute_input": "2022-11-17T02:07:33.127236Z",
     "iopub.status.busy": "2022-11-17T02:07:33.126785Z",
     "iopub.status.idle": "2022-11-17T02:07:33.138134Z",
     "shell.execute_reply": "2022-11-17T02:07:33.136621Z",
     "shell.execute_reply.started": "2022-11-17T02:07:33.127182Z"
    }
   },
   "outputs": [],
   "source": [
    "def sharp_func(stock):\n",
    "        \n",
    "    per_list = [0,]\n",
    "    for i in range(1,len(stock)):\n",
    "        plus_per = ((stock.simul[i]/stock.simul[i-1])-1) * 100\n",
    "        per_list.append(plus_per)\n",
    "    stock[\"simul_per\"] = per_list\n",
    "    \n",
    "    market_diff = (stock.close[len(stock)-1] - stock.close[1]) / stock.close[1]\n",
    "    simul_diff = (stock.simul[len(stock)-1] - stock.simul[1]) / stock.simul[1]\n",
    "    \n",
    "    sharp_market = market_diff / np.std(stock.per)\n",
    "    sharp_simul = simul_diff / np.std(stock.simul_per)\n",
    "    \n",
    "    return sharp_market, sharp_simul\n"
   ]
  },
  {
   "cell_type": "markdown",
   "metadata": {},
   "source": [
    "## sortino"
   ]
  },
  {
   "cell_type": "code",
   "execution_count": 6,
   "metadata": {
    "ExecuteTime": {
     "end_time": "2022-10-24T08:20:20.578766Z",
     "start_time": "2022-10-24T08:20:20.564965Z"
    },
    "execution": {
     "iopub.execute_input": "2022-11-17T02:07:33.446370Z",
     "iopub.status.busy": "2022-11-17T02:07:33.445891Z",
     "iopub.status.idle": "2022-11-17T02:07:33.457135Z",
     "shell.execute_reply": "2022-11-17T02:07:33.455243Z",
     "shell.execute_reply.started": "2022-11-17T02:07:33.446314Z"
    }
   },
   "outputs": [],
   "source": [
    "def sortino_func(stock):\n",
    "    sortino_close = [i if i < 0 else 0 for i in stock.per]\n",
    "    sortino_simul = [i if i < 0 else 0 for i in stock.simul_per]\n",
    "    \n",
    "    market_diff = (stock.close[len(stock)-1] - stock.close[1]) / stock.close[1]\n",
    "    simul_diff = (stock.simul[len(stock)-1] - stock.simul[1]) / stock.simul[1]\n",
    "    \n",
    "    sortino_market = market_diff / np.std(np.abs(sortino_close))    \n",
    "    sortino_minus = simul_diff / np.std(np.abs(sortino_simul))\n",
    "    \n",
    "    return sortino_market, sortino_minus\n"
   ]
  },
  {
   "cell_type": "markdown",
   "metadata": {},
   "source": [
    "## 최대낙폭 (MDD)"
   ]
  },
  {
   "cell_type": "code",
   "execution_count": 7,
   "metadata": {
    "ExecuteTime": {
     "end_time": "2022-10-24T08:20:21.832418Z",
     "start_time": "2022-10-24T08:20:21.817165Z"
    },
    "execution": {
     "iopub.execute_input": "2022-11-17T02:07:33.774956Z",
     "iopub.status.busy": "2022-11-17T02:07:33.774504Z",
     "iopub.status.idle": "2022-11-17T02:07:33.786381Z",
     "shell.execute_reply": "2022-11-17T02:07:33.785193Z",
     "shell.execute_reply.started": "2022-11-17T02:07:33.774901Z"
    }
   },
   "outputs": [],
   "source": [
    "def MDD_func(stock):\n",
    "    \n",
    "    MDD_list = []\n",
    "    for i in range(0,len(stock.per)-1):\n",
    "        onepoint = stock.close[i]\n",
    "        drawdown = np.min(stock.close[(i+1):])\n",
    "        MDD = 100 - (drawdown/onepoint)*100\n",
    "        MDD_list.append(MDD)\n",
    "    MDD_market = MDD_list[np.argmax(MDD_list)]\n",
    "\n",
    "    MDD_list = []\n",
    "    for i in range(0,len(stock.simul)-1):\n",
    "        onepoint = stock.simul[i]\n",
    "        drawdown = np.min(stock.simul[(i+1):])\n",
    "        MDD = 100 - (drawdown/onepoint)*100\n",
    "        MDD_list.append(MDD)\n",
    "    MDD_simul = MDD_list[np.argmax(MDD_list)]\n",
    "    \n",
    "    return MDD_market, MDD_simul\n"
   ]
  },
  {
   "cell_type": "code",
   "execution_count": 8,
   "metadata": {
    "ExecuteTime": {
     "end_time": "2022-10-24T08:20:22.780311Z",
     "start_time": "2022-10-24T08:20:22.761725Z"
    },
    "execution": {
     "iopub.execute_input": "2022-11-17T02:07:33.909742Z",
     "iopub.status.busy": "2022-11-17T02:07:33.909325Z",
     "iopub.status.idle": "2022-11-17T02:07:33.919811Z",
     "shell.execute_reply": "2022-11-17T02:07:33.919065Z",
     "shell.execute_reply.started": "2022-11-17T02:07:33.909689Z"
    }
   },
   "outputs": [],
   "source": [
    "def plot_measure(stock):\n",
    "    \n",
    "    beta_values = beta_func(stock)\n",
    "    sharp_values = sharp_func(stock)\n",
    "    sortino_values = sortino_func(stock)\n",
    "    MDD_values = MDD_func(stock)\n",
    "    \n",
    "    x = range(2)\n",
    "    port = [\"market\",\"portfolio\"]\n",
    "    value_list = [beta_values, sharp_values, sortino_values, MDD_values]\n",
    "    value_name = [\"beta\",\"sharp\",\"sortino\",\"MDD\"]\n",
    "    \n",
    "    fig, axs = plt.subplots(1,4,figsize = [11,3.5])\n",
    "    for i,value,name in zip(range(4), value_list, value_name):\n",
    "        axs[i].bar(x,value,color=['tab:orange','tab:blue'],width = 0.5); \n",
    "        axs[i].set_xticks(x); \n",
    "        axs[i].set_xticklabels(port);\n",
    "        axs[i].set_title(name,fontweight=\"bold\")\n",
    "    axs[0].axhline(y=1,color='red',linestyle='--')\n",
    "    plt.tight_layout()\n",
    "    plt.show()\n",
    "    \n",
    "    print(\"beta    :\" + str(beta_values))\n",
    "    print(\"sharp   :\" + str(sharp_values))\n",
    "    print(\"sortino :\" + str(sortino_values))\n",
    "    print(\"MDD     :\" + str(MDD_values))\n",
    "    "
   ]
  },
  {
   "cell_type": "code",
   "execution_count": 9,
   "metadata": {
    "ExecuteTime": {
     "end_time": "2022-10-24T08:20:23.539176Z",
     "start_time": "2022-10-24T08:20:23.527201Z"
    },
    "execution": {
     "iopub.execute_input": "2022-11-17T02:07:34.070102Z",
     "iopub.status.busy": "2022-11-17T02:07:34.069669Z",
     "iopub.status.idle": "2022-11-17T02:07:34.079892Z",
     "shell.execute_reply": "2022-11-17T02:07:34.078451Z",
     "shell.execute_reply.started": "2022-11-17T02:07:34.070047Z"
    }
   },
   "outputs": [],
   "source": [
    "def plot_profit(stock, anomaly_list):\n",
    "    fig, ax = plt.subplots(figsize = [13, 3])\n",
    "    ax.plot(stock.datetime,stock.simul,label='portfolio')\n",
    "    ax.plot(stock.datetime,stock.close,label='market')\n",
    "    for i in anomaly_list:\n",
    "        ax.axvspan(i[0], i[1], alpha=0.3, color='darkgray')\n",
    "    ax.set_title('price',fontweight=\"bold\")\n",
    "    plt.legend(loc=\"upper left\")\n",
    "    \n",
    "    plt.show()\n",
    "    "
   ]
  },
  {
   "cell_type": "code",
   "execution_count": 10,
   "metadata": {
    "ExecuteTime": {
     "end_time": "2022-10-24T08:20:23.770698Z",
     "start_time": "2022-10-24T08:20:23.756638Z"
    },
    "execution": {
     "iopub.execute_input": "2022-11-17T02:07:34.231081Z",
     "iopub.status.busy": "2022-11-17T02:07:34.230648Z",
     "iopub.status.idle": "2022-11-17T02:07:34.241390Z",
     "shell.execute_reply": "2022-11-17T02:07:34.239966Z",
     "shell.execute_reply.started": "2022-11-17T02:07:34.231027Z"
    }
   },
   "outputs": [],
   "source": [
    "def plot_alpha(stock, anomaly_list):\n",
    "    fig, ax = plt.subplots(figsize = [13,3])\n",
    "    # 포트폴리오 수익률\n",
    "    ax.plot(stock.datetime,list(np.array(stock.simul)-np.array(stock.close)),label = 'portfolio')\n",
    "    # 시장수익률\n",
    "    ax.axhline(y=0,color='tab:orange',linestyle='--',label = 'market')\n",
    "    for i in anomaly_list:\n",
    "        ax.axvspan(i[0], i[1], alpha=0.3, color='darkgray')\n",
    "\n",
    "    # 구간\n",
    "    ax.set_title('alpha',fontweight=\"bold\")\n",
    "    ax.legend(loc=\"upper left\")\n",
    "    plt.show()\n",
    "    "
   ]
  },
  {
   "cell_type": "markdown",
   "metadata": {},
   "source": [
    "# plot all"
   ]
  },
  {
   "cell_type": "code",
   "execution_count": null,
   "metadata": {},
   "outputs": [],
   "source": [
    "from minio import Minio\n",
    "\n",
    "client = Minio(\n",
    "    \"192.168.0.207:8801\",  # URI\n",
    "    access_key=\"minioadmin\",\n",
    "    secret_key=\"minioadmin\",\n",
    "    secure=False)"
   ]
  },
  {
   "cell_type": "code",
   "execution_count": 11,
   "metadata": {
    "ExecuteTime": {
     "end_time": "2022-10-24T08:20:26.409919Z",
     "start_time": "2022-10-24T08:20:26.368745Z"
    },
    "execution": {
     "iopub.execute_input": "2022-11-17T02:07:34.558279Z",
     "iopub.status.busy": "2022-11-17T02:07:34.557799Z",
     "iopub.status.idle": "2022-11-17T02:07:34.580552Z",
     "shell.execute_reply": "2022-11-17T02:07:34.579636Z",
     "shell.execute_reply.started": "2022-11-17T02:07:34.558222Z"
    },
    "tags": []
   },
   "outputs": [],
   "source": [
    "def plot_all(stock, anomaly_list, index_name):\n",
    "    \n",
    "    fig = plt.figure(figsize = [15,10])\n",
    "\n",
    "    # plot 1\n",
    "    ax1 = fig.add_subplot(3,1,1)\n",
    "    ax1.plot(stock.datetime,stock.simul,label='portfolio')\n",
    "    ax1.plot(stock.datetime,stock.close,label='market')\n",
    "    if len(anomaly_list) >  0:\n",
    "        for i in anomaly_list:\n",
    "            ax1.axvspan(i[0], i[1], alpha=0.3, color='darkgray')\n",
    "    ax1.set_title('price',fontweight=\"bold\")\n",
    "    plt.legend(loc=\"upper left\")\n",
    "\n",
    "    \n",
    "    # plot 2\n",
    "    ax2 = fig.add_subplot(3,1,2)\n",
    "    ax2.plot(stock.datetime,list(np.array(stock.simul)-np.array(stock.close)),label = 'portfolio')\n",
    "    ax2.axhline(y=0,color='tab:orange',linestyle='--',label = 'market')\n",
    "    if len(anomaly_list) >  0:\n",
    "        for i in anomaly_list:\n",
    "            ax2.axvspan(i[0], i[1], alpha=0.3, color='darkgray')\n",
    "    ax2.set_title('alpha',fontweight=\"bold\")\n",
    "\n",
    "    \n",
    "    # plot 3\n",
    "    x = range(2)\n",
    "    port = [\"market\",\"portfolio\"]\n",
    "    beta_values = beta_func(stock)\n",
    "    sharp_values = sharp_func(stock)\n",
    "    sortino_values = sortino_func(stock)\n",
    "    MDD_values = MDD_func(stock)\n",
    "\n",
    "    ax3 = fig.add_subplot(3,4,9)\n",
    "    ax3.bar(x,beta_values,color=['tab:orange','tab:blue'],width = 0.5); \n",
    "    ax3.set_xticks(x); \n",
    "    ax3.set_xticklabels(port);\n",
    "    ax3.set_title(\"beta\",fontweight=\"bold\")\n",
    "    ax3.axhline(y=1,color='red',linestyle='--')\n",
    "\n",
    "    ax4 = fig.add_subplot(3,4,10)\n",
    "    ax4.bar(x,sharp_values,color=['tab:orange','tab:blue'],width = 0.5); \n",
    "    ax4.set_xticks(x); \n",
    "    ax4.set_xticklabels(port);\n",
    "    ax4.set_title(\"sharp\",fontweight=\"bold\")\n",
    "\n",
    "    ax5 = fig.add_subplot(3,4,11)\n",
    "    ax5.bar(x,sortino_values,color=['tab:orange','tab:blue'],width = 0.5); \n",
    "    ax5.set_xticks(x); \n",
    "    ax5.set_xticklabels(port);\n",
    "    ax5.set_title(\"sortino\",fontweight=\"bold\")\n",
    "\n",
    "    ax6 = fig.add_subplot(3,4,12)\n",
    "    ax6.bar(x,MDD_values,color=['tab:orange','tab:blue'],width = 0.5); \n",
    "    ax6.set_xticks(x); \n",
    "    ax6.set_xticklabels(port);\n",
    "    ax6.set_title(\"MDD\",fontweight=\"bold\")\n",
    "\n",
    "    fig.suptitle('{}'.format(index_name), fontweight =\"bold\") \n",
    "    \n",
    "    plt.savefig('./DATA/portfolio_metric/{}.png'.format(index_name))\n",
    "    result = client.fput_object(\"stock-dataset\", \"portfolio_metric/{}.png\".format(index_name), \"./DATA/portfolio_metric/{}.png\".format(index_name))\n",
    "    \n",
    "    "
   ]
  },
  {
   "cell_type": "code",
   "execution_count": null,
   "metadata": {},
   "outputs": [],
   "source": []
  },
  {
   "cell_type": "code",
   "execution_count": null,
   "metadata": {},
   "outputs": [],
   "source": []
  },
  {
   "cell_type": "code",
   "execution_count": null,
   "metadata": {},
   "outputs": [],
   "source": []
  },
  {
   "cell_type": "code",
   "execution_count": null,
   "metadata": {},
   "outputs": [],
   "source": []
  }
 ],
 "metadata": {
  "kernelspec": {
   "display_name": "Python 3",
   "language": "python",
   "name": "python3"
  },
  "language_info": {
   "codemirror_mode": {
    "name": "ipython",
    "version": 3
   },
   "file_extension": ".py",
   "mimetype": "text/x-python",
   "name": "python",
   "nbconvert_exporter": "python",
   "pygments_lexer": "ipython3",
   "version": "3.6.9"
  },
  "toc": {
   "base_numbering": 1,
   "nav_menu": {},
   "number_sections": true,
   "sideBar": true,
   "skip_h1_title": false,
   "title_cell": "Table of Contents",
   "title_sidebar": "Contents",
   "toc_cell": false,
   "toc_position": {},
   "toc_section_display": true,
   "toc_window_display": false
  },
  "varInspector": {
   "cols": {
    "lenName": 16,
    "lenType": 16,
    "lenVar": 40
   },
   "kernels_config": {
    "python": {
     "delete_cmd_postfix": "",
     "delete_cmd_prefix": "del ",
     "library": "var_list.py",
     "varRefreshCmd": "print(var_dic_list())"
    },
    "r": {
     "delete_cmd_postfix": ") ",
     "delete_cmd_prefix": "rm(",
     "library": "var_list.r",
     "varRefreshCmd": "cat(var_dic_list()) "
    }
   },
   "types_to_exclude": [
    "module",
    "function",
    "builtin_function_or_method",
    "instance",
    "_Feature"
   ],
   "window_display": false
  }
 },
 "nbformat": 4,
 "nbformat_minor": 4
}
