{
 "cells": [
  {
   "cell_type": "code",
   "execution_count": 3,
   "metadata": {
    "ExecuteTime": {
     "end_time": "2022-10-14T07:47:04.794444Z",
     "start_time": "2022-10-14T07:47:04.613441Z"
    }
   },
   "outputs": [],
   "source": [
    "import pandas as pd\n",
    "import numpy as np\n",
    "import matplotlib.pyplot as plt\n",
    "from operator import itemgetter\n",
    "from datetime import date, datetime"
   ]
  },
  {
   "cell_type": "code",
   "execution_count": 2,
   "metadata": {
    "ExecuteTime": {
     "end_time": "2022-10-12T08:39:20.274991Z",
     "start_time": "2022-10-12T08:39:19.632387Z"
    }
   },
   "outputs": [],
   "source": [
    "import plotly.express as px\n",
    "from plotly.subplots import make_subplots\n",
    "import plotly.graph_objects as go"
   ]
  },
  {
   "cell_type": "markdown",
   "metadata": {},
   "source": [
    "## data load"
   ]
  },
  {
   "cell_type": "code",
   "execution_count": 3,
   "metadata": {
    "ExecuteTime": {
     "end_time": "2022-10-12T08:39:30.364716Z",
     "start_time": "2022-10-12T08:39:30.299390Z"
    }
   },
   "outputs": [],
   "source": [
    "# # minio client 생성\n",
    "# from minio import Minio\n",
    "\n",
    "# client = Minio(\n",
    "#     \"192.168.0.20:8801\",  # URI\n",
    "#     access_key=\"minioadmin\",\n",
    "#     secret_key=\"minioadmin\",\n",
    "#     secure=False)\n"
   ]
  },
  {
   "cell_type": "code",
   "execution_count": 4,
   "metadata": {
    "ExecuteTime": {
     "end_time": "2022-10-12T08:39:30.612633Z",
     "start_time": "2022-10-12T08:39:30.606266Z"
    }
   },
   "outputs": [],
   "source": [
    "# minio_uri = \"http://192.168.0.20:8801\"\n",
    "# bucket_name = \"stock-dataset\"\n",
    "# fname = \"ETF/kodex.csv\"\n",
    "# url = f\"{minio_uri}/{bucket_name}/{fname}\""
   ]
  },
  {
   "cell_type": "code",
   "execution_count": 5,
   "metadata": {
    "ExecuteTime": {
     "end_time": "2022-10-12T08:39:31.785487Z",
     "start_time": "2022-10-12T08:39:31.744747Z"
    }
   },
   "outputs": [],
   "source": [
    "# kodex = pd.read_csv(url)"
   ]
  },
  {
   "cell_type": "code",
   "execution_count": 6,
   "metadata": {
    "ExecuteTime": {
     "end_time": "2022-10-12T08:39:32.180197Z",
     "start_time": "2022-10-12T08:39:32.152610Z"
    }
   },
   "outputs": [
    {
     "data": {
      "text/html": [
       "<div>\n",
       "<style scoped>\n",
       "    .dataframe tbody tr th:only-of-type {\n",
       "        vertical-align: middle;\n",
       "    }\n",
       "\n",
       "    .dataframe tbody tr th {\n",
       "        vertical-align: top;\n",
       "    }\n",
       "\n",
       "    .dataframe thead th {\n",
       "        text-align: right;\n",
       "    }\n",
       "</style>\n",
       "<table border=\"1\" class=\"dataframe\">\n",
       "  <thead>\n",
       "    <tr style=\"text-align: right;\">\n",
       "      <th></th>\n",
       "      <th>Unnamed: 0</th>\n",
       "      <th>open</th>\n",
       "      <th>high</th>\n",
       "      <th>low</th>\n",
       "      <th>close</th>\n",
       "      <th>volume</th>\n",
       "    </tr>\n",
       "  </thead>\n",
       "  <tbody>\n",
       "    <tr>\n",
       "      <td>0</td>\n",
       "      <td>20221011</td>\n",
       "      <td>28600</td>\n",
       "      <td>28605</td>\n",
       "      <td>28330</td>\n",
       "      <td>28580</td>\n",
       "      <td>7404580</td>\n",
       "    </tr>\n",
       "    <tr>\n",
       "      <td>1</td>\n",
       "      <td>20221007</td>\n",
       "      <td>28970</td>\n",
       "      <td>29320</td>\n",
       "      <td>28905</td>\n",
       "      <td>29175</td>\n",
       "      <td>10320186</td>\n",
       "    </tr>\n",
       "    <tr>\n",
       "      <td>2</td>\n",
       "      <td>20221006</td>\n",
       "      <td>29200</td>\n",
       "      <td>29435</td>\n",
       "      <td>29100</td>\n",
       "      <td>29285</td>\n",
       "      <td>12374324</td>\n",
       "    </tr>\n",
       "    <tr>\n",
       "      <td>3</td>\n",
       "      <td>20221005</td>\n",
       "      <td>29465</td>\n",
       "      <td>29465</td>\n",
       "      <td>28850</td>\n",
       "      <td>28965</td>\n",
       "      <td>10693954</td>\n",
       "    </tr>\n",
       "    <tr>\n",
       "      <td>4</td>\n",
       "      <td>20221004</td>\n",
       "      <td>28685</td>\n",
       "      <td>29030</td>\n",
       "      <td>28655</td>\n",
       "      <td>28960</td>\n",
       "      <td>4502303</td>\n",
       "    </tr>\n",
       "    <tr>\n",
       "      <td>...</td>\n",
       "      <td>...</td>\n",
       "      <td>...</td>\n",
       "      <td>...</td>\n",
       "      <td>...</td>\n",
       "      <td>...</td>\n",
       "      <td>...</td>\n",
       "    </tr>\n",
       "    <tr>\n",
       "      <td>4939</td>\n",
       "      <td>20021018</td>\n",
       "      <td>5782</td>\n",
       "      <td>5921</td>\n",
       "      <td>5747</td>\n",
       "      <td>5872</td>\n",
       "      <td>1896784</td>\n",
       "    </tr>\n",
       "    <tr>\n",
       "      <td>4940</td>\n",
       "      <td>20021017</td>\n",
       "      <td>5559</td>\n",
       "      <td>5698</td>\n",
       "      <td>5482</td>\n",
       "      <td>5629</td>\n",
       "      <td>3002838</td>\n",
       "    </tr>\n",
       "    <tr>\n",
       "      <td>4941</td>\n",
       "      <td>20021016</td>\n",
       "      <td>5601</td>\n",
       "      <td>5601</td>\n",
       "      <td>5510</td>\n",
       "      <td>5552</td>\n",
       "      <td>2927290</td>\n",
       "    </tr>\n",
       "    <tr>\n",
       "      <td>4942</td>\n",
       "      <td>20021015</td>\n",
       "      <td>5468</td>\n",
       "      <td>5559</td>\n",
       "      <td>5364</td>\n",
       "      <td>5531</td>\n",
       "      <td>3285629</td>\n",
       "    </tr>\n",
       "    <tr>\n",
       "      <td>4943</td>\n",
       "      <td>20021014</td>\n",
       "      <td>5433</td>\n",
       "      <td>5573</td>\n",
       "      <td>5287</td>\n",
       "      <td>5399</td>\n",
       "      <td>3699727</td>\n",
       "    </tr>\n",
       "  </tbody>\n",
       "</table>\n",
       "<p>4944 rows × 6 columns</p>\n",
       "</div>"
      ],
      "text/plain": [
       "      Unnamed: 0   open   high    low  close    volume\n",
       "0       20221011  28600  28605  28330  28580   7404580\n",
       "1       20221007  28970  29320  28905  29175  10320186\n",
       "2       20221006  29200  29435  29100  29285  12374324\n",
       "3       20221005  29465  29465  28850  28965  10693954\n",
       "4       20221004  28685  29030  28655  28960   4502303\n",
       "...          ...    ...    ...    ...    ...       ...\n",
       "4939    20021018   5782   5921   5747   5872   1896784\n",
       "4940    20021017   5559   5698   5482   5629   3002838\n",
       "4941    20021016   5601   5601   5510   5552   2927290\n",
       "4942    20021015   5468   5559   5364   5531   3285629\n",
       "4943    20021014   5433   5573   5287   5399   3699727\n",
       "\n",
       "[4944 rows x 6 columns]"
      ]
     },
     "execution_count": 6,
     "metadata": {},
     "output_type": "execute_result"
    }
   ],
   "source": [
    "# kodex"
   ]
  },
  {
   "cell_type": "markdown",
   "metadata": {},
   "source": [
    "## data EDA\n",
    "- 데이터 : kodex200.csv\n",
    "- 추출일자 : 2002.10.14 ~ 2022.08.25"
   ]
  },
  {
   "cell_type": "code",
   "execution_count": 2,
   "metadata": {
    "ExecuteTime": {
     "end_time": "2022-10-14T07:45:39.455661Z",
     "start_time": "2022-10-14T07:45:39.440884Z"
    }
   },
   "outputs": [],
   "source": [
    "def data_preprocessing(stock):\n",
    "\n",
    "    stock.columns = [\"date\",\"open\",\"high\",\"low\",\"close\",\"volume\",\"multiple_volume\",\"total_volume\"]\n",
    "    stock = stock.sort_values(\"date\").reset_index(drop=True)\n",
    "\n",
    "#     #1 datetime\n",
    "#     def int2date(argdate: int) -> date:\n",
    "#         year = int(argdate / 10000)\n",
    "#         month = int((argdate % 10000) / 100)\n",
    "#         day = int(argdate % 100)\n",
    "#         return date(year, month, day)\n",
    "\n",
    "#     datetime_list = [int2date(i) for i in stock.date]\n",
    "#     stock[\"datetime\"] = datetime_list\n",
    "    \n",
    "    datetime_list = [datetime.strptime(i,\"%Y-%m-%d\").date() for i in stock.date]\n",
    "    stock[\"datetime\"] = datetime_list\n",
    "    \n",
    "    #2 per\n",
    "    per_list = [0,]\n",
    "    for i in range(1,len(stock)):\n",
    "        plus_per = ((stock.close[i]/stock.close[i-1])-1) * 100\n",
    "        per_list.append(plus_per)\n",
    "    stock[\"per\"] = per_list\n",
    "\n",
    "    \n",
    "    #3 multiple_volume\n",
    "    stock[\"multiple_volume\"] = stock[\"close\"] * stock[\"volume\"]\n",
    "    \n",
    "    return stock"
   ]
  },
  {
   "cell_type": "markdown",
   "metadata": {},
   "source": [
    "## 변동성-거래량  score"
   ]
  },
  {
   "cell_type": "markdown",
   "metadata": {},
   "source": [
    "### 변동성 점수\n",
    "- per을 통한 변동성 점수 계산\n",
    "- per의 지수가중이동편차"
   ]
  },
  {
   "cell_type": "code",
   "execution_count": 8,
   "metadata": {
    "ExecuteTime": {
     "end_time": "2022-10-06T08:11:09.097601Z",
     "start_time": "2022-10-06T08:11:09.089251Z"
    }
   },
   "outputs": [],
   "source": [
    "def calcul_volatility(stock):\n",
    "    \n",
    "    lam = 0.94\n",
    "    mu = stock.per[0]\n",
    "    sigma = 0\n",
    "\n",
    "    sigma_list = []\n",
    "    for i in range(len(stock.close)):\n",
    "        sigma = (lam * (sigma)) + ((1-lam) * (stock.per[i]**2))\n",
    "        sigma_list.append(sigma)\n",
    "\n",
    "    sqrt_sigma = np.sqrt(sigma_list)\n",
    "    log_sigma = np.log(sqrt_sigma)\n",
    "    \n",
    "    stock[\"log_sigma\"] = log_sigma\n",
    "    \n",
    "    Volatility_list = []\n",
    "    \n",
    "    for i in range(len(stock.per)):\n",
    "\n",
    "        # data setting\n",
    "        tmp_data = stock[(i-365):i]\n",
    "\n",
    "        # data condition\n",
    "        if len(tmp_data) == 365 :\n",
    "\n",
    "            sigma365 = tmp_data['log_sigma']\n",
    "            sigma365[sigma365==-np.inf] = np.nan\n",
    "\n",
    "            mu_setting = np.nanmean(sigma365)\n",
    "            std_setting = np.nanstd(sigma365)\n",
    "\n",
    "            set1 = np.max([-4, ((sigma365.values[364] -  mu_setting)/std_setting) ])\n",
    "            set2 = np.min([set1,4])\n",
    "            Volatility_list.append(set2)\n",
    "            \n",
    "    return Volatility_list\n",
    "    "
   ]
  },
  {
   "cell_type": "markdown",
   "metadata": {},
   "source": [
    "### 거래량 점수\n",
    "- 원화환산 거래량 값을 사용해 거래량 점수를 계산한다\n",
    "- 단기 거래량과 장기 거래량의 값을 사용한다\n",
    "- lambda 를 통해서 지수가중이동평균의 가중치를 변경한다\n",
    "    - 첫 N일의 정보포함률이 63.2%로 수렴하는 수치"
   ]
  },
  {
   "cell_type": "code",
   "execution_count": 9,
   "metadata": {
    "ExecuteTime": {
     "end_time": "2022-10-06T08:11:09.567627Z",
     "start_time": "2022-10-06T08:11:09.559573Z"
    }
   },
   "outputs": [],
   "source": [
    "def calcul_volume(stock):\n",
    "    \n",
    "    lambda_20 = 1-(1/20)\n",
    "    lambda_60 = 1-(1/60)\n",
    "    \n",
    "    volume_sigma20_list = []\n",
    "    volume_sigma60_list = []\n",
    "\n",
    "    for i in range(len(stock.multiple_volume)):\n",
    "\n",
    "        # list set\n",
    "        list1 = []\n",
    "        list2 = []\n",
    "\n",
    "        # sumation\n",
    "        for j in range(i+1):\n",
    "            volume_sigma_20 = (1-lambda_20) * (lambda_20**j) * stock.multiple_volume[i-j]\n",
    "            volume_sigma_60 = (1-lambda_60) * (lambda_60**j) * stock.multiple_volume[i-j]\n",
    "            list1.append(volume_sigma_20)\n",
    "            list2.append(volume_sigma_60)\n",
    "\n",
    "        V20 = np.sum(list1)\n",
    "        V60 = np.sum(list2)\n",
    "        volume_sigma20_list.append(V20)\n",
    "        volume_sigma60_list.append(V60)\n",
    "\n",
    "    V_20 = np.log(stock.multiple_volume/volume_sigma20_list)\n",
    "    V_60 = np.log(stock.multiple_volume/volume_sigma60_list)\n",
    "\n",
    "    Volume_list = []\n",
    "    for i in range(len(V_20)):\n",
    "        set1 = np.max([-4, ((V_20[i]+V_60[i])/2)])\n",
    "        set2 = np.min([set1, 4])\n",
    "        Volume_list.append(set2)\n",
    "    \n",
    "    return Volume_list"
   ]
  },
  {
   "cell_type": "markdown",
   "metadata": {},
   "source": [
    "### 변동성-거래량 점수\n",
    "\n",
    "- 위 단계에서 계산한 (1)Voltaility 와 (2)Volume 스코어의 값을 평균내어 변동성 거래량 점수를 계산한다 \n",
    "- 점수의 스케일은 0~1까지의 스케일이다."
   ]
  },
  {
   "cell_type": "code",
   "execution_count": 10,
   "metadata": {
    "ExecuteTime": {
     "end_time": "2022-10-06T08:11:10.016744Z",
     "start_time": "2022-10-06T08:11:10.011237Z"
    }
   },
   "outputs": [],
   "source": [
    "def volatility_volume_score(Volatility_list, Volume_list):\n",
    "    \n",
    "    S1_list = []\n",
    "    \n",
    "    for i in range(len(Volatility_list)):\n",
    "        set1 = np.max([-4,float(Volatility_list[i] + Volume_list[365:][i])])\n",
    "        set2 = np.min([ 4, set1])\n",
    "        set3 = set2/8 + 0.5\n",
    "        S1_list.append(set3)\n",
    "        \n",
    "    return S1_list\n"
   ]
  },
  {
   "cell_type": "markdown",
   "metadata": {},
   "source": [
    "## 모멘텀 score\n",
    "\n",
    "- kodex 종가의 가중이동평균을 계산한후 실제가와 이동평균값의 이격도를 통해 모멘텀 점수를 계산한다\n",
    "- 변동성-거래량 점수에 의해 장기이평선 단기이평선 가중을 변경한다 \n",
    "- 시장의 변동성과 거래량이 높은 (거래량 급등/급락)하는 시장에서 투자자들은 단기간 추세에 민감하게 반응\n",
    "- 변동성 거래량 점수가 높다면 단기 가중치를 더욱 크게 한다"
   ]
  },
  {
   "cell_type": "code",
   "execution_count": 11,
   "metadata": {
    "ExecuteTime": {
     "end_time": "2022-10-06T08:11:10.496474Z",
     "start_time": "2022-10-06T08:11:10.486203Z"
    }
   },
   "outputs": [],
   "source": [
    "def momentum_score(S1_list, stock):\n",
    "    \n",
    "    short_alpha = [(i*9)+1 for i in S1_list]\n",
    "    long_alpha = [10 - ((i*9)+1) for i in S1_list]\n",
    "    \n",
    "    # lambda\n",
    "    lambda_30 = 1-(1/30)\n",
    "    lambda_7 = 1-(1/7)\n",
    "    \n",
    "    # close ma\n",
    "    close_mu30_list = []\n",
    "    close_mu7_list = []\n",
    "    for i in range(len(stock.close)):\n",
    "\n",
    "        # list set\n",
    "        list1 = []\n",
    "        list2 = []\n",
    "\n",
    "        # sumation\n",
    "        for j in range(i+1):\n",
    "            close_mu_30 = (1-lambda_30) * (lambda_30**j) * stock.close[i-j]\n",
    "            close_mu_7 = (1-lambda_7) * (lambda_7**j) * stock.close[i-j]\n",
    "            list1.append(close_mu_30)\n",
    "            list2.append(close_mu_7)\n",
    "\n",
    "        V30 = np.sum(list1)\n",
    "        V7 = np.sum(list2)\n",
    "        close_mu30_list.append(V30)\n",
    "        close_mu7_list.append(V7)\n",
    "        \n",
    "    X_short = (stock.close - close_mu7_list) / close_mu7_list\n",
    "    X_long = (stock.close - close_mu30_list) / close_mu30_list\n",
    "        \n",
    "    products_short = [a * b for a, b in zip(short_alpha, X_short[365:])]\n",
    "    products_long = [a * b for a, b in zip(long_alpha, X_long[365:])]\n",
    "    product_momentum = [a+b for a,b in zip(products_short, products_long)]\n",
    "    \n",
    "    C = 16.387308\n",
    "    S2_list = [(i*C)/10 for i in product_momentum]\n",
    "    \n",
    "    return S2_list"
   ]
  },
  {
   "cell_type": "markdown",
   "metadata": {},
   "source": [
    "## FG score\n",
    "\n",
    "- S1_list : 변동성 거래량 점수\n",
    "    - 스케일 : 0 ~ 1 \n",
    "    \n",
    "- S2_list : 모멘텀 점수\n",
    "    - 스케일 : 실수 범위\n",
    "\n",
    "- S1_list : FG score\n",
    "    - 공포탐욕지수\n",
    "    \n",
    "- 케이스별 시나리오\n",
    "    - case1 : 변동성이 큰 상태에서 모멘텀도 크다\n",
    "        - 탐욕지수가 매우 커진다\n",
    "    - case2 : 변동성이 작은 상태에서 모멘텀도 크다\n",
    "        - 탐욕지수가 비교적 상승하고자 한다\n",
    "        - 지수에 영향이 별로 없다 (0.5에 가깝게 나타난다) \n",
    "    - case3 : 변동성이 큰 상태에서 모멘텀이 작다\n",
    "        - 탐욕지수가 매우 작아진다\n",
    "    - case4 : 변동성이 작은상태에서 모멘텀이 크다\n",
    "        - 탐욕지수가 비교적 하락하고자 한다\n",
    "        - 지수에 영향이 별로 없다 (0.5에 가깝게 나타난다)\n",
    "        \n",
    "- 비고\n",
    "    - 변동성 거래량 점수\n",
    "        - 0~1이기 때문에 중립에서 양분되어 공포와 탐욕이 커질수록 커지는 값이다 \n",
    "    - 모멘텀 점수\n",
    "        - 실수의 범위에서 이격도를 뜻한다"
   ]
  },
  {
   "cell_type": "markdown",
   "metadata": {},
   "source": [
    "- (1)변동성-거래량 점수와 (2)모멘텀 점수를 곱한다\n",
    "- 곱한 값을 로지스틱 함수에 대입하여 최종 공포탐욕지수 스코어를 산출한다"
   ]
  },
  {
   "cell_type": "code",
   "execution_count": 12,
   "metadata": {
    "ExecuteTime": {
     "end_time": "2022-10-06T08:11:10.899695Z",
     "start_time": "2022-10-06T08:11:10.895821Z"
    }
   },
   "outputs": [],
   "source": [
    "def calcul_FGscore(S1_list, S2_list):\n",
    "    \n",
    "    S_list = [-(a*b) for a,b in zip(S1_list, S2_list)]\n",
    "    FG_score = [1/(1+np.exp(i)) for i in S_list]\n",
    "    \n",
    "    return FG_score"
   ]
  },
  {
   "cell_type": "code",
   "execution_count": 10,
   "metadata": {
    "ExecuteTime": {
     "end_time": "2022-10-12T08:49:24.964524Z",
     "start_time": "2022-10-12T08:49:24.951537Z"
    }
   },
   "outputs": [],
   "source": [
    "def FG_index(stock):\n",
    "    \n",
    "    print(\"preprocessing\")\n",
    "    stock = data_preprocessing(stock)\n",
    "    \n",
    "    datetime_list = stock['datetime']\n",
    "    \n",
    "    print(\"S1 score\")\n",
    "    Volatility_list = calcul_volatility(stock)\n",
    "    Volume_list = calcul_volume(stock)\n",
    "    S1_score = volatility_volume_score(Volatility_list, Volume_list)\n",
    "    \n",
    "    print(\"S2 score\")\n",
    "    S2_score = momentum_score(S1_score, stock)\n",
    "    \n",
    "    print(\"FG score\")\n",
    "    FG_score = calcul_FGscore(S1_score, S2_score)\n",
    "    \n",
    "    print(\"final_data\")\n",
    "    final_data = pd.DataFrame({'date': datetime_list[365:],\n",
    "                          'close': stock['close'][365:],\n",
    "                          'volume': stock['volume'][365:],\n",
    "                          'multiple_volume': stock['multiple_volume'][365:],\n",
    "                          'per': stock['per'][365:],\n",
    "                          'Volatility_list': Volatility_list,\n",
    "                          'Volume_list': Volume_list[365:],\n",
    "                          'S1_score': S1_score,\n",
    "                          'S2_score': S2_score,\n",
    "                          'FG_score': FG_score})\n",
    "\n",
    "    return final_data\n",
    "    \n",
    "    \n",
    "    "
   ]
  },
  {
   "cell_type": "code",
   "execution_count": 18,
   "metadata": {
    "ExecuteTime": {
     "end_time": "2022-10-07T03:06:50.901957Z",
     "start_time": "2022-10-07T03:06:50.897564Z"
    }
   },
   "outputs": [],
   "source": [
    "# final_data = FG_index(kodex)"
   ]
  },
  {
   "cell_type": "markdown",
   "metadata": {},
   "source": [
    "## Plotting"
   ]
  },
  {
   "cell_type": "code",
   "execution_count": 19,
   "metadata": {
    "ExecuteTime": {
     "end_time": "2022-10-07T03:06:54.180597Z",
     "start_time": "2022-10-07T03:06:54.176410Z"
    }
   },
   "outputs": [],
   "source": [
    "# px.line(final_data, x = 'date', y='FG_score',\n",
    "#         hover_data={\"date\": \"|%B %d, %Y\"})"
   ]
  },
  {
   "cell_type": "code",
   "execution_count": 20,
   "metadata": {
    "ExecuteTime": {
     "end_time": "2022-10-07T03:06:56.027052Z",
     "start_time": "2022-10-07T03:06:56.020813Z"
    }
   },
   "outputs": [],
   "source": [
    "# fig = make_subplots(specs = [[{'secondary_y':True}]])\n",
    "# fig.add_trace(\n",
    "#     go.Scatter(x=final_data.date, y = final_data.FG_score, name = \"FG_score\"\n",
    "#                , hovertemplate = 'date = %{x}<br>'+\n",
    "#                                  'value = %{y}'),\n",
    "#     secondary_y = False,\n",
    "# )\n",
    "# fig.add_trace(\n",
    "#     go.Scatter(x=final_data.date, y = final_data.close, name = \"kodex200\"\n",
    "#                , hovertemplate = 'date = %{x}<br>'+\n",
    "#                                  'value = %{y}'),\n",
    "#     secondary_y = True,\n",
    "# )\n",
    "# fig.add_trace(\n",
    "#     go.Scatter(x=final_data.date, y = [0.5]*4550, name = 'middle'),\n",
    "#     secondary_y = False,\n",
    "# )\n",
    "\n",
    "# fig.update_layout(\n",
    "#     title_text = \"FG score\", hovermode=\"x\")\n",
    "# fig.update_xaxes(title_text = \"date\", rangeslider_visible = True)\n",
    "# fig.update_yaxes(title_text = \"FG_score\", secondary_y = False)\n",
    "# fig.update_yaxes(title_text = \"stock_close\", secondary_y = True)\n",
    "# # specific line\n",
    "\n",
    "# fig.show()"
   ]
  },
  {
   "cell_type": "code",
   "execution_count": null,
   "metadata": {},
   "outputs": [],
   "source": []
  },
  {
   "cell_type": "code",
   "execution_count": null,
   "metadata": {},
   "outputs": [],
   "source": []
  },
  {
   "cell_type": "code",
   "execution_count": null,
   "metadata": {},
   "outputs": [],
   "source": []
  }
 ],
 "metadata": {
  "kernelspec": {
   "display_name": "Python 3",
   "language": "python",
   "name": "python3"
  },
  "language_info": {
   "codemirror_mode": {
    "name": "ipython",
    "version": 3
   },
   "file_extension": ".py",
   "mimetype": "text/x-python",
   "name": "python",
   "nbconvert_exporter": "python",
   "pygments_lexer": "ipython3",
   "version": "3.8.5"
  },
  "toc": {
   "base_numbering": 1,
   "nav_menu": {},
   "number_sections": true,
   "sideBar": true,
   "skip_h1_title": false,
   "title_cell": "Table of Contents",
   "title_sidebar": "Contents",
   "toc_cell": false,
   "toc_position": {},
   "toc_section_display": true,
   "toc_window_display": false
  },
  "varInspector": {
   "cols": {
    "lenName": 16,
    "lenType": 16,
    "lenVar": 40
   },
   "kernels_config": {
    "python": {
     "delete_cmd_postfix": "",
     "delete_cmd_prefix": "del ",
     "library": "var_list.py",
     "varRefreshCmd": "print(var_dic_list())"
    },
    "r": {
     "delete_cmd_postfix": ") ",
     "delete_cmd_prefix": "rm(",
     "library": "var_list.r",
     "varRefreshCmd": "cat(var_dic_list()) "
    }
   },
   "types_to_exclude": [
    "module",
    "function",
    "builtin_function_or_method",
    "instance",
    "_Feature"
   ],
   "window_display": false
  }
 },
 "nbformat": 4,
 "nbformat_minor": 4
}
