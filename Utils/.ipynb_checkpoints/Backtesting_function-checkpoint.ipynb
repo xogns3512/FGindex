{
 "cells": [
  {
   "cell_type": "code",
   "execution_count": 9,
   "metadata": {
    "ExecuteTime": {
     "end_time": "2022-10-20T00:57:08.096031Z",
     "start_time": "2022-10-20T00:57:08.066775Z"
    }
   },
   "outputs": [],
   "source": [
    "def back_testing(final_data, buying_score = 0.3, selling_score = 0.7, print_type = True):\n",
    "    \n",
    "    try:\n",
    "\n",
    "        # action index\n",
    "        buying_index = [idx for idx, val in enumerate(final_data.FG_score) if val<=buying_score]\n",
    "        selling_index = [idx for idx, val in enumerate(final_data.FG_score) if val>=selling_score]\n",
    "        \n",
    "        if len(buying_index)>0:\n",
    "            buying_date = itemgetter(*buying_index)(final_data.datetime.reset_index(drop=True))\n",
    "        else:\n",
    "            buying_date = []\n",
    "            \n",
    "        if len(selling_index)>0:\n",
    "            selling_date = itemgetter(*selling_index)(final_data.datetime.reset_index(drop=True))\n",
    "        else:\n",
    "            selling_date = []\n",
    "\n",
    "        # per calculate\n",
    "        per_list = [0,]\n",
    "        for i in range(1,len(final_data)):\n",
    "            plus_per = ((final_data.close.values[i]/final_data.close.values[i-1])-1) * 100\n",
    "            per_list.append(plus_per)\n",
    "        final_data[\"per\"] = per_list\n",
    "\n",
    "        asset_list = []\n",
    "        asset = final_data['close'].values[0]\n",
    "        stock = True\n",
    "\n",
    "        start_list = []\n",
    "        end_list = []\n",
    "        # backtest action\n",
    "        for i in final_data.index:\n",
    "\n",
    "            # stock change\n",
    "            if final_data.datetime[i] in buying_date and stock == False:\n",
    "                stock = True # buying all stock\n",
    "                end_list.append(final_data.datetime[i])\n",
    "                if print_type == True: \n",
    "                    print(\"buying stock : \" + str(final_data.datetime[i]))                    \n",
    "\n",
    "            elif final_data.datetime[i] in selling_date and stock == True:\n",
    "                stock = False # selling all stock\n",
    "                start_list.append(final_data.datetime[i])\n",
    "                if print_type == True:\n",
    "                    print(\"sell stock : \" + str(final_data.datetime[i]))\n",
    "                    \n",
    "            # asset calculation \n",
    "            if stock == True:\n",
    "                asset = (final_data.per[i]/100  + 1) * asset\n",
    "            asset_list.append(asset)\n",
    "\n",
    "        if len(start_list) != len(end_list):\n",
    "            end_list.append(final_data.datetime[i])\n",
    "\n",
    "        anomaly_list = []\n",
    "        for s,e in zip(start_list,end_list):\n",
    "            anomaly_list.append([datetime.strptime(s,'%Y-%m-%d'), datetime.strptime(e,'%Y-%m-%d')])\n",
    "            \n",
    "        asset_list = list(np.round(asset_list,2))\n",
    "            \n",
    "        return asset_list, anomaly_list\n",
    "    \n",
    "    except Exception as ex:\n",
    "        return final_data.close, []\n"
   ]
  },
  {
   "cell_type": "code",
   "execution_count": 2,
   "metadata": {
    "ExecuteTime": {
     "end_time": "2022-10-13T02:29:03.746546Z",
     "start_time": "2022-10-13T02:29:03.738383Z"
    }
   },
   "outputs": [],
   "source": [
    "# # make candid list\n",
    "\n",
    "# threshold_list = []\n",
    "\n",
    "# for b in np.arange (0.1,1,0.1):\n",
    "#     for s in np.arange(0.1,1,0.1):\n",
    "#         threshold_list.append([b,s])"
   ]
  },
  {
   "cell_type": "code",
   "execution_count": null,
   "metadata": {},
   "outputs": [],
   "source": [
    "# best_close = 0\n",
    "# best_parameter = [0,0] \n",
    "# for i in threshold_list:\n",
    "    \n",
    "#     tmp = back_testing(final_data, buying_score = i[0], selling_score = i[1])\n",
    "    \n",
    "#     if best_close < tmp[len(tmp)-1]:\n",
    "#         print(i)\n",
    "#         print(\"as-is : \" + str(best_close) + \" / to-be : \" + str(tmp[len(tmp)-1]))\n",
    "#         best_close = tmp[len(tmp)-1]\n",
    "#         best_parameter = i\n"
   ]
  }
 ],
 "metadata": {
  "kernelspec": {
   "display_name": "Python 3",
   "language": "python",
   "name": "python3"
  },
  "language_info": {
   "codemirror_mode": {
    "name": "ipython",
    "version": 3
   },
   "file_extension": ".py",
   "mimetype": "text/x-python",
   "name": "python",
   "nbconvert_exporter": "python",
   "pygments_lexer": "ipython3",
   "version": "3.6.9"
  },
  "toc": {
   "base_numbering": 1,
   "nav_menu": {},
   "number_sections": true,
   "sideBar": true,
   "skip_h1_title": false,
   "title_cell": "Table of Contents",
   "title_sidebar": "Contents",
   "toc_cell": false,
   "toc_position": {},
   "toc_section_display": true,
   "toc_window_display": false
  },
  "varInspector": {
   "cols": {
    "lenName": 16,
    "lenType": 16,
    "lenVar": 40
   },
   "kernels_config": {
    "python": {
     "delete_cmd_postfix": "",
     "delete_cmd_prefix": "del ",
     "library": "var_list.py",
     "varRefreshCmd": "print(var_dic_list())"
    },
    "r": {
     "delete_cmd_postfix": ") ",
     "delete_cmd_prefix": "rm(",
     "library": "var_list.r",
     "varRefreshCmd": "cat(var_dic_list()) "
    }
   },
   "types_to_exclude": [
    "module",
    "function",
    "builtin_function_or_method",
    "instance",
    "_Feature"
   ],
   "window_display": false
  }
 },
 "nbformat": 4,
 "nbformat_minor": 4
}
