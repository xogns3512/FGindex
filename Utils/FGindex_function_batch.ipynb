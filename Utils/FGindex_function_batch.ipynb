{
 "cells": [
  {
   "cell_type": "code",
   "execution_count": 2,
   "metadata": {
    "ExecuteTime": {
     "end_time": "2022-10-14T07:47:04.794444Z",
     "start_time": "2022-10-14T07:47:04.613441Z"
    },
    "execution": {
     "iopub.execute_input": "2022-11-23T06:48:04.404652Z",
     "iopub.status.busy": "2022-11-23T06:48:04.402895Z",
     "iopub.status.idle": "2022-11-23T06:48:05.031306Z",
     "shell.execute_reply": "2022-11-23T06:48:05.030395Z",
     "shell.execute_reply.started": "2022-11-23T06:48:04.404276Z"
    },
    "tags": []
   },
   "outputs": [],
   "source": [
    "import pandas as pd\n",
    "import numpy as np\n",
    "import matplotlib.pyplot as plt\n",
    "from operator import itemgetter\n",
    "from datetime import date, datetime"
   ]
  },
  {
   "cell_type": "code",
   "execution_count": 3,
   "metadata": {
    "ExecuteTime": {
     "end_time": "2022-10-12T08:39:20.274991Z",
     "start_time": "2022-10-12T08:39:19.632387Z"
    },
    "execution": {
     "iopub.execute_input": "2022-11-23T06:48:05.032862Z",
     "iopub.status.busy": "2022-11-23T06:48:05.032562Z",
     "iopub.status.idle": "2022-11-23T06:48:05.037270Z",
     "shell.execute_reply": "2022-11-23T06:48:05.036338Z",
     "shell.execute_reply.started": "2022-11-23T06:48:05.032840Z"
    },
    "tags": []
   },
   "outputs": [],
   "source": [
    "import plotly.express as px\n",
    "from plotly.subplots import make_subplots\n",
    "import plotly.graph_objects as go"
   ]
  },
  {
   "cell_type": "markdown",
   "metadata": {},
   "source": [
    "## data EDA\n",
    "- 데이터 : kodex200.csv\n",
    "- 추출일자 : 2002.10.14 ~ 2022.08.25"
   ]
  },
  {
   "cell_type": "code",
   "execution_count": 4,
   "metadata": {
    "ExecuteTime": {
     "end_time": "2022-10-14T07:45:39.455661Z",
     "start_time": "2022-10-14T07:45:39.440884Z"
    },
    "execution": {
     "iopub.execute_input": "2022-11-23T06:48:05.896608Z",
     "iopub.status.busy": "2022-11-23T06:48:05.896163Z",
     "iopub.status.idle": "2022-11-23T06:48:05.910408Z",
     "shell.execute_reply": "2022-11-23T06:48:05.909112Z",
     "shell.execute_reply.started": "2022-11-23T06:48:05.896555Z"
    }
   },
   "outputs": [],
   "source": [
    "def data_preprocessing(stock):\n",
    "\n",
    "    stock.columns = [\"date\",\"open\",\"high\",\"low\",\"close\",\"volume\",\"multiple_volume\",\"total_volume\"]\n",
    "    stock = stock.sort_values(\"date\").reset_index(drop=True)\n",
    "\n",
    "    datetime_list = [datetime.strptime(i,\"%Y-%m-%d\").date() for i in stock.date]\n",
    "    stock[\"datetime\"] = datetime_list\n",
    "    \n",
    "    #2 per\n",
    "    per_list = [0,]\n",
    "    for i in range(1,len(stock)):\n",
    "        plus_per = ((stock.close[i]/stock.close[i-1])-1) * 100\n",
    "        per_list.append(plus_per)\n",
    "    stock[\"per\"] = per_list\n",
    "\n",
    "    \n",
    "    #3 multiple_volume\n",
    "    stock[\"multiple_volume\"] = stock[\"close\"] * stock[\"volume\"]\n",
    "    \n",
    "    return stock"
   ]
  },
  {
   "cell_type": "markdown",
   "metadata": {},
   "source": [
    "## 변동성-거래량  score"
   ]
  },
  {
   "cell_type": "markdown",
   "metadata": {},
   "source": [
    "### 변동성 점수\n",
    "- per을 통한 변동성 점수 계산\n",
    "- per의 지수가중이동편차"
   ]
  },
  {
   "cell_type": "code",
   "execution_count": 5,
   "metadata": {
    "ExecuteTime": {
     "end_time": "2022-10-06T08:11:09.097601Z",
     "start_time": "2022-10-06T08:11:09.089251Z"
    },
    "execution": {
     "iopub.execute_input": "2022-11-23T06:48:07.407441Z",
     "iopub.status.busy": "2022-11-23T06:48:07.407003Z",
     "iopub.status.idle": "2022-11-23T06:48:07.425890Z",
     "shell.execute_reply": "2022-11-23T06:48:07.424396Z",
     "shell.execute_reply.started": "2022-11-23T06:48:07.407388Z"
    }
   },
   "outputs": [],
   "source": [
    "def calcul_volatility(stock, stock_FG, anti_join):\n",
    "    \n",
    "    lam = 0.94\n",
    "    mu = stock.per[0]\n",
    "    sigma = 0\n",
    "\n",
    "    sigma_list = []\n",
    "    for i in range(len(stock.close)):\n",
    "        sigma = (lam * (sigma)) + ((1-lam) * (stock.per[i]**2))\n",
    "        sigma_list.append(sigma)\n",
    "\n",
    "    sqrt_sigma = np.sqrt(sigma_list)\n",
    "    log_sigma = np.log(sqrt_sigma)\n",
    "\n",
    "    stock[\"log_sigma\"] = log_sigma\n",
    "\n",
    "    Volatility_list = []\n",
    "    \n",
    "    \n",
    "    for i in anti_join.date:\n",
    "        # print(i)\n",
    "        process_idx = stock[stock.date==i].index[0]\n",
    "        tmp_data = stock[(process_idx-365):process_idx]\n",
    "\n",
    "        # data condition\n",
    "        if len(tmp_data) == 365 :\n",
    "\n",
    "            sigma365 = tmp_data['log_sigma']\n",
    "            sigma365[sigma365==-np.inf] = np.nan\n",
    "\n",
    "            mu_setting = np.nanmean(sigma365)\n",
    "            std_setting = np.nanstd(sigma365)\n",
    "\n",
    "            set1 = np.max([-4, ((sigma365.values[364] -  mu_setting)/std_setting) ])\n",
    "            set2 = np.min([set1,4])\n",
    "            Volatility_list.append(set2)\n",
    "            \n",
    "    return Volatility_list\n"
   ]
  },
  {
   "cell_type": "markdown",
   "metadata": {},
   "source": [
    "### 거래량 점수\n",
    "- 원화환산 거래량 값을 사용해 거래량 점수를 계산한다\n",
    "- 단기 거래량과 장기 거래량의 값을 사용한다\n",
    "- lambda 를 통해서 지수가중이동평균의 가중치를 변경한다\n",
    "    - 첫 N일의 정보포함률이 63.2%로 수렴하는 수치"
   ]
  },
  {
   "cell_type": "code",
   "execution_count": 6,
   "metadata": {
    "ExecuteTime": {
     "end_time": "2022-10-06T08:11:09.567627Z",
     "start_time": "2022-10-06T08:11:09.559573Z"
    },
    "execution": {
     "iopub.execute_input": "2022-11-23T06:48:09.857372Z",
     "iopub.status.busy": "2022-11-23T06:48:09.856920Z",
     "iopub.status.idle": "2022-11-23T06:48:09.874913Z",
     "shell.execute_reply": "2022-11-23T06:48:09.873480Z",
     "shell.execute_reply.started": "2022-11-23T06:48:09.857318Z"
    }
   },
   "outputs": [],
   "source": [
    "def calcul_volume(stock, stock_FG, anti_join):\n",
    "\n",
    "    lambda_20 = 1-(1/20)\n",
    "    lambda_60 = 1-(1/60)\n",
    "\n",
    "    volume_sigma20_list = []\n",
    "    volume_sigma60_list = []\n",
    "    Volume_list = []\n",
    "    \n",
    "    for i in anti_join.date:\n",
    "        process_idx = stock[stock.date==i].index[0]    \n",
    "        # list set\n",
    "        list1 = []\n",
    "        list2 = []\n",
    "        for j in range(process_idx+1):\n",
    "            volume_sigma_20 = (1-lambda_20) * (lambda_20**j) * stock.multiple_volume[process_idx-j]\n",
    "            volume_sigma_60 = (1-lambda_60) * (lambda_60**j) * stock.multiple_volume[process_idx-j]\n",
    "            list1.append(volume_sigma_20)\n",
    "            list2.append(volume_sigma_60)\n",
    "\n",
    "        V20 = np.sum(list1)\n",
    "        V60 = np.sum(list2)\n",
    "        V_20 = np.log(stock.iloc[process_idx].multiple_volume/V20)\n",
    "        V_60 = np.log(stock.iloc[process_idx].multiple_volume/V60)\n",
    "        \n",
    "        set1 = np.max([-4, ((V_20+V_60)/2)])\n",
    "        set2 = np.min([set1, 4])\n",
    "\n",
    "        Volume_list.append(set2)\n",
    "        \n",
    "    return Volume_list"
   ]
  },
  {
   "cell_type": "markdown",
   "metadata": {},
   "source": [
    "### 변동성-거래량 점수\n",
    "\n",
    "- 위 단계에서 계산한 (1)Voltaility 와 (2)Volume 스코어의 값을 평균내어 변동성 거래량 점수를 계산한다 \n",
    "- 점수의 스케일은 0~1까지의 스케일이다."
   ]
  },
  {
   "cell_type": "code",
   "execution_count": 7,
   "metadata": {
    "ExecuteTime": {
     "end_time": "2022-10-06T08:11:10.016744Z",
     "start_time": "2022-10-06T08:11:10.011237Z"
    },
    "execution": {
     "iopub.execute_input": "2022-11-23T06:48:10.631522Z",
     "iopub.status.busy": "2022-11-23T06:48:10.631067Z",
     "iopub.status.idle": "2022-11-23T06:48:10.642675Z",
     "shell.execute_reply": "2022-11-23T06:48:10.640195Z",
     "shell.execute_reply.started": "2022-11-23T06:48:10.631468Z"
    }
   },
   "outputs": [],
   "source": [
    "def volatility_volume_score(Volatility_list, Volume_list):\n",
    "    S1_list = []\n",
    "    for i in range(len(Volatility_list)):\n",
    "        set1 = np.max([-4,float(Volatility_list[i] + Volume_list[i])])\n",
    "        set2 = np.min([ 4, set1])\n",
    "        set3 = set2/8 + 0.5\n",
    "        S1_list.append(set3)\n",
    "    return S1_list\n"
   ]
  },
  {
   "cell_type": "markdown",
   "metadata": {},
   "source": [
    "## 모멘텀 score\n",
    "\n",
    "- kodex 종가의 가중이동평균을 계산한후 실제가와 이동평균값의 이격도를 통해 모멘텀 점수를 계산한다\n",
    "- 변동성-거래량 점수에 의해 장기이평선 단기이평선 가중을 변경한다 \n",
    "- 시장의 변동성과 거래량이 높은 (거래량 급등/급락)하는 시장에서 투자자들은 단기간 추세에 민감하게 반응\n",
    "- 변동성 거래량 점수가 높다면 단기 가중치를 더욱 크게 한다"
   ]
  },
  {
   "cell_type": "code",
   "execution_count": 9,
   "metadata": {
    "ExecuteTime": {
     "end_time": "2022-10-06T08:11:10.496474Z",
     "start_time": "2022-10-06T08:11:10.486203Z"
    },
    "execution": {
     "iopub.execute_input": "2022-11-23T06:48:17.936296Z",
     "iopub.status.busy": "2022-11-23T06:48:17.935838Z",
     "iopub.status.idle": "2022-11-23T06:48:17.956779Z",
     "shell.execute_reply": "2022-11-23T06:48:17.955215Z",
     "shell.execute_reply.started": "2022-11-23T06:48:17.936242Z"
    },
    "tags": []
   },
   "outputs": [],
   "source": [
    "def momentum_score(S1_list, stock, stock_FG, anti_join):\n",
    "    S1_score = list(stock_FG.S1_score)\n",
    "    S1_score.extend(S1_list)\n",
    "\n",
    "    short_alpha = [(i*9)+1 for i in S1_score]\n",
    "    long_alpha = [10 - ((i*9)+1) for i in S1_score]\n",
    "\n",
    "    lambda_30 = 1-(1/30)\n",
    "    lambda_7 = 1-(1/7)\n",
    "\n",
    "    close_mu30_list = []\n",
    "    close_mu7_list = []\n",
    "    \n",
    "    S2_list = []\n",
    "    for i in anti_join.date:\n",
    "        # list set\n",
    "        list1 = []\n",
    "        list2 = []\n",
    "\n",
    "        process_idx = stock[stock.date==i].index[0]\n",
    "        for j in range(process_idx+1):\n",
    "            close_mu_30 = (1-lambda_30) * (lambda_30**j) * stock.close[process_idx-j]\n",
    "            close_mu_7 = (1-lambda_7) * (lambda_7**j) * stock.close[process_idx-j]\n",
    "            list1.append(close_mu_30)\n",
    "            list2.append(close_mu_7)\n",
    "\n",
    "        V30 = np.sum(list1)\n",
    "        V7 = np.sum(list2)\n",
    "\n",
    "        X_short = (stock.iloc[process_idx].close - V7) / V7\n",
    "        X_long = (stock.iloc[process_idx].close - V30) / V30\n",
    "\n",
    "        products_short = short_alpha[process_idx-365] * X_short\n",
    "        products_long = long_alpha[process_idx-365] * X_long\n",
    "        product_momentum = products_short + products_long\n",
    "        \n",
    "        C = 16.387308\n",
    "        set1 = (product_momentum * C) / 10\n",
    "        S2_list.append(set1)\n",
    "        \n",
    "    return S2_list\n",
    "\n",
    "    \n"
   ]
  },
  {
   "cell_type": "markdown",
   "metadata": {},
   "source": [
    "## FG score\n",
    "\n",
    "- S1_list : 변동성 거래량 점수\n",
    "    - 스케일 : 0 ~ 1 \n",
    "    \n",
    "- S2_list : 모멘텀 점수\n",
    "    - 스케일 : 실수 범위\n",
    "\n",
    "- S1_list : FG score\n",
    "    - 공포탐욕지수\n",
    "    \n",
    "- 케이스별 시나리오\n",
    "    - case1 : 변동성이 큰 상태에서 모멘텀도 크다\n",
    "        - 탐욕지수가 매우 커진다\n",
    "    - case2 : 변동성이 작은 상태에서 모멘텀도 크다\n",
    "        - 탐욕지수가 비교적 상승하고자 한다\n",
    "        - 지수에 영향이 별로 없다 (0.5에 가깝게 나타난다) \n",
    "    - case3 : 변동성이 큰 상태에서 모멘텀이 작다\n",
    "        - 탐욕지수가 매우 작아진다\n",
    "    - case4 : 변동성이 작은상태에서 모멘텀이 크다\n",
    "        - 탐욕지수가 비교적 하락하고자 한다\n",
    "        - 지수에 영향이 별로 없다 (0.5에 가깝게 나타난다)\n",
    "        \n",
    "- 비고\n",
    "    - 변동성 거래량 점수\n",
    "        - 0~1이기 때문에 중립에서 양분되어 공포와 탐욕이 커질수록 커지는 값이다 \n",
    "    - 모멘텀 점수\n",
    "        - 실수의 범위에서 이격도를 뜻한다"
   ]
  },
  {
   "cell_type": "markdown",
   "metadata": {},
   "source": [
    "- (1)변동성-거래량 점수와 (2)모멘텀 점수를 곱한다\n",
    "- 곱한 값을 로지스틱 함수에 대입하여 최종 공포탐욕지수 스코어를 산출한다"
   ]
  },
  {
   "cell_type": "code",
   "execution_count": 10,
   "metadata": {
    "ExecuteTime": {
     "end_time": "2022-10-06T08:11:10.899695Z",
     "start_time": "2022-10-06T08:11:10.895821Z"
    },
    "execution": {
     "iopub.execute_input": "2022-11-23T06:48:20.167500Z",
     "iopub.status.busy": "2022-11-23T06:48:20.167040Z",
     "iopub.status.idle": "2022-11-23T06:48:20.176942Z",
     "shell.execute_reply": "2022-11-23T06:48:20.175511Z",
     "shell.execute_reply.started": "2022-11-23T06:48:20.167447Z"
    }
   },
   "outputs": [],
   "source": [
    "def calcul_FGscore(S1_list, S2_list):\n",
    "    \n",
    "    FG_list = []\n",
    "    \n",
    "    for i in range(len(S1_list)):\n",
    "        S_value = -(S1_list[i] * S2_list[i])\n",
    "        FG_score = 1/(1+np.exp(S_value))\n",
    "        FG_list.append(FG_score)\n",
    "        \n",
    "    return FG_list\n"
   ]
  },
  {
   "cell_type": "code",
   "execution_count": 11,
   "metadata": {
    "ExecuteTime": {
     "end_time": "2022-10-12T08:49:24.964524Z",
     "start_time": "2022-10-12T08:49:24.951537Z"
    },
    "execution": {
     "iopub.execute_input": "2022-11-23T06:48:21.128330Z",
     "iopub.status.busy": "2022-11-23T06:48:21.127448Z",
     "iopub.status.idle": "2022-11-23T06:48:21.145084Z",
     "shell.execute_reply": "2022-11-23T06:48:21.143204Z",
     "shell.execute_reply.started": "2022-11-23T06:48:21.128272Z"
    }
   },
   "outputs": [],
   "source": [
    "def FG_index(stock_df, stock_FG):\n",
    "    try:\n",
    "        print(\"preprocessing\")\n",
    "        stock = data_preprocessing(stock_df)\n",
    "        datetime_list = stock['datetime']\n",
    "\n",
    "        process_stock = stock[365:]\n",
    "        outer = process_stock.merge(stock_FG, how = \"outer\", on = \"date\", indicator = True)\n",
    "        anti_join = outer[(outer._merge=='left_only')].drop('_merge', axis=1)\n",
    "\n",
    "        Volatility_list = calcul_volatility(stock, stock_FG, anti_join)\n",
    "\n",
    "        Volume_list = calcul_volume(stock, stock_FG, anti_join)\n",
    "\n",
    "        S1_list = volatility_volume_score(Volatility_list, Volume_list)\n",
    "\n",
    "        S2_list = momentum_score(S1_list, stock, stock_FG, anti_join)\n",
    "\n",
    "        print(\"FG score\")\n",
    "        FG_score = calcul_FGscore(S1_list, S2_list)\n",
    "\n",
    "        # data processing\n",
    "        tmp_stock = stock[(len(stock)-len(anti_join)):(len(stock))]\n",
    "        tmp_stock = tmp_stock[['date','close','volume','multiple_volume','per']]\n",
    "        tmp_stock['Volatility_list'] = Volatility_list\n",
    "        tmp_stock['Volume_list'] = Volume_list\n",
    "        tmp_stock['S1_score'] = S1_list\n",
    "        tmp_stock['S2_score'] = S2_list\n",
    "        tmp_stock['FG_score'] = FG_score\n",
    "        final_data = pd.concat([stock_FG, tmp_stock]).reset_index(drop=True)\n",
    "\n",
    "        return final_data\n",
    "    except Exception as e:    \n",
    "        print('예외가 발생했습니다.', e)\n",
    "        return []\n",
    "\n"
   ]
  },
  {
   "cell_type": "code",
   "execution_count": 12,
   "metadata": {
    "ExecuteTime": {
     "end_time": "2022-10-07T03:06:50.901957Z",
     "start_time": "2022-10-07T03:06:50.897564Z"
    },
    "execution": {
     "iopub.execute_input": "2022-11-23T06:48:21.831491Z",
     "iopub.status.busy": "2022-11-23T06:48:21.831029Z",
     "iopub.status.idle": "2022-11-23T06:48:21.838169Z",
     "shell.execute_reply": "2022-11-23T06:48:21.836734Z",
     "shell.execute_reply.started": "2022-11-23T06:48:21.831435Z"
    }
   },
   "outputs": [],
   "source": [
    "# final_data = FG_index(kodex)"
   ]
  },
  {
   "cell_type": "markdown",
   "metadata": {},
   "source": [
    "## Plotting"
   ]
  },
  {
   "cell_type": "code",
   "execution_count": 19,
   "metadata": {
    "ExecuteTime": {
     "end_time": "2022-10-07T03:06:54.180597Z",
     "start_time": "2022-10-07T03:06:54.176410Z"
    }
   },
   "outputs": [],
   "source": [
    "# px.line(final_data, x = 'date', y='FG_score',\n",
    "#         hover_data={\"date\": \"|%B %d, %Y\"})"
   ]
  },
  {
   "cell_type": "code",
   "execution_count": 20,
   "metadata": {
    "ExecuteTime": {
     "end_time": "2022-10-07T03:06:56.027052Z",
     "start_time": "2022-10-07T03:06:56.020813Z"
    }
   },
   "outputs": [],
   "source": [
    "# fig = make_subplots(specs = [[{'secondary_y':True}]])\n",
    "# fig.add_trace(\n",
    "#     go.Scatter(x=final_data.date, y = final_data.FG_score, name = \"FG_score\"\n",
    "#                , hovertemplate = 'date = %{x}<br>'+\n",
    "#                                  'value = %{y}'),\n",
    "#     secondary_y = False,\n",
    "# )\n",
    "# fig.add_trace(\n",
    "#     go.Scatter(x=final_data.date, y = final_data.close, name = \"kodex200\"\n",
    "#                , hovertemplate = 'date = %{x}<br>'+\n",
    "#                                  'value = %{y}'),\n",
    "#     secondary_y = True,\n",
    "# )\n",
    "# fig.add_trace(\n",
    "#     go.Scatter(x=final_data.date, y = [0.5]*4550, name = 'middle'),\n",
    "#     secondary_y = False,\n",
    "# )\n",
    "\n",
    "# fig.update_layout(\n",
    "#     title_text = \"FG score\", hovermode=\"x\")\n",
    "# fig.update_xaxes(title_text = \"date\", rangeslider_visible = True)\n",
    "# fig.update_yaxes(title_text = \"FG_score\", secondary_y = False)\n",
    "# fig.update_yaxes(title_text = \"stock_close\", secondary_y = True)\n",
    "# # specific line\n",
    "\n",
    "# fig.show()"
   ]
  },
  {
   "cell_type": "code",
   "execution_count": null,
   "metadata": {},
   "outputs": [],
   "source": []
  },
  {
   "cell_type": "code",
   "execution_count": null,
   "metadata": {},
   "outputs": [],
   "source": []
  },
  {
   "cell_type": "code",
   "execution_count": null,
   "metadata": {},
   "outputs": [],
   "source": []
  }
 ],
 "metadata": {
  "kernelspec": {
   "display_name": "Python 3",
   "language": "python",
   "name": "python3"
  },
  "language_info": {
   "codemirror_mode": {
    "name": "ipython",
    "version": 3
   },
   "file_extension": ".py",
   "mimetype": "text/x-python",
   "name": "python",
   "nbconvert_exporter": "python",
   "pygments_lexer": "ipython3",
   "version": "3.6.9"
  },
  "toc": {
   "base_numbering": 1,
   "nav_menu": {},
   "number_sections": true,
   "sideBar": true,
   "skip_h1_title": false,
   "title_cell": "Table of Contents",
   "title_sidebar": "Contents",
   "toc_cell": false,
   "toc_position": {},
   "toc_section_display": true,
   "toc_window_display": false
  },
  "varInspector": {
   "cols": {
    "lenName": 16,
    "lenType": 16,
    "lenVar": 40
   },
   "kernels_config": {
    "python": {
     "delete_cmd_postfix": "",
     "delete_cmd_prefix": "del ",
     "library": "var_list.py",
     "varRefreshCmd": "print(var_dic_list())"
    },
    "r": {
     "delete_cmd_postfix": ") ",
     "delete_cmd_prefix": "rm(",
     "library": "var_list.r",
     "varRefreshCmd": "cat(var_dic_list()) "
    }
   },
   "types_to_exclude": [
    "module",
    "function",
    "builtin_function_or_method",
    "instance",
    "_Feature"
   ],
   "window_display": false
  }
 },
 "nbformat": 4,
 "nbformat_minor": 4
}
