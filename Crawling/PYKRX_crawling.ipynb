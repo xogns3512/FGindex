{
 "cells": [
  {
   "cell_type": "code",
   "execution_count": 14,
   "metadata": {
    "ExecuteTime": {
     "end_time": "2022-10-17T01:43:10.193914Z",
     "start_time": "2022-10-17T01:43:10.189764Z"
    },
    "execution": {
     "iopub.execute_input": "2022-11-23T23:59:11.294059Z",
     "iopub.status.busy": "2022-11-23T23:59:11.293430Z",
     "iopub.status.idle": "2022-11-23T23:59:11.299595Z",
     "shell.execute_reply": "2022-11-23T23:59:11.298410Z",
     "shell.execute_reply.started": "2022-11-23T23:59:11.294005Z"
    },
    "tags": []
   },
   "outputs": [],
   "source": [
    "# !pip install pykrx"
   ]
  },
  {
   "cell_type": "code",
   "execution_count": 15,
   "metadata": {
    "ExecuteTime": {
     "end_time": "2022-10-20T02:35:11.188626Z",
     "start_time": "2022-10-20T02:35:10.804635Z"
    },
    "execution": {
     "iopub.execute_input": "2022-11-23T23:59:11.473559Z",
     "iopub.status.busy": "2022-11-23T23:59:11.473120Z",
     "iopub.status.idle": "2022-11-23T23:59:11.480414Z",
     "shell.execute_reply": "2022-11-23T23:59:11.478971Z",
     "shell.execute_reply.started": "2022-11-23T23:59:11.473504Z"
    },
    "tags": []
   },
   "outputs": [],
   "source": [
    "from pykrx import stock\n",
    "from pykrx import bond"
   ]
  },
  {
   "cell_type": "code",
   "execution_count": 16,
   "metadata": {
    "ExecuteTime": {
     "end_time": "2022-10-20T02:35:11.712476Z",
     "start_time": "2022-10-20T02:35:11.707360Z"
    },
    "execution": {
     "iopub.execute_input": "2022-11-23T23:59:11.651121Z",
     "iopub.status.busy": "2022-11-23T23:59:11.650700Z",
     "iopub.status.idle": "2022-11-23T23:59:11.657249Z",
     "shell.execute_reply": "2022-11-23T23:59:11.655944Z",
     "shell.execute_reply.started": "2022-11-23T23:59:11.651069Z"
    },
    "tags": []
   },
   "outputs": [],
   "source": [
    "import pandas as pd"
   ]
  },
  {
   "cell_type": "code",
   "execution_count": 17,
   "metadata": {
    "execution": {
     "iopub.execute_input": "2022-11-23T23:59:11.803554Z",
     "iopub.status.busy": "2022-11-23T23:59:11.803128Z",
     "iopub.status.idle": "2022-11-23T23:59:11.810203Z",
     "shell.execute_reply": "2022-11-23T23:59:11.808523Z",
     "shell.execute_reply.started": "2022-11-23T23:59:11.803502Z"
    },
    "tags": []
   },
   "outputs": [],
   "source": [
    "from datetime import date, timedelta"
   ]
  },
  {
   "cell_type": "markdown",
   "metadata": {},
   "source": [
    "# save data (index)"
   ]
  },
  {
   "cell_type": "markdown",
   "metadata": {},
   "source": [
    "- date parameter"
   ]
  },
  {
   "cell_type": "code",
   "execution_count": 18,
   "metadata": {
    "execution": {
     "iopub.execute_input": "2022-11-23T23:59:12.291592Z",
     "iopub.status.busy": "2022-11-23T23:59:12.291021Z",
     "iopub.status.idle": "2022-11-23T23:59:12.297489Z",
     "shell.execute_reply": "2022-11-23T23:59:12.296432Z",
     "shell.execute_reply.started": "2022-11-23T23:59:12.291536Z"
    },
    "tags": []
   },
   "outputs": [],
   "source": [
    "today = date.today()"
   ]
  },
  {
   "cell_type": "code",
   "execution_count": 19,
   "metadata": {
    "execution": {
     "iopub.execute_input": "2022-11-23T23:59:12.460439Z",
     "iopub.status.busy": "2022-11-23T23:59:12.459831Z",
     "iopub.status.idle": "2022-11-23T23:59:12.467115Z",
     "shell.execute_reply": "2022-11-23T23:59:12.465480Z",
     "shell.execute_reply.started": "2022-11-23T23:59:12.460383Z"
    },
    "tags": []
   },
   "outputs": [],
   "source": [
    "today = today - timedelta(days = 1)"
   ]
  },
  {
   "cell_type": "code",
   "execution_count": 20,
   "metadata": {
    "execution": {
     "iopub.execute_input": "2022-11-23T23:59:12.602082Z",
     "iopub.status.busy": "2022-11-23T23:59:12.601508Z",
     "iopub.status.idle": "2022-11-23T23:59:12.608717Z",
     "shell.execute_reply": "2022-11-23T23:59:12.607390Z",
     "shell.execute_reply.started": "2022-11-23T23:59:12.602029Z"
    },
    "tags": []
   },
   "outputs": [],
   "source": [
    "today_string = str(today.year) + str(today.month) + str(today.day)"
   ]
  },
  {
   "cell_type": "code",
   "execution_count": 21,
   "metadata": {
    "execution": {
     "iopub.execute_input": "2022-11-23T23:59:12.801539Z",
     "iopub.status.busy": "2022-11-23T23:59:12.801099Z",
     "iopub.status.idle": "2022-11-23T23:59:12.810265Z",
     "shell.execute_reply": "2022-11-23T23:59:12.809079Z",
     "shell.execute_reply.started": "2022-11-23T23:59:12.801484Z"
    },
    "tags": []
   },
   "outputs": [
    {
     "data": {
      "text/plain": [
       "'20221123'"
      ]
     },
     "execution_count": 21,
     "metadata": {},
     "output_type": "execute_result"
    }
   ],
   "source": [
    "today_string"
   ]
  },
  {
   "cell_type": "markdown",
   "metadata": {},
   "source": [
    "- crawling"
   ]
  },
  {
   "cell_type": "code",
   "execution_count": 22,
   "metadata": {
    "ExecuteTime": {
     "end_time": "2022-10-20T02:35:17.361373Z",
     "start_time": "2022-10-20T02:35:17.354938Z"
    },
    "execution": {
     "iopub.execute_input": "2022-11-23T23:59:13.338386Z",
     "iopub.status.busy": "2022-11-23T23:59:13.337938Z",
     "iopub.status.idle": "2022-11-23T23:59:13.349021Z",
     "shell.execute_reply": "2022-11-23T23:59:13.347402Z",
     "shell.execute_reply.started": "2022-11-23T23:59:13.338333Z"
    },
    "tags": []
   },
   "outputs": [],
   "source": [
    "stock_list = stock.get_index_ticker_list() + stock.get_index_ticker_list(market = \"KOSDAQ\")"
   ]
  },
  {
   "cell_type": "code",
   "execution_count": 23,
   "metadata": {
    "ExecuteTime": {
     "end_time": "2022-10-20T02:35:17.372078Z",
     "start_time": "2022-10-20T02:35:17.369532Z"
    },
    "execution": {
     "iopub.execute_input": "2022-11-23T23:59:13.662547Z",
     "iopub.status.busy": "2022-11-23T23:59:13.661940Z",
     "iopub.status.idle": "2022-11-24T00:00:45.247340Z",
     "shell.execute_reply": "2022-11-24T00:00:45.246440Z",
     "shell.execute_reply.started": "2022-11-23T23:59:13.662492Z"
    },
    "tags": []
   },
   "outputs": [],
   "source": [
    "for ticker in stock.get_index_ticker_list() + stock.get_index_ticker_list(market = \"KOSDAQ\"):\n",
    "    \n",
    "    df = stock.get_index_ohlcv(\"19000101\",today_string,ticker)\n",
    "    df.to_csv(\"../DATA/data_index/{}.csv\".format(ticker))\n",
    "    "
   ]
  },
  {
   "cell_type": "code",
   "execution_count": 11,
   "metadata": {
    "ExecuteTime": {
     "end_time": "2022-10-20T02:36:23.757422Z",
     "start_time": "2022-10-20T02:36:23.747888Z"
    },
    "execution": {
     "iopub.execute_input": "2022-11-23T00:11:19.844029Z",
     "iopub.status.busy": "2022-11-23T00:11:19.843866Z",
     "iopub.status.idle": "2022-11-23T00:11:19.847909Z",
     "shell.execute_reply": "2022-11-23T00:11:19.847119Z",
     "shell.execute_reply.started": "2022-11-23T00:11:19.844008Z"
    }
   },
   "outputs": [],
   "source": [
    "# list_name = []\n",
    "# for ticker in stock_list:\n",
    "#     list_name.append(stock.get_index_ticker_name(ticker))"
   ]
  },
  {
   "cell_type": "code",
   "execution_count": 12,
   "metadata": {
    "ExecuteTime": {
     "end_time": "2022-10-20T02:36:33.186448Z",
     "start_time": "2022-10-20T02:36:33.179433Z"
    },
    "execution": {
     "iopub.execute_input": "2022-11-23T00:11:19.849716Z",
     "iopub.status.busy": "2022-11-23T00:11:19.849465Z",
     "iopub.status.idle": "2022-11-23T00:11:19.853271Z",
     "shell.execute_reply": "2022-11-23T00:11:19.852370Z",
     "shell.execute_reply.started": "2022-11-23T00:11:19.849696Z"
    }
   },
   "outputs": [],
   "source": [
    "# print(list_name)"
   ]
  },
  {
   "cell_type": "code",
   "execution_count": 13,
   "metadata": {
    "ExecuteTime": {
     "end_time": "2022-10-17T01:45:09.268844Z",
     "start_time": "2022-10-17T01:45:09.225118Z"
    },
    "execution": {
     "iopub.execute_input": "2022-11-23T00:11:19.854575Z",
     "iopub.status.busy": "2022-11-23T00:11:19.854432Z",
     "iopub.status.idle": "2022-11-23T00:11:19.858427Z",
     "shell.execute_reply": "2022-11-23T00:11:19.857215Z",
     "shell.execute_reply.started": "2022-11-23T00:11:19.854556Z"
    }
   },
   "outputs": [],
   "source": [
    "# index_list = []\n",
    "# for ticker in stock_list:\n",
    "#     print(ticker, stock.get_index_ticker_name(ticker))\n",
    "#     index_list.append([ticker, stock.get_index_ticker_name(ticker)])"
   ]
  },
  {
   "cell_type": "code",
   "execution_count": null,
   "metadata": {},
   "outputs": [],
   "source": []
  }
 ],
 "metadata": {
  "kernelspec": {
   "display_name": "taehoon_py37",
   "language": "python",
   "name": "taehoon_py37"
  },
  "language_info": {
   "codemirror_mode": {
    "name": "ipython",
    "version": 3
   },
   "file_extension": ".py",
   "mimetype": "text/x-python",
   "name": "python",
   "nbconvert_exporter": "python",
   "pygments_lexer": "ipython3",
   "version": "3.7.15"
  },
  "toc": {
   "base_numbering": 1,
   "nav_menu": {},
   "number_sections": true,
   "sideBar": true,
   "skip_h1_title": false,
   "title_cell": "Table of Contents",
   "title_sidebar": "Contents",
   "toc_cell": false,
   "toc_position": {},
   "toc_section_display": true,
   "toc_window_display": false
  },
  "varInspector": {
   "cols": {
    "lenName": 16,
    "lenType": 16,
    "lenVar": 40
   },
   "kernels_config": {
    "python": {
     "delete_cmd_postfix": "",
     "delete_cmd_prefix": "del ",
     "library": "var_list.py",
     "varRefreshCmd": "print(var_dic_list())"
    },
    "r": {
     "delete_cmd_postfix": ") ",
     "delete_cmd_prefix": "rm(",
     "library": "var_list.r",
     "varRefreshCmd": "cat(var_dic_list()) "
    }
   },
   "types_to_exclude": [
    "module",
    "function",
    "builtin_function_or_method",
    "instance",
    "_Feature"
   ],
   "window_display": false
  }
 },
 "nbformat": 4,
 "nbformat_minor": 4
}
