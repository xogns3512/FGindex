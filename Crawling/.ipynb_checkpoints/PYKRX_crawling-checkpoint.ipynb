{
 "cells": [
  {
   "cell_type": "code",
   "execution_count": 20,
   "metadata": {
    "ExecuteTime": {
     "end_time": "2022-10-17T01:43:10.193914Z",
     "start_time": "2022-10-17T01:43:10.189764Z"
    },
    "execution": {
     "iopub.execute_input": "2022-11-21T15:52:41.451247Z",
     "iopub.status.busy": "2022-11-21T15:52:41.450217Z",
     "iopub.status.idle": "2022-11-21T15:52:41.458192Z",
     "shell.execute_reply": "2022-11-21T15:52:41.456759Z",
     "shell.execute_reply.started": "2022-11-21T15:52:41.450772Z"
    },
    "tags": []
   },
   "outputs": [],
   "source": [
    "# !pip install pykrx"
   ]
  },
  {
   "cell_type": "code",
   "execution_count": 21,
   "metadata": {
    "ExecuteTime": {
     "end_time": "2022-10-20T02:35:11.188626Z",
     "start_time": "2022-10-20T02:35:10.804635Z"
    },
    "execution": {
     "iopub.execute_input": "2022-11-21T15:52:41.621068Z",
     "iopub.status.busy": "2022-11-21T15:52:41.620614Z",
     "iopub.status.idle": "2022-11-21T15:52:41.627738Z",
     "shell.execute_reply": "2022-11-21T15:52:41.626299Z",
     "shell.execute_reply.started": "2022-11-21T15:52:41.621013Z"
    },
    "tags": []
   },
   "outputs": [],
   "source": [
    "from pykrx import stock\n",
    "from pykrx import bond"
   ]
  },
  {
   "cell_type": "code",
   "execution_count": 22,
   "metadata": {
    "ExecuteTime": {
     "end_time": "2022-10-20T02:35:11.712476Z",
     "start_time": "2022-10-20T02:35:11.707360Z"
    },
    "execution": {
     "iopub.execute_input": "2022-11-21T15:52:41.787571Z",
     "iopub.status.busy": "2022-11-21T15:52:41.787155Z",
     "iopub.status.idle": "2022-11-21T15:52:41.793966Z",
     "shell.execute_reply": "2022-11-21T15:52:41.792539Z",
     "shell.execute_reply.started": "2022-11-21T15:52:41.787518Z"
    },
    "tags": []
   },
   "outputs": [],
   "source": [
    "import pandas as pd"
   ]
  },
  {
   "cell_type": "code",
   "execution_count": 23,
   "metadata": {
    "execution": {
     "iopub.execute_input": "2022-11-21T15:52:41.983637Z",
     "iopub.status.busy": "2022-11-21T15:52:41.983202Z",
     "iopub.status.idle": "2022-11-21T15:52:41.990867Z",
     "shell.execute_reply": "2022-11-21T15:52:41.989237Z",
     "shell.execute_reply.started": "2022-11-21T15:52:41.983583Z"
    },
    "tags": []
   },
   "outputs": [],
   "source": [
    "from datetime import date, timedelta"
   ]
  },
  {
   "cell_type": "markdown",
   "metadata": {},
   "source": [
    "# save data (index)"
   ]
  },
  {
   "cell_type": "markdown",
   "metadata": {},
   "source": [
    "- date parameter"
   ]
  },
  {
   "cell_type": "code",
   "execution_count": 24,
   "metadata": {
    "execution": {
     "iopub.execute_input": "2022-11-21T15:52:42.475451Z",
     "iopub.status.busy": "2022-11-21T15:52:42.474844Z",
     "iopub.status.idle": "2022-11-21T15:52:42.481933Z",
     "shell.execute_reply": "2022-11-21T15:52:42.480341Z",
     "shell.execute_reply.started": "2022-11-21T15:52:42.475391Z"
    },
    "tags": []
   },
   "outputs": [],
   "source": [
    "today = date.today()"
   ]
  },
  {
   "cell_type": "code",
   "execution_count": 25,
   "metadata": {
    "execution": {
     "iopub.execute_input": "2022-11-21T15:52:42.662190Z",
     "iopub.status.busy": "2022-11-21T15:52:42.661736Z",
     "iopub.status.idle": "2022-11-21T15:52:42.669452Z",
     "shell.execute_reply": "2022-11-21T15:52:42.668009Z",
     "shell.execute_reply.started": "2022-11-21T15:52:42.662136Z"
    },
    "tags": []
   },
   "outputs": [],
   "source": [
    "today = today - timedelta(days = 1)"
   ]
  },
  {
   "cell_type": "code",
   "execution_count": 26,
   "metadata": {
    "execution": {
     "iopub.execute_input": "2022-11-21T15:52:42.835457Z",
     "iopub.status.busy": "2022-11-21T15:52:42.835045Z",
     "iopub.status.idle": "2022-11-21T15:52:42.842787Z",
     "shell.execute_reply": "2022-11-21T15:52:42.841129Z",
     "shell.execute_reply.started": "2022-11-21T15:52:42.835404Z"
    },
    "tags": []
   },
   "outputs": [],
   "source": [
    "today_string = str(today.year) + str(today.month) + str(today.day)"
   ]
  },
  {
   "cell_type": "code",
   "execution_count": 27,
   "metadata": {
    "execution": {
     "iopub.execute_input": "2022-11-21T15:52:43.014869Z",
     "iopub.status.busy": "2022-11-21T15:52:43.014294Z",
     "iopub.status.idle": "2022-11-21T15:52:43.024069Z",
     "shell.execute_reply": "2022-11-21T15:52:43.022600Z",
     "shell.execute_reply.started": "2022-11-21T15:52:43.014808Z"
    },
    "tags": []
   },
   "outputs": [
    {
     "data": {
      "text/plain": [
       "'20221121'"
      ]
     },
     "execution_count": 27,
     "metadata": {},
     "output_type": "execute_result"
    }
   ],
   "source": [
    "today_string"
   ]
  },
  {
   "cell_type": "markdown",
   "metadata": {},
   "source": [
    "- crawling"
   ]
  },
  {
   "cell_type": "code",
   "execution_count": 28,
   "metadata": {
    "ExecuteTime": {
     "end_time": "2022-10-20T02:35:17.361373Z",
     "start_time": "2022-10-20T02:35:17.354938Z"
    },
    "execution": {
     "iopub.execute_input": "2022-11-21T15:52:43.964203Z",
     "iopub.status.busy": "2022-11-21T15:52:43.963733Z",
     "iopub.status.idle": "2022-11-21T15:52:43.975280Z",
     "shell.execute_reply": "2022-11-21T15:52:43.973675Z",
     "shell.execute_reply.started": "2022-11-21T15:52:43.964147Z"
    },
    "tags": []
   },
   "outputs": [],
   "source": [
    "stock_list = stock.get_index_ticker_list() + stock.get_index_ticker_list(market = \"KOSDAQ\")"
   ]
  },
  {
   "cell_type": "code",
   "execution_count": 29,
   "metadata": {
    "ExecuteTime": {
     "end_time": "2022-10-20T02:35:17.372078Z",
     "start_time": "2022-10-20T02:35:17.369532Z"
    },
    "execution": {
     "iopub.execute_input": "2022-11-21T15:52:44.626583Z",
     "iopub.status.busy": "2022-11-21T15:52:44.626118Z",
     "iopub.status.idle": "2022-11-21T15:54:21.644482Z",
     "shell.execute_reply": "2022-11-21T15:54:21.643255Z",
     "shell.execute_reply.started": "2022-11-21T15:52:44.626527Z"
    },
    "tags": []
   },
   "outputs": [],
   "source": [
    "for ticker in stock.get_index_ticker_list() + stock.get_index_ticker_list(market = \"KOSDAQ\"):\n",
    "    \n",
    "    df = stock.get_index_ohlcv(\"19000101\",today_string,ticker)\n",
    "    df.to_csv(\"../DATA/data_index/{}.csv\".format(ticker))\n",
    "    "
   ]
  },
  {
   "cell_type": "code",
   "execution_count": 8,
   "metadata": {
    "ExecuteTime": {
     "end_time": "2022-10-20T02:36:23.757422Z",
     "start_time": "2022-10-20T02:36:23.747888Z"
    }
   },
   "outputs": [],
   "source": [
    "# list_name = []\n",
    "# for ticker in stock_list:\n",
    "#     list_name.append(stock.get_index_ticker_name(ticker))"
   ]
  },
  {
   "cell_type": "code",
   "execution_count": 10,
   "metadata": {
    "ExecuteTime": {
     "end_time": "2022-10-20T02:36:33.186448Z",
     "start_time": "2022-10-20T02:36:33.179433Z"
    }
   },
   "outputs": [
    {
     "name": "stdout",
     "output_type": "stream",
     "text": [
      "['코스피', '코스피 대형주', '코스피 중형주', '코스피 소형주', '음식료품', '섬유의복', '종이목재', '화학', '의약품', '비금속광물', '철강금속', '기계', '전기전자', '의료정밀', '운수장비', '유통업', '전기가스업', '건설업', '운수창고업', '통신업', '금융업', '', '증권', '보험', '서비스업', '제조업', '코스피 200', '코스피 100', '코스피 50', '코스피 200 커뮤니케이션서비스', '코스피 200 건설', '코스피 200 중공업', '코스피 200 철강/소재', '코스피 200 에너지/화학', '코스피 200 정보기술', '코스피 200 금융', '코스피 200 생활소비재', '코스피 200 경기소비재', '코스피 200 산업재', '코스피 200 헬스케어', '코스피 200 중소형주', '코스피 200 초대형제외 지수', '코스피 200 비중상한 30%', '코스피 200 비중상한 25%', '코스피 200 비중상한 20%', '코스피200제외 코스피지수', '코스피 200 TOP 10', '코스닥', '코스닥 대형주', '코스닥 중형주', '코스닥 소형주', '기타서비스', '코스닥 IT', '제조업', '건설', '유통', '운송', '금융', '오락·문화', '통신방송서비스', 'IT S/W & SVC', 'IT H/W', '음식료·담배', '섬유·의류', '종이·목재', '출판·매체복제', '화학', '제약', '비금속', '금속', '기계·장비', '일반전기전자', '의료·정밀기기', '운송장비·부품', '기타제조', '통신서비스', '방송서비스', '인터넷', '디지털컨텐츠', '소프트웨어', '컴퓨터서비스', '통신장비', '정보기기', '반도체', 'IT부품', '코스닥 우량기업부', '코스닥 벤처기업부', '코스닥 중견기업부', '코스닥 기술성장기업부', '코스닥 150', '코스닥 150 소재', '코스닥 150 산업재', '코스닥 150 필수소비재', '코스닥 150 자유소비재', '코스닥 150 정보기술', '코스닥 150 헬스케어', '코스닥 150 커뮤니케이션서비스']\n"
     ]
    }
   ],
   "source": [
    "# print(list_name)"
   ]
  },
  {
   "cell_type": "code",
   "execution_count": 5,
   "metadata": {
    "ExecuteTime": {
     "end_time": "2022-10-17T01:45:09.268844Z",
     "start_time": "2022-10-17T01:45:09.225118Z"
    }
   },
   "outputs": [
    {
     "name": "stdout",
     "output_type": "stream",
     "text": [
      "1001 코스피\n",
      "1002 코스피 대형주\n",
      "1003 코스피 중형주\n",
      "1004 코스피 소형주\n",
      "1005 음식료품\n",
      "1006 섬유의복\n",
      "1007 종이목재\n",
      "1008 화학\n",
      "1009 의약품\n",
      "1010 비금속광물\n",
      "1011 철강금속\n",
      "1012 기계\n",
      "1013 전기전자\n",
      "1014 의료정밀\n",
      "1015 운수장비\n",
      "1016 유통업\n",
      "1017 전기가스업\n",
      "1018 건설업\n",
      "1019 운수창고업\n",
      "1020 통신업\n",
      "1021 금융업\n",
      "1022 \n",
      "1024 증권\n",
      "1025 보험\n",
      "1026 서비스업\n",
      "1027 제조업\n",
      "1028 코스피 200\n",
      "1034 코스피 100\n",
      "1035 코스피 50\n",
      "1150 코스피 200 커뮤니케이션서비스\n",
      "1151 코스피 200 건설\n",
      "1152 코스피 200 중공업\n",
      "1153 코스피 200 철강/소재\n",
      "1154 코스피 200 에너지/화학\n",
      "1155 코스피 200 정보기술\n",
      "1156 코스피 200 금융\n",
      "1157 코스피 200 생활소비재\n",
      "1158 코스피 200 경기소비재\n",
      "1159 코스피 200 산업재\n",
      "1160 코스피 200 헬스케어\n",
      "1167 코스피 200 중소형주\n",
      "1182 코스피 200 초대형제외 지수\n",
      "1224 코스피 200 비중상한 30%\n",
      "1227 코스피 200 비중상한 25%\n",
      "1232 코스피 200 비중상한 20%\n",
      "1244 코스피200제외 코스피지수\n",
      "1894 코스피 200 TOP 10\n",
      "2001 코스닥\n",
      "2002 코스닥 대형주\n",
      "2003 코스닥 중형주\n",
      "2004 코스닥 소형주\n",
      "2012 기타서비스\n",
      "2015 코스닥 IT\n",
      "2024 제조업\n",
      "2026 건설\n",
      "2027 유통\n",
      "2029 운송\n",
      "2031 금융\n",
      "2037 오락·문화\n",
      "2041 통신방송서비스\n",
      "2042 IT S/W & SVC\n",
      "2043 IT H/W\n",
      "2056 음식료·담배\n",
      "2058 섬유·의류\n",
      "2062 종이·목재\n",
      "2063 출판·매체복제\n",
      "2065 화학\n",
      "2066 제약\n",
      "2067 비금속\n",
      "2068 금속\n",
      "2070 기계·장비\n",
      "2072 일반전기전자\n",
      "2074 의료·정밀기기\n",
      "2075 운송장비·부품\n",
      "2077 기타제조\n",
      "2151 통신서비스\n",
      "2152 방송서비스\n",
      "2153 인터넷\n",
      "2154 디지털컨텐츠\n",
      "2155 소프트웨어\n",
      "2156 컴퓨터서비스\n",
      "2157 통신장비\n",
      "2158 정보기기\n",
      "2159 반도체\n",
      "2160 IT부품\n",
      "2181 코스닥 우량기업부\n",
      "2182 코스닥 벤처기업부\n",
      "2183 코스닥 중견기업부\n",
      "2184 코스닥 기술성장기업부\n",
      "2203 코스닥 150\n",
      "2212 코스닥 150 소재\n",
      "2213 코스닥 150 산업재\n",
      "2214 코스닥 150 필수소비재\n",
      "2215 코스닥 150 자유소비재\n",
      "2216 코스닥 150 정보기술\n",
      "2217 코스닥 150 헬스케어\n",
      "2218 코스닥 150 커뮤니케이션서비스\n"
     ]
    }
   ],
   "source": [
    "# index_list = []\n",
    "# for ticker in stock_list:\n",
    "#     print(ticker, stock.get_index_ticker_name(ticker))\n",
    "#     index_list.append([ticker, stock.get_index_ticker_name(ticker)])"
   ]
  },
  {
   "cell_type": "code",
   "execution_count": null,
   "metadata": {},
   "outputs": [],
   "source": []
  }
 ],
 "metadata": {
  "kernelspec": {
   "display_name": "taehoon_py37",
   "language": "python",
   "name": "taehoon_py37"
  },
  "language_info": {
   "codemirror_mode": {
    "name": "ipython",
    "version": 3
   },
   "file_extension": ".py",
   "mimetype": "text/x-python",
   "name": "python",
   "nbconvert_exporter": "python",
   "pygments_lexer": "ipython3",
   "version": "3.7.15"
  },
  "toc": {
   "base_numbering": 1,
   "nav_menu": {},
   "number_sections": true,
   "sideBar": true,
   "skip_h1_title": false,
   "title_cell": "Table of Contents",
   "title_sidebar": "Contents",
   "toc_cell": false,
   "toc_position": {},
   "toc_section_display": true,
   "toc_window_display": false
  },
  "varInspector": {
   "cols": {
    "lenName": 16,
    "lenType": 16,
    "lenVar": 40
   },
   "kernels_config": {
    "python": {
     "delete_cmd_postfix": "",
     "delete_cmd_prefix": "del ",
     "library": "var_list.py",
     "varRefreshCmd": "print(var_dic_list())"
    },
    "r": {
     "delete_cmd_postfix": ") ",
     "delete_cmd_prefix": "rm(",
     "library": "var_list.r",
     "varRefreshCmd": "cat(var_dic_list()) "
    }
   },
   "types_to_exclude": [
    "module",
    "function",
    "builtin_function_or_method",
    "instance",
    "_Feature"
   ],
   "window_display": false
  }
 },
 "nbformat": 4,
 "nbformat_minor": 4
}
